{
 "cells": [
  {
   "cell_type": "code",
   "execution_count": 1,
   "id": "69938cfc-3188-4458-bdc1-87d87d9e9380",
   "metadata": {},
   "outputs": [],
   "source": [
    "from pathlib import Path\n",
    "import pickle"
   ]
  },
  {
   "cell_type": "code",
   "execution_count": 2,
   "id": "e2214d3e-f7cf-4e6d-840e-70f35f7ce311",
   "metadata": {},
   "outputs": [],
   "source": [
    "import numpy as np\n",
    "import pandas as pd"
   ]
  },
  {
   "cell_type": "code",
   "execution_count": 3,
   "id": "0a0c4438-e0cc-44db-b04a-7f0f9c01f14a",
   "metadata": {},
   "outputs": [],
   "source": [
    "import gpflow\n",
    "import tensorflow as tf"
   ]
  },
  {
   "cell_type": "code",
   "execution_count": 4,
   "id": "77493d54-0a7c-474d-b20a-00b94755a984",
   "metadata": {},
   "outputs": [],
   "source": [
    "import casadi as cs"
   ]
  },
  {
   "cell_type": "code",
   "execution_count": 5,
   "id": "ff16257e-e721-4798-beb9-d7927cb658f8",
   "metadata": {},
   "outputs": [],
   "source": [
    "import matplotlib.pyplot as plt"
   ]
  },
  {
   "cell_type": "code",
   "execution_count": 7,
   "id": "0688ff0a-d6e8-45a8-b03a-f8e875d987b2",
   "metadata": {},
   "outputs": [
    {
     "ename": "SyntaxError",
     "evalue": "invalid syntax (<ipython-input-7-004fb9cd5ffa>, line 1)",
     "output_type": "error",
     "traceback": [
      "\u001b[0;36m  File \u001b[0;32m\"<ipython-input-7-004fb9cd5ffa>\"\u001b[0;36m, line \u001b[0;32m1\u001b[0m\n\u001b[0;31m    from ./../server_implementation/controllers import GP_MPCcontroller\u001b[0m\n\u001b[0m          ^\u001b[0m\n\u001b[0;31mSyntaxError\u001b[0m\u001b[0;31m:\u001b[0m invalid syntax\n"
     ]
    }
   ],
   "source": [
    "from ./../server_implementation/controllers import GP_MPCcontroller"
   ]
  },
  {
   "cell_type": "code",
   "execution_count": null,
   "id": "e44ecaf3-b9ac-473c-a088-551648d69322",
   "metadata": {},
   "outputs": [],
   "source": []
  }
 ],
 "metadata": {
  "kernelspec": {
   "display_name": "Python 3",
   "language": "python",
   "name": "python3"
  },
  "language_info": {
   "codemirror_mode": {
    "name": "ipython",
    "version": 3
   },
   "file_extension": ".py",
   "mimetype": "text/x-python",
   "name": "python",
   "nbconvert_exporter": "python",
   "pygments_lexer": "ipython3",
   "version": "3.9.4"
  }
 },
 "nbformat": 4,
 "nbformat_minor": 5
}
