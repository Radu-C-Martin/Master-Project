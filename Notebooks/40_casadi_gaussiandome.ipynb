{
 "cells": [
  {
   "cell_type": "code",
   "execution_count": 1,
   "metadata": {},
   "outputs": [],
   "source": [
    "from pathlib import Path\n",
    "import pickle"
   ]
  },
  {
   "cell_type": "code",
   "execution_count": 2,
   "metadata": {},
   "outputs": [],
   "source": [
    "import numpy as np\n",
    "import pandas as pd"
   ]
  },
  {
   "cell_type": "code",
   "execution_count": 3,
   "metadata": {},
   "outputs": [],
   "source": [
    "import gpflow\n",
    "import tensorflow as tf"
   ]
  },
  {
   "cell_type": "code",
   "execution_count": 4,
   "metadata": {},
   "outputs": [],
   "source": [
    "from gpflow.utilities import print_summary"
   ]
  },
  {
   "cell_type": "code",
   "execution_count": 5,
   "metadata": {},
   "outputs": [],
   "source": [
    "import matplotlib.pyplot as plt"
   ]
  },
  {
   "cell_type": "code",
   "execution_count": 6,
   "metadata": {},
   "outputs": [],
   "source": [
    "import casadi"
   ]
  },
  {
   "cell_type": "markdown",
   "metadata": {},
   "source": [
    "## Load the existing GP model"
   ]
  },
  {
   "cell_type": "code",
   "execution_count": 7,
   "metadata": {},
   "outputs": [
    {
     "ename": "FileNotFoundError",
     "evalue": "[Errno 2] No such file or directory: 'gp_trainset.pkl'",
     "output_type": "error",
     "traceback": [
      "\u001b[0;31m---------------------------------------------------------------------------\u001b[0m",
      "\u001b[0;31mFileNotFoundError\u001b[0m                         Traceback (most recent call last)",
      "\u001b[0;32m<ipython-input-7-487b5e6e20b3>\u001b[0m in \u001b[0;36m<module>\u001b[0;34m\u001b[0m\n\u001b[0;32m----> 1\u001b[0;31m \u001b[0mdf_sampled\u001b[0m \u001b[0;34m=\u001b[0m \u001b[0mpd\u001b[0m\u001b[0;34m.\u001b[0m\u001b[0mread_pickle\u001b[0m\u001b[0;34m(\u001b[0m\u001b[0;34m\"gp_trainset.pkl\"\u001b[0m\u001b[0;34m)\u001b[0m\u001b[0;34m\u001b[0m\u001b[0;34m\u001b[0m\u001b[0m\n\u001b[0m",
      "\u001b[0;32m/usr/lib/python3.9/site-packages/pandas/io/pickle.py\u001b[0m in \u001b[0;36mread_pickle\u001b[0;34m(filepath_or_buffer, compression, storage_options)\u001b[0m\n\u001b[1;32m    183\u001b[0m     \"\"\"\n\u001b[1;32m    184\u001b[0m     \u001b[0mexcs_to_catch\u001b[0m \u001b[0;34m=\u001b[0m \u001b[0;34m(\u001b[0m\u001b[0mAttributeError\u001b[0m\u001b[0;34m,\u001b[0m \u001b[0mImportError\u001b[0m\u001b[0;34m,\u001b[0m \u001b[0mModuleNotFoundError\u001b[0m\u001b[0;34m,\u001b[0m \u001b[0mTypeError\u001b[0m\u001b[0;34m)\u001b[0m\u001b[0;34m\u001b[0m\u001b[0;34m\u001b[0m\u001b[0m\n\u001b[0;32m--> 185\u001b[0;31m     with get_handle(\n\u001b[0m\u001b[1;32m    186\u001b[0m         \u001b[0mfilepath_or_buffer\u001b[0m\u001b[0;34m,\u001b[0m\u001b[0;34m\u001b[0m\u001b[0;34m\u001b[0m\u001b[0m\n\u001b[1;32m    187\u001b[0m         \u001b[0;34m\"rb\"\u001b[0m\u001b[0;34m,\u001b[0m\u001b[0;34m\u001b[0m\u001b[0;34m\u001b[0m\u001b[0m\n",
      "\u001b[0;32m/usr/lib/python3.9/site-packages/pandas/io/common.py\u001b[0m in \u001b[0;36mget_handle\u001b[0;34m(path_or_buf, mode, encoding, compression, memory_map, is_text, errors, storage_options)\u001b[0m\n\u001b[1;32m    649\u001b[0m         \u001b[0;32melse\u001b[0m\u001b[0;34m:\u001b[0m\u001b[0;34m\u001b[0m\u001b[0;34m\u001b[0m\u001b[0m\n\u001b[1;32m    650\u001b[0m             \u001b[0;31m# Binary mode\u001b[0m\u001b[0;34m\u001b[0m\u001b[0;34m\u001b[0m\u001b[0;34m\u001b[0m\u001b[0m\n\u001b[0;32m--> 651\u001b[0;31m             \u001b[0mhandle\u001b[0m \u001b[0;34m=\u001b[0m \u001b[0mopen\u001b[0m\u001b[0;34m(\u001b[0m\u001b[0mhandle\u001b[0m\u001b[0;34m,\u001b[0m \u001b[0mioargs\u001b[0m\u001b[0;34m.\u001b[0m\u001b[0mmode\u001b[0m\u001b[0;34m)\u001b[0m\u001b[0;34m\u001b[0m\u001b[0;34m\u001b[0m\u001b[0m\n\u001b[0m\u001b[1;32m    652\u001b[0m         \u001b[0mhandles\u001b[0m\u001b[0;34m.\u001b[0m\u001b[0mappend\u001b[0m\u001b[0;34m(\u001b[0m\u001b[0mhandle\u001b[0m\u001b[0;34m)\u001b[0m\u001b[0;34m\u001b[0m\u001b[0;34m\u001b[0m\u001b[0m\n\u001b[1;32m    653\u001b[0m \u001b[0;34m\u001b[0m\u001b[0m\n",
      "\u001b[0;31mFileNotFoundError\u001b[0m: [Errno 2] No such file or directory: 'gp_trainset.pkl'"
     ]
    }
   ],
   "source": [
    "df_sampled = pd.read_pickle(\"gp_trainset.pkl\")"
   ]
  },
  {
   "cell_type": "code",
   "execution_count": 9,
   "metadata": {},
   "outputs": [],
   "source": [
    "x_scaler = pickle.load(open('x_scaler.pkl', 'rb'))"
   ]
  },
  {
   "cell_type": "code",
   "execution_count": 10,
   "metadata": {},
   "outputs": [],
   "source": [
    "df_input = df_sampled.drop(columns = ['y'])\n",
    "df_output = df_sampled['y']"
   ]
  },
  {
   "cell_type": "code",
   "execution_count": 11,
   "metadata": {},
   "outputs": [],
   "source": [
    "np_input = df_input.to_numpy()\n",
    "np_output = df_output.to_numpy().reshape(-1, 1)"
   ]
  },
  {
   "cell_type": "code",
   "execution_count": 12,
   "metadata": {},
   "outputs": [],
   "source": [
    "np_input_sc = x_scaler.transform(np_input)"
   ]
  },
  {
   "cell_type": "code",
   "execution_count": 13,
   "metadata": {},
   "outputs": [],
   "source": [
    "n_states = np_input_sc.shape[1]"
   ]
  },
  {
   "cell_type": "code",
   "execution_count": 14,
   "metadata": {},
   "outputs": [
    {
     "name": "stdout",
     "output_type": "stream",
     "text": [
      "╒═════════════════════════════╤═══════════╤═════════════╤═════════╤═════════════╤═════════╤═════════╤════════════════╕\n",
      "│ name                        │ class     │ transform   │ prior   │ trainable   │ shape   │ dtype   │ value          │\n",
      "╞═════════════════════════════╪═══════════╪═════════════╪═════════╪═════════════╪═════════╪═════════╪════════════════╡\n",
      "│ Sum.kernels[0].variance     │ Parameter │ Softplus    │         │ True        │ ()      │ float64 │ 1.0            │\n",
      "├─────────────────────────────┼───────────┼─────────────┼─────────┼─────────────┼─────────┼─────────┼────────────────┤\n",
      "│ Sum.kernels[0].lengthscales │ Parameter │ Softplus    │         │ True        │ (7,)    │ float64 │ [1., 1., 1.... │\n",
      "├─────────────────────────────┼───────────┼─────────────┼─────────┼─────────────┼─────────┼─────────┼────────────────┤\n",
      "│ Sum.kernels[1].variance     │ Parameter │ Softplus    │         │ True        │ ()      │ float64 │ 1.0            │\n",
      "╘═════════════════════════════╧═══════════╧═════════════╧═════════╧═════════════╧═════════╧═════════╧════════════════╛\n"
     ]
    }
   ],
   "source": [
    "k = gpflow.kernels.SquaredExponential(lengthscales=([1] * np_input.shape[1])) + gpflow.kernels.Constant()\n",
    "print_summary(k)"
   ]
  },
  {
   "cell_type": "code",
   "execution_count": 15,
   "metadata": {},
   "outputs": [
    {
     "name": "stdout",
     "output_type": "stream",
     "text": [
      "╒════════════════════════════════════╤═══════════╤══════════════════╤═════════╤═════════════╤═════════╤═════════╤════════════════╕\n",
      "│ name                               │ class     │ transform        │ prior   │ trainable   │ shape   │ dtype   │ value          │\n",
      "╞════════════════════════════════════╪═══════════╪══════════════════╪═════════╪═════════════╪═════════╪═════════╪════════════════╡\n",
      "│ GPR.kernel.kernels[0].variance     │ Parameter │ Softplus         │         │ True        │ ()      │ float64 │ 1.0            │\n",
      "├────────────────────────────────────┼───────────┼──────────────────┼─────────┼─────────────┼─────────┼─────────┼────────────────┤\n",
      "│ GPR.kernel.kernels[0].lengthscales │ Parameter │ Softplus         │         │ True        │ (7,)    │ float64 │ [1., 1., 1.... │\n",
      "├────────────────────────────────────┼───────────┼──────────────────┼─────────┼─────────────┼─────────┼─────────┼────────────────┤\n",
      "│ GPR.kernel.kernels[1].variance     │ Parameter │ Softplus         │         │ True        │ ()      │ float64 │ 1.0            │\n",
      "├────────────────────────────────────┼───────────┼──────────────────┼─────────┼─────────────┼─────────┼─────────┼────────────────┤\n",
      "│ GPR.likelihood.variance            │ Parameter │ Softplus + Shift │         │ True        │ ()      │ float64 │ 1.0            │\n",
      "╘════════════════════════════════════╧═══════════╧══════════════════╧═════════╧═════════════╧═════════╧═════════╧════════════════╛\n"
     ]
    }
   ],
   "source": [
    "model = gpflow.models.GPR(\n",
    "    data = (np_input_sc, np_output), \n",
    "    kernel = k, \n",
    "    mean_function = None\n",
    "    )\n",
    "print_summary(model)"
   ]
  },
  {
   "cell_type": "code",
   "execution_count": 16,
   "metadata": {},
   "outputs": [],
   "source": [
    "model_params_loaded = pickle.load(open(Path(Path.cwd(), 'gp_params.gpf'), 'rb'))"
   ]
  },
  {
   "cell_type": "code",
   "execution_count": 17,
   "metadata": {},
   "outputs": [],
   "source": [
    "gpflow.utilities.multiple_assign(model, model_params_loaded)"
   ]
  },
  {
   "cell_type": "code",
   "execution_count": 18,
   "metadata": {},
   "outputs": [],
   "source": [
    "## Load the test experimental data"
   ]
  },
  {
   "cell_type": "code",
   "execution_count": 19,
   "metadata": {},
   "outputs": [],
   "source": [
    "def load_autoregressive_df(exp_id, lu = 1, ly = 3):\n",
    "    \n",
    "    df_wdb = pd.read_pickle(f\"../Data/Experimental_python/Exp{exp_id}_WDB.pkl\")\n",
    "    \n",
    "    df_carnot = pd.read_pickle(f\"../Data/CARNOT_output/Exp{exp_id}_full.pkl\")\n",
    "    df_data = df_carnot.loc[:, ['Power', 'Heat', 'Setpoint', 'OutsideTemp', 'SupplyTemp', 'InsideTemp', 'SolRad']]\n",
    "    df_simulated = df_carnot.loc[:, 'SimulatedTemp']\n",
    "\n",
    "    df = pd.concat([df_wdb, df_data.reset_index(), df_simulated.reset_index()], axis = 1)\n",
    "\n",
    "    df = df.loc[:,~df.columns.duplicated()]\n",
    "    \n",
    "    # Select the potentially useful columns\n",
    "    #df = df.loc[:, ['timestamp', 'zenith', 'azimuth', 'dni', 'dhi', 'OutsideTemp', 'Power', 'InsideTemp', 'SolRad', 'Setpoint']]\n",
    "    df = df.loc[:, ['timestamp','SolRad', 'OutsideTemp', 'Heat', 'InsideTemp']]\n",
    "\n",
    "    df.drop(columns = ['timestamp'], inplace = True)\n",
    "    df.loc[:, 'timestamp'] = df_data.index\n",
    "    df.set_index('timestamp', drop = True, inplace = True)\n",
    "    \n",
    "    # Select the input/output and drop the columns that doesn't make to be used\n",
    "    dyn_in = 'Heat'\n",
    "    dyn_out = 'InsideTemp'    \n",
    "    df.rename(columns = {dyn_in: 'u', dyn_out: 'y'}, inplace = True)\n",
    "\n",
    "    # Add the regressive inputs/outputs\n",
    "    for idx in range(1, lu + 1):\n",
    "        df[f\"u_{idx}\"] = df['u'].shift(idx)\n",
    "        \n",
    "    for idx in range(1, ly + 1):\n",
    "        df[f\"y_{idx}\"] = df['y'].shift(idx)\n",
    "        \n",
    "    # Since some lines now have holes, drop them\n",
    "    df.dropna(inplace = True)\n",
    "    \n",
    "    return df"
   ]
  },
  {
   "cell_type": "code",
   "execution_count": 20,
   "metadata": {},
   "outputs": [],
   "source": [
    "test_day = 5 # can be either 3 or 5 since \n",
    "df_test = load_autoregressive_df(test_day)\n",
    "np_test_in = df_test.drop(columns = ['y']).to_numpy()\n",
    "np_test_in_sc = x_scaler.transform(np_test_in)\n",
    "np_test_out = df_test['y'].to_numpy().reshape(-1, 1)"
   ]
  },
  {
   "cell_type": "code",
   "execution_count": 21,
   "metadata": {},
   "outputs": [
    {
     "data": {
      "image/png": "[encoded data removed]",
      "text/plain": [
       "<Figure size 1440x360 with 1 Axes>"
      ]
     },
     "metadata": {
      "needs_background": "light"
     },
     "output_type": "display_data"
    }
   ],
   "source": [
    "## generate test points for prediction\n",
    "xx = x_scaler.transform(np_test_in)\n",
    "\n",
    "## predict mean and variance of latent GP at test points\n",
    "mean, var = model.predict_f(xx)\n",
    "\n",
    "## generate 10 samples from posterior\n",
    "tf.random.set_seed(1)  # for reproducibility\n",
    "samples = model.predict_f_samples(xx, 10)  # shape (10, 100, 1)\n",
    "\n",
    "## plot\n",
    "plt.figure(figsize=(20, 5))\n",
    "plt.title('Posterior sample functions')\n",
    "plt.plot(df_test.index, mean, \"C0\", lw=2)\n",
    "plt.fill_between(\n",
    "    df_test.index,\n",
    "    mean[:, 0] - 1.96 * np.sqrt(var[:, 0]),\n",
    "    mean[:, 0] + 1.96 * np.sqrt(var[:, 0]),\n",
    "    color=\"C0\",\n",
    "    alpha=0.2,\n",
    ")\n",
    "#plt.plot(df_test.index, samples[:, :, 0].numpy().T, \"C0\", linewidth=0.5)\n",
    "#plt.plot(df_test.index, np_test_out[:, :], ':', color = 'darkorange', lw = 2)\n",
    "#_ = plt.ylim(21, 23.5)\n",
    "plt.show()"
   ]
  },
  {
   "cell_type": "code",
   "execution_count": 22,
   "metadata": {},
   "outputs": [],
   "source": [
    "# Package the resulting regression model in a CasADi callback\n",
    "class GPR(casadi.Callback):\n",
    "  def __init__(self, name,  opts={}):\n",
    "    casadi.Callback.__init__(self)\n",
    "    self.construct(name, opts)\n",
    "    \n",
    "  # Number of inputs and outputs\n",
    "  def get_n_in(self): return 1\n",
    "  def get_n_out(self): return 1\n",
    "\n",
    "  def get_sparsity_in(self,i):\n",
    "      return casadi.Sparsity.dense(n_states,1)\n",
    "\n",
    "  def eval(self, arg):\n",
    "    x_scaled = x_scaler.transform(np.array(arg[0]).reshape(1, -1))\n",
    "    [mean, _] = model.predict_y(x_scaled)\n",
    "    return [mean.numpy()]"
   ]
  },
  {
   "cell_type": "code",
   "execution_count": 23,
   "metadata": {},
   "outputs": [
    {
     "name": "stdout",
     "output_type": "stream",
     "text": [
      "GPR:(i0[7])->(o0) CallbackInternal\n"
     ]
    }
   ],
   "source": [
    "# Instantiate the Callback (make sure to keep a reference to it!)\n",
    "gpr = GPR('GPR', {\"enable_fd\":True})\n",
    "print(gpr)"
   ]
  },
  {
   "cell_type": "code",
   "execution_count": 24,
   "metadata": {},
   "outputs": [],
   "source": [
    "## CasADi optimization problem"
   ]
  },
  {
   "cell_type": "code",
   "execution_count": 25,
   "metadata": {},
   "outputs": [],
   "source": [
    "T_set = 20\n",
    "N_horizon = 10"
   ]
  },
  {
   "cell_type": "markdown",
   "metadata": {},
   "source": [
    "## Test area"
   ]
  },
  {
   "cell_type": "code",
   "execution_count": 126,
   "metadata": {},
   "outputs": [],
   "source": [
    "X = casadi.MX.sym(\"X\", N_horizon, n_states)\n",
    "W = casadi.MX.sym(\"W\", N_horizon, 2)\n",
    "x0_lags = casadi.MX.sym(\"lags\", 1, n_states - 3)"
   ]
  },
  {
   "cell_type": "code",
   "execution_count": 127,
   "metadata": {},
   "outputs": [],
   "source": [
    "# Impose initial lags"
   ]
  },
  {
   "cell_type": "code",
   "execution_count": 128,
   "metadata": {},
   "outputs": [],
   "source": [
    "g = casadi.vec(X[0,3:] - x0_lags)"
   ]
  },
  {
   "cell_type": "code",
   "execution_count": 129,
   "metadata": {},
   "outputs": [],
   "source": [
    "# Impose disturbances"
   ]
  },
  {
   "cell_type": "code",
   "execution_count": 130,
   "metadata": {},
   "outputs": [],
   "source": [
    "g = casadi.vertcat(\n",
    "    g,\n",
    "    casadi.vec(X[:, :2] - W)\n",
    ")"
   ]
  },
  {
   "cell_type": "code",
   "execution_count": 131,
   "metadata": {},
   "outputs": [
    {
     "data": {
      "text/plain": [
       "(24, 1)"
      ]
     },
     "execution_count": 131,
     "metadata": {},
     "output_type": "execute_result"
    }
   ],
   "source": [
    "g.shape"
   ]
  },
  {
   "cell_type": "code",
   "execution_count": 132,
   "metadata": {},
   "outputs": [],
   "source": [
    "# Calculate objective\n",
    "J = 0\n",
    "for idx in range(N_horizon):\n",
    "    J += casadi.norm_2(gpr(X[0,:]) - T_set)"
   ]
  },
  {
   "cell_type": "code",
   "execution_count": 133,
   "metadata": {},
   "outputs": [],
   "source": [
    "# Impose lags\n",
    "for idx in range(1, N_horizon):\n",
    "    g = casadi.vertcat(\n",
    "        g,\n",
    "        X[idx, 3] - X[idx-1, 2],\n",
    "        X[idx, 4] - gpr(X[idx-1,:]),\n",
    "        X[idx, 5] - X[idx-1, 4],\n",
    "        X[idx, 6] - X[idx-1, 5]\n",
    "    )"
   ]
  },
  {
   "cell_type": "code",
   "execution_count": 134,
   "metadata": {},
   "outputs": [
    {
     "data": {
      "text/plain": [
       "(60, 1)"
      ]
     },
     "execution_count": 134,
     "metadata": {},
     "output_type": "execute_result"
    }
   ],
   "source": [
    "g.shape"
   ]
  },
  {
   "cell_type": "code",
   "execution_count": 135,
   "metadata": {},
   "outputs": [],
   "source": [
    "# Impose input inequality constraints"
   ]
  },
  {
   "cell_type": "code",
   "execution_count": 136,
   "metadata": {},
   "outputs": [],
   "source": [
    "g = casadi.vertcat(\n",
    "    g,\n",
    "    X[:, 2]\n",
    ")"
   ]
  },
  {
   "cell_type": "code",
   "execution_count": 137,
   "metadata": {},
   "outputs": [
    {
     "data": {
      "text/plain": [
       "(70, 1)"
      ]
     },
     "execution_count": 137,
     "metadata": {},
     "output_type": "execute_result"
    }
   ],
   "source": [
    "g.shape"
   ]
  },
  {
   "cell_type": "code",
   "execution_count": 138,
   "metadata": {},
   "outputs": [],
   "source": [
    "J = casadi.norm_2(gpr(X.reshape((N_horizon, -1)).T) - 25)"
   ]
  },
  {
   "cell_type": "code",
   "execution_count": 139,
   "metadata": {},
   "outputs": [],
   "source": [
    "# Define parameters\n",
    "p = casadi.vertcat(\n",
    "    casadi.vec(W),\n",
    "    casadi.vec(x0_lags)\n",
    ")"
   ]
  },
  {
   "cell_type": "code",
   "execution_count": 140,
   "metadata": {},
   "outputs": [
    {
     "data": {
      "text/plain": [
       "(70, 1)"
      ]
     },
     "execution_count": 140,
     "metadata": {},
     "output_type": "execute_result"
    }
   ],
   "source": [
    "g.shape"
   ]
  },
  {
   "cell_type": "code",
   "execution_count": 141,
   "metadata": {},
   "outputs": [],
   "source": [
    "prob = {\"x\": casadi.vec(X), \"f\": J, \"p\": p, \"g\": g}\n",
    "options = {\"ipopt\": {\"hessian_approximation\": \"limited-memory\", \"max_iter\": 100, \n",
    "                    \"acceptable_tol\": 1e-8, \"acceptable_obj_change_tol\": 1e-6}}"
   ]
  },
  {
   "cell_type": "code",
   "execution_count": 142,
   "metadata": {},
   "outputs": [],
   "source": [
    "solver = casadi.nlpsol(\"solver\",\"ipopt\",prob, options)"
   ]
  },
  {
   "cell_type": "code",
   "execution_count": 143,
   "metadata": {},
   "outputs": [],
   "source": [
    "real_W = casadi.DM(N_horizon, 2)\n",
    "real_W[:, :] = 2 * np.ones((N_horizon, 2))"
   ]
  },
  {
   "cell_type": "code",
   "execution_count": 144,
   "metadata": {},
   "outputs": [],
   "source": [
    "real_x0 = casadi.DM(1, 4)\n",
    "real_x0[:] = [1, 2, 3, 4]"
   ]
  },
  {
   "cell_type": "code",
   "execution_count": 145,
   "metadata": {},
   "outputs": [],
   "source": [
    "real_p = casadi.vertcat(\n",
    "    casadi.vec(real_W),\n",
    "    casadi.vec(real_x0)\n",
    ")"
   ]
  },
  {
   "cell_type": "code",
   "execution_count": 146,
   "metadata": {},
   "outputs": [],
   "source": [
    "Pel_max = 6300\n",
    "COP_heat = 1\n",
    "COP_cool = 3\n",
    "u_min = - COP_cool * Pel_max\n",
    "u_max = COP_heat * Pel_max"
   ]
  },
  {
   "cell_type": "code",
   "execution_count": 147,
   "metadata": {},
   "outputs": [],
   "source": [
    "real_lbg = [0] * (4 + 2 * N_horizon + 4 * (N_horizon - 1)) + [u_min] * (N_horizon)\n",
    "real_ubg = [0] * (4 + 2 * N_horizon + 4 * (N_horizon - 1)) + [u_max] * (N_horizon)"
   ]
  },
  {
   "cell_type": "code",
   "execution_count": 148,
   "metadata": {
    "tags": []
   },
   "outputs": [
    {
     "name": "stdout",
     "output_type": "stream",
     "text": [
      "This is Ipopt version 3.13.4, running with linear solver mumps.\n",
      "NOTE: Other linear solvers might be more efficient (see Ipopt documentation).\n",
      "\n",
      "Number of nonzeros in equality constraint Jacobian...:      150\n",
      "Number of nonzeros in inequality constraint Jacobian.:       10\n",
      "Number of nonzeros in Lagrangian Hessian.............:        0\n",
      "\n",
      "Total number of variables............................:       70\n",
      "                     variables with only lower bounds:        0\n",
      "                variables with lower and upper bounds:        0\n",
      "                     variables with only upper bounds:        0\n",
      "Total number of equality constraints.................:       60\n",
      "Total number of inequality constraints...............:       10\n",
      "        inequality constraints with only lower bounds:        0\n",
      "   inequality constraints with lower and upper bounds:       10\n",
      "        inequality constraints with only upper bounds:        0\n",
      "\n",
      "iter    objective    inf_pr   inf_du lg(mu)  ||d||  lg(rg) alpha_du alpha_pr  ls\n",
      "   0  3.9449223e+01 1.25e+01 2.64e-06   0.0 0.00e+00    -  0.00e+00 0.00e+00   0\n",
      "   1  3.3511925e+01 3.72e+00 1.33e+01  -1.9 1.29e+01    -  9.90e-01 1.00e+00h  1\n",
      "   2  2.5550836e+01 1.57e+00 6.16e+00  -3.9 7.70e+00    -  9.90e-01 1.00e+00f  1\n",
      "   3  2.1201222e+01 4.21e-01 9.27e-01  -2.0 4.10e+00    -  9.95e-01 1.00e+00f  1\n",
      "   4  2.0447497e+01 2.04e-02 2.12e-02  -3.7 1.32e+00    -  1.00e+00 1.00e+00h  1\n",
      "   5  2.0438965e+01 4.40e-06 1.84e-03  -5.6 2.75e-02    -  1.00e+00 1.00e+00h  1\n",
      "   6  2.0438967e+01 5.11e-07 2.62e-03  -7.7 3.37e-03    -  1.00e+00 1.00e+00h  1\n",
      "   7  2.0438968e+01 6.53e-07 2.75e-03  -9.7 1.88e-03    -  1.00e+00 1.00e+00h  1\n",
      "   8  2.0438963e+01 3.90e-06 3.95e-03 -11.0 1.08e-02    -  1.00e+00 1.00e+00h  1\n",
      "   9  2.0438961e+01 5.29e-06 3.22e-03 -11.0 2.22e-02    -  1.00e+00 1.00e+00h  1\n",
      "iter    objective    inf_pr   inf_du lg(mu)  ||d||  lg(rg) alpha_du alpha_pr  ls\n",
      "  10  2.0438886e+01 3.04e-05 4.20e-03 -11.0 2.51e-01    -  1.00e+00 1.00e+00h  1\n",
      "  11  2.0438836e+01 9.78e-05 1.52e-03 -11.0 1.29e-01    -  1.00e+00 1.00e+00h  1\n",
      "  12  2.0438696e+01 1.58e-04 1.78e-03 -11.0 6.98e-01    -  1.00e+00 1.00e+00h  1\n",
      "  13  2.0438535e+01 1.60e-04 2.71e-03 -11.0 2.01e+00    -  1.00e+00 1.00e+00h  1\n",
      "  14  2.0437940e+01 1.57e-03 2.03e-03 -11.0 6.07e+00    -  1.00e+00 1.00e+00h  1\n",
      "  15  2.0101748e+01 5.47e-01 1.42e-02 -11.0 1.89e+03    -  1.00e+00 1.00e+00f  1\n",
      "  16  2.0225509e+01 8.02e-02 3.42e-03 -11.0 1.15e+03    -  1.00e+00 1.00e+00h  1\n",
      "  17  1.9052743e+01 1.15e+00 4.36e-02  -9.0 4.15e+06    -  2.95e-03 1.68e-03f  1\n",
      "  18  1.9031763e+01 1.16e+00 4.43e-02  -9.0 1.59e+07    -  1.57e-03 4.38e-06f  1\n",
      "  19  1.9043861e+01 1.14e+00 4.39e-02  -8.8 2.48e+02    -  1.00e+00 9.85e-03h  1\n",
      "iter    objective    inf_pr   inf_du lg(mu)  ||d||  lg(rg) alpha_du alpha_pr  ls\n",
      "  20  1.9043866e+01 1.14e+00 4.37e-02  -6.8 2.36e+03    -  1.00e+00 7.97e-06h  1\n",
      "  21  2.0452454e+01 5.04e-02 5.05e-02  -4.8 1.61e+01    -  5.26e-01 1.00e+00h  1\n",
      "  22  2.0451237e+01 5.01e-02 5.00e-02  -5.2 6.60e+00    -  1.00e+00 7.17e-03h  1\n",
      "  23  2.0287931e+01 7.14e-04 3.33e-03  -5.2 5.33e-01    -  1.00e+00 1.00e+00h  1\n",
      "  24  2.0286733e+01 2.95e-04 2.01e-03  -7.3 1.86e+00    -  1.00e+00 1.00e+00h  1\n",
      "  25  2.0285017e+01 1.15e-03 2.71e-03  -5.2 1.01e+01    -  4.53e-01 1.00e+00h  1\n",
      "  26  2.0286965e+01 1.20e-06 2.97e-03  -5.4 6.28e+00    -  1.00e+00 1.00e+00H  1\n",
      "  27  2.0285508e+01 1.01e-03 2.92e-03  -4.9 1.32e+01    -  4.31e-01 1.00e+00h  1\n",
      "  28  2.0274275e+01 7.04e-03 2.70e-03  -5.2 6.66e+01    -  1.00e+00 7.69e-01h  1\n",
      "  29  1.9690313e+01 3.37e-01 2.08e-02  -6.2 2.04e+03    -  8.98e-01 1.00e+00f  1\n",
      "iter    objective    inf_pr   inf_du lg(mu)  ||d||  lg(rg) alpha_du alpha_pr  ls\n",
      "  30  2.0318305e+01 7.03e-03 1.52e-02  -6.1 5.81e+03    -  1.00e+00 1.00e+00H  1\n",
      "  31  1.9205720e+01 2.71e+00 1.38e-01  -5.5 5.63e+03    -  1.00e+00 1.00e+00f  1\n",
      "  32  1.8965587e+01 3.01e+00 2.09e-01  -5.5 3.85e+05    -  6.00e-02 3.88e-03f  1\n",
      "  33  2.0007446e+01 3.52e-01 8.72e-02  -4.9 2.53e+03    -  1.38e-04 9.46e-01h  1\n",
      "  34  2.0005216e+01 3.52e-01 8.73e-02  -5.7 1.38e+04    -  3.27e-01 6.33e-04h  1\n",
      "  35  1.9839644e+01 3.61e-01 8.11e-02  -5.7 3.11e+04    -  7.04e-01 1.58e-02f  1\n",
      "  36  1.9864314e+01 1.62e-01 3.76e-02  -5.7 2.40e+03    -  1.00e+00 1.00e+00h  1\n",
      "  37  1.9612312e+01 2.34e-01 3.55e-02  -4.0 3.43e+05    -  5.91e-01 9.23e-03f  1\n",
      "  38  1.9590066e+01 5.17e-01 3.90e-02  -2.7 6.88e+03    -  1.00e+00 1.72e-01f  1\n",
      "  39  1.9546835e+01 4.65e-01 1.11e-01  -8.4 6.34e+03    -  8.51e-02 1.00e+00h  1\n",
      "iter    objective    inf_pr   inf_du lg(mu)  ||d||  lg(rg) alpha_du alpha_pr  ls\n",
      "  40  1.8280307e+01 2.18e+00 8.69e-02  -8.7 2.48e+04    -  2.06e-03 1.59e-01f  1\n",
      "  41  1.8082053e+01 1.53e+00 1.51e-01  -1.4 8.12e+03    -  3.73e-01 5.90e-01F  1\n",
      "  42  1.7931981e+01 2.09e+00 1.27e-01  -1.3 7.40e+03    -  5.71e-01 1.00e+00f  1\n",
      "  43  1.9324711e+01 6.94e-01 1.81e-01  -1.0 2.91e+03    -  1.00e+00 6.90e-01h  1\n",
      "  44  1.8679710e+01 2.27e+00 5.63e-02  -7.0 4.42e+03    -  5.07e-01 1.00e+00f  1\n",
      "  45  1.9232277e+01 1.20e+00 7.07e-02  -7.4 3.47e+03    -  3.19e-01 1.00e+00h  1\n",
      "  46  1.8612852e+01 3.80e+00 1.36e-01  -7.6 1.00e+04    -  6.55e-02 8.21e-01f  1\n",
      "  47  1.9108327e+01 2.07e+00 1.62e-01  -1.7 1.67e+04    -  3.98e-01 5.85e-01H  1\n",
      "  48  1.8380263e+01 2.73e+00 3.06e-01  -1.7 2.36e+04    -  4.98e-01 6.34e-01F  1\n",
      "  49  1.9683542e+01 6.11e-01 4.46e-01  -1.7 6.70e+03    -  8.19e-01 1.00e+00h  1\n",
      "iter    objective    inf_pr   inf_du lg(mu)  ||d||  lg(rg) alpha_du alpha_pr  ls\n",
      "  50  1.9018329e+01 6.53e-01 1.95e-01  -1.7 2.90e+03    -  1.00e+00 1.00e+00h  1\n",
      "  51  1.7469656e+01 1.84e+00 1.16e-01  -1.8 1.60e+04    -  6.47e-02 6.45e-01f  1\n",
      "  52  1.8482093e+01 2.90e+00 1.23e-01  -2.8 1.33e+04    -  2.29e-01 5.98e-01H  1\n",
      "  53  1.7603679e+01 5.75e+00 2.29e-01  -2.0 8.75e+03    -  2.90e-01 9.70e-01f  1\n",
      "  54  1.7585994e+01 1.72e+00 1.57e-01  -2.0 6.19e+03    -  5.76e-01 6.81e-01h  1\n",
      "  55  1.7858398e+01 1.37e+00 1.03e-01  -2.0 6.67e+03    -  6.90e-02 3.97e-01h  1\n",
      "  56  1.8787279e+01 5.29e-01 7.68e-02  -2.0 2.27e+03    -  1.42e-01 7.27e-01h  1\n",
      "  57  2.0165113e+01 3.50e-01 1.35e-01  -2.5 4.78e+03    -  8.58e-01 1.00e+00h  1\n",
      "  58  1.8138493e+01 2.72e+00 1.44e-01  -2.4 1.87e+04    -  2.45e-01 4.87e-01f  1\n",
      "  59  1.7475863e+01 2.54e+00 2.43e-01  -2.4 2.31e+04    -  6.37e-01 2.28e-01f  1\n",
      "iter    objective    inf_pr   inf_du lg(mu)  ||d||  lg(rg) alpha_du alpha_pr  ls\n",
      "  60  1.7812201e+01 1.83e+00 5.38e-02  -2.4 1.47e+04    -  6.84e-01 3.50e-01h  1\n",
      "  61  1.7715436e+01 1.15e+00 2.43e-02  -2.0 9.12e+03    -  3.37e-01 3.25e-01f  1\n",
      "  62  1.8762738e+01 1.06e+00 2.15e-02  -2.3 1.75e+03    -  1.00e+00 1.00e+00h  1\n",
      "  63  1.6718129e+01 2.24e+00 1.16e-01  -4.1 8.00e+03    -  3.55e-01 9.29e-01f  1\n",
      "  64  1.6720305e+01 2.09e+00 9.80e-02  -1.9 8.78e+03    -  3.14e-01 6.25e-02h  5\n",
      "  65  1.6721588e+01 2.05e+00 9.38e-02  -2.3 2.17e+04    -  4.44e-02 2.22e-02h  4\n",
      "  66  1.6818979e+01 1.88e+00 7.00e-02  -2.3 1.78e+04    -  7.86e-02 7.86e-02s 19\n",
      "  67  1.7735738e+01 1.35e+00 1.24e-01  -2.3 1.49e+04    -  2.78e-01 0.00e+00S 19\n",
      "  68  1.7941257e+01 1.09e+00 1.19e-01  -2.3 2.18e+03    -  7.08e-01 1.95e-01h  1\n",
      "  69  1.8053920e+01 1.01e+00 9.38e-02  -1.0 2.41e+04    -  3.84e-01 8.04e-02f  2\n",
      "iter    objective    inf_pr   inf_du lg(mu)  ||d||  lg(rg) alpha_du alpha_pr  ls\n",
      "  70  1.8020243e+01 9.45e-01 8.23e-02  -1.6 1.67e+04    -  6.33e-01 5.86e-02h  2\n",
      "  71  1.7990070e+01 8.02e-01 5.45e-02  -1.6 4.67e+03    -  1.00e+00 1.73e-01h  2\n",
      "  72  2.0935687e+01 1.97e-01 4.10e+00  -1.6 4.22e+00    -  1.00e+00 1.00e+00h  1\n",
      "  73  2.0661433e+01 2.19e-03 5.07e-01  -1.6 5.24e-01    -  1.00e+00 1.00e+00h  1\n",
      "  74  2.0660515e+01 1.52e-06 2.08e-03  -1.6 6.98e-03    -  1.00e+00 1.00e+00h  1\n",
      "  75  2.0660515e+01 5.74e-06 1.81e-03  -2.3 9.32e-03    -  1.00e+00 1.00e+00h  1\n",
      "  76  2.0660517e+01 4.03e-06 3.60e-03  -3.5 7.10e-03    -  1.00e+00 1.00e+00h  1\n",
      "  77  2.0660508e+01 7.67e-06 3.65e-03  -3.5 3.08e-02    -  1.00e+00 1.00e+00h  1\n",
      "  78  2.0660450e+01 2.75e-05 3.40e-03  -3.5 1.31e-01    -  1.00e+00 1.00e+00h  1\n",
      "  79  2.0660503e+01 8.16e-06 1.70e-03  -3.5 5.61e-02    -  1.00e+00 1.00e+00h  1\n",
      "iter    objective    inf_pr   inf_du lg(mu)  ||d||  lg(rg) alpha_du alpha_pr  ls\n",
      "  80  2.0660511e+01 8.66e-06 1.97e-03  -5.2 2.96e-02    -  1.00e+00 1.00e+00h  1\n",
      "  81  2.0660522e+01 1.57e-08 1.33e-04  -5.2 5.84e-02    -  1.00e+00 1.00e+00H  1\n",
      "  82  2.0660492e+01 2.04e-05 1.45e-03 -11.0 6.37e-02    -  1.00e+00 1.00e+00h  1\n",
      "  83  2.0660520e+01 1.57e-08 6.42e-05  -9.2 5.61e-02    -  1.00e+00 1.00e+00H  1\n",
      "  84  2.0660185e+01 3.55e-04 2.36e-03 -11.0 1.56e+00    -  1.00e+00 1.00e+00f  1\n",
      "  85  2.0658603e+01 8.13e-04 8.12e-03 -11.0 3.39e+00    -  1.00e+00 1.00e+00h  1\n",
      "  86  2.0657043e+01 3.57e-03 2.50e-03 -11.0 4.09e+00    -  1.00e+00 1.00e+00h  1\n",
      "  87  2.0659602e+01 8.15e-04 2.44e-03 -11.0 2.39e+00    -  1.00e+00 1.00e+00h  1\n",
      "  88  2.0661096e+01 4.14e-06 3.07e-03 -11.0 1.63e+01    -  1.00e+00 1.00e+00H  1\n",
      "  89  2.0620802e+01 5.53e-02 3.42e-03 -11.0 4.33e+02    -  1.00e+00 5.37e-01f  1\n",
      "iter    objective    inf_pr   inf_du lg(mu)  ||d||  lg(rg) alpha_du alpha_pr  ls\n",
      "  90  2.0142987e+01 8.07e-01 2.32e-02 -11.0 1.40e+04    -  2.28e-02 2.55e-01f  1\n",
      "  91  2.0130613e+01 7.91e-01 2.24e-02 -11.0 1.20e+04    -  3.59e-09 2.23e-02h  1\n",
      "  92  2.0390038e+01 3.94e-01 1.90e-03 -11.0 2.52e+02    -  1.00e+00 5.00e-01h  2\n",
      "  93  1.9729689e+01 2.63e+00 1.58e-01 -11.0 2.82e+04    -  5.08e-03 1.16e-01f  1\n",
      "  94  1.9587992e+01 1.79e+00 8.44e-02 -11.0 2.08e+03    -  5.77e-10 3.06e-01h  1\n",
      "  95  1.9832003e+01 4.27e-01 6.73e-02 -11.0 2.24e+03    -  7.10e-01 8.61e-01h  1\n",
      "  96  1.9832003e+01 4.27e-01 6.73e-02 -11.0 1.97e+03    -  3.83e-09 3.83e-09s  2\n",
      "  97  1.9832003e+01 4.27e-01 6.73e-02 -11.0 1.05e+03    -  1.38e-10 1.38e-10s  2\n",
      "  98r 1.9832003e+01 4.27e-01 9.99e+02  -0.4 0.00e+00    -  0.00e+00 0.00e+00R  1\n",
      "  99r 1.9998665e+01 3.43e-01 8.99e+02  -6.4 1.76e+02    -  9.90e-01 1.96e-03f  1\n",
      "iter    objective    inf_pr   inf_du lg(mu)  ||d||  lg(rg) alpha_du alpha_pr  ls\n",
      " 100  2.0574084e+01 7.10e-02 5.51e-02 -11.0 9.13e+02    -  7.53e-02 1.00e+00H  1\n",
      "\n",
      "Number of Iterations....: 100\n",
      "\n",
      "                                   (scaled)                 (unscaled)\n",
      "Objective...............:   2.0574083887724495e+01    2.0574083887724495e+01\n",
      "Dual infeasibility......:   5.5068470105394229e-02    5.5068470105394229e-02\n",
      "Constraint violation....:   7.0957538043959545e-02    7.0957538043959545e-02\n",
      "Complementarity.........:   9.2513374353537508e-05    9.2513374353537508e-05\n",
      "Overall NLP error.......:   7.0957538043959545e-02    7.0957538043959545e-02\n",
      "\n",
      "\n",
      "Number of objective function evaluations             = 153\n",
      "Number of objective gradient evaluations             = 101\n",
      "Number of equality constraint evaluations            = 153\n",
      "Number of inequality constraint evaluations          = 153\n",
      "Number of equality constraint Jacobian evaluations   = 102\n",
      "Number of inequality constraint Jacobian evaluations = 102\n",
      "Number of Lagrangian Hessian evaluations             = 0\n",
      "Total CPU secs in IPOPT (w/o function evaluations)   =      8.870\n",
      "Total CPU secs in NLP function evaluations           =    918.825\n",
      "\n",
      "EXIT: Maximum Number of Iterations Exceeded.\n",
      "      solver  :   t_proc      (avg)   t_wall      (avg)    n_eval\n",
      "       nlp_f  |  26.14 s (170.84ms)  20.41 s (133.39ms)       153\n",
      "       nlp_g  |  23.14 s (151.26ms)  17.96 s (117.37ms)       153\n",
      "    nlp_grad  |   9.73 s (  9.73 s)   7.60 s (  7.60 s)         1\n",
      "  nlp_grad_f  | 514.07 s (  5.04 s) 398.13 s (  3.90 s)       102\n",
      "   nlp_jac_g  | 451.34 s (  4.38 s) 348.97 s (  3.39 s)       103\n",
      "       total  |   1.02ks (  1.02ks) 793.27 s (793.27 s)         1\n"
     ]
    },
    {
     "data": {
      "text/plain": [
       "DM([2, 2, 2, 2, 2, 2, 2, 2, 2, 2, 2, 2, 2, 2, 2, 2, 2, 2, 2, 2, -5276.26, -10771, 4088.54, -4909.72, 5339.09, 6299.99, 6299.8, -14154.4, 4279.15, 599.066, 1, -5276.26, -10771, 4088.54, -4909.72, 5339.09, 6299.99, 6299.8, -14154.4, 4279.15, 2, 12.1019, 16.044, 18.912, 20.1879, 20.6361, 20.8219, 20.8302, 20.7725, 20.3594, 3, 2, 12.1019, 16.044, 18.912, 20.1879, 20.6361, 20.8219, 20.8302, 20.7725, 4, 3, 2, 12.1019, 16.044, 18.912, 20.1879, 20.6361, 20.8219, 20.8302])"
      ]
     },
     "execution_count": 148,
     "metadata": {},
     "output_type": "execute_result"
    }
   ],
   "source": [
    "res = solver(p = real_p, lbg = real_lbg, ubg = real_ubg)\n",
    "res['x']"
   ]
  },
  {
   "cell_type": "code",
   "execution_count": 42,
   "metadata": {},
   "outputs": [
    {
     "data": {
      "text/plain": [
       "DM([2, 2, 2, 2, 2, 2, 2, 2, 2, 2, 2, 2, 2, 2, 2, 2, 2, 2, 2, 2, 3.03502e+07, -2.52271e+07, 2.05064e+07, -4.67068e+07, 9.09586e+07, 3.50245e+07, -1.16515e+08, 1.398e+08, -8.8153e+07, 5.69382e+06, 1, 3.03502e+07, -2.52271e+07, 2.05064e+07, -4.67068e+07, 9.09586e+07, 3.50245e+07, -1.16515e+08, 1.398e+08, -8.8153e+07, 2, 16.4965, 20.1653, 20.1653, 20.1653, 20.1653, 20.1653, 20.1653, 20.1653, 20.1653, 3, 2, 16.4965, 20.1653, 20.1653, 20.1653, 20.1653, 20.1653, 20.1653, 20.1653, 4, 3, 2, 16.4965, 20.1653, 20.1653, 20.1653, 20.1653, 20.1653, 20.1653])"
      ]
     },
     "execution_count": 42,
     "metadata": {},
     "output_type": "execute_result"
    }
   ],
   "source": [
    "res['x']"
   ]
  },
  {
   "cell_type": "code",
   "execution_count": 149,
   "metadata": {},
   "outputs": [
    {
     "data": {
      "text/plain": [
       "DM(\n",
       "[[2, 2, -5276.26, 1, 2, 3, 4], \n",
       " [2, 2, -10771, -5276.26, 12.1019, 2, 3], \n",
       " [2, 2, 4088.54, -10771, 16.044, 12.1019, 2], \n",
       " [2, 2, -4909.72, 4088.54, 18.912, 16.044, 12.1019], \n",
       " [2, 2, 5339.09, -4909.72, 20.1879, 18.912, 16.044], \n",
       " [2, 2, 6299.99, 5339.09, 20.6361, 20.1879, 18.912], \n",
       " [2, 2, 6299.8, 6299.99, 20.8219, 20.6361, 20.1879], \n",
       " [2, 2, -14154.4, 6299.8, 20.8302, 20.8219, 20.6361], \n",
       " [2, 2, 4279.15, -14154.4, 20.7725, 20.8302, 20.8219], \n",
       " [2, 2, 599.066, 4279.15, 20.3594, 20.7725, 20.8302]])"
      ]
     },
     "execution_count": 149,
     "metadata": {},
     "output_type": "execute_result"
    }
   ],
   "source": [
    "res['x'].reshape((N_horizon, -1))"
   ]
  },
  {
   "cell_type": "code",
   "execution_count": 150,
   "metadata": {},
   "outputs": [
    {
     "data": {
      "text/plain": [
       "DM([[12.1019, 16.041, 18.9237, 20.1169, 20.637, 20.8187, 20.8361, 20.7795, 20.3782, 20.2176]])"
      ]
     },
     "execution_count": 150,
     "metadata": {},
     "output_type": "execute_result"
    }
   ],
   "source": [
    "gpr(res['x'].reshape((N_horizon, -1)).T)"
   ]
  },
  {
   "cell_type": "code",
   "execution_count": 45,
   "metadata": {},
   "outputs": [
    {
     "data": {
      "text/plain": [
       "DM([[16.4965, 20.1653, 20.1653, 20.1653, 20.1653, 20.1653, 20.1653, 20.1653, 20.1653, 20.1653]])"
      ]
     },
     "execution_count": 45,
     "metadata": {},
     "output_type": "execute_result"
    }
   ],
   "source": [
    "gpr(res['x'].reshape((N_horizon, -1)).T)"
   ]
  },
  {
   "cell_type": "code",
   "execution_count": 46,
   "metadata": {},
   "outputs": [],
   "source": [
    "# Solve the optimization problem for one time step on real data"
   ]
  },
  {
   "cell_type": "code",
   "execution_count": null,
   "metadata": {},
   "outputs": [],
   "source": [
    "def load_autoregressive_df(exp_id, lu = 1, ly = 3):\n",
    "    \n",
    "    df_wdb = pd.read_pickle(f\"../Data/Experimental_python/Exp{exp_id}_WDB.pkl\")\n",
    "    \n",
    "    df_carnot = pd.read_pickle(f\"../Data/CARNOT_output/Exp{exp_id}_full.pkl\")\n",
    "    df_data = df_carnot.loc[:, ['Power', 'Heat', 'Setpoint', 'OutsideTemp', 'SupplyTemp', 'InsideTemp', 'SolRad']]\n",
    "    df_simulated = df_carnot.loc[:, 'SimulatedTemp']\n",
    "\n",
    "    df = pd.concat([df_wdb, df_data.reset_index(), df_simulated.reset_index()], axis = 1)\n",
    "\n",
    "    df = df.loc[:,~df.columns.duplicated()]\n",
    "    \n",
    "    # Select the potentially useful columns\n",
    "    #df = df.loc[:, ['timestamp', 'zenith', 'azimuth', 'dni', 'dhi', 'OutsideTemp', 'Power', 'InsideTemp', 'SolRad', 'Setpoint']]\n",
    "    df = df.loc[:, ['timestamp','SolRad', 'OutsideTemp', 'Heat', 'InsideTemp']]\n",
    "\n",
    "    df.drop(columns = ['timestamp'], inplace = True)\n",
    "    df.loc[:, 'timestamp'] = df_data.index\n",
    "    df.set_index('timestamp', drop = True, inplace = True)\n",
    "    \n",
    "    # Select the input/output and drop the columns that doesn't make to be used\n",
    "    dyn_in = 'Heat'\n",
    "    dyn_out = 'InsideTemp'    \n",
    "    df.rename(columns = {dyn_in: 'u', dyn_out: 'y'}, inplace = True)\n",
    "\n",
    "    # Add the regressive inputs/outputs\n",
    "    for idx in range(1, lu + 1):\n",
    "        df[f\"u_{idx}\"] = df['u'].shift(idx)\n",
    "        \n",
    "    for idx in range(1, ly + 1):\n",
    "        df[f\"y_{idx}\"] = df['y'].shift(idx)\n",
    "        \n",
    "    # Since some lines now have holes, drop them\n",
    "    df.dropna(inplace = True)\n",
    "    \n",
    "    return df"
   ]
  },
  {
   "cell_type": "code",
   "execution_count": 78,
   "metadata": {},
   "outputs": [
    {
     "data": {
      "text/html": [
       "<div>\n",
       "<style scoped>\n",
       "    .dataframe tbody tr th:only-of-type {\n",
       "        vertical-align: middle;\n",
       "    }\n",
       "\n",
       "    .dataframe tbody tr th {\n",
       "        vertical-align: top;\n",
       "    }\n",
       "\n",
       "    .dataframe thead th {\n",
       "        text-align: right;\n",
       "    }\n",
       "</style>\n",
       "<table border=\"1\" class=\"dataframe\">\n",
       "  <thead>\n",
       "    <tr style=\"text-align: right;\">\n",
       "      <th></th>\n",
       "      <th>SolRad</th>\n",
       "      <th>OutsideTemp</th>\n",
       "      <th>u</th>\n",
       "      <th>y</th>\n",
       "      <th>u_1</th>\n",
       "      <th>y_1</th>\n",
       "      <th>y_2</th>\n",
       "      <th>y_3</th>\n",
       "    </tr>\n",
       "    <tr>\n",
       "      <th>timestamp</th>\n",
       "      <th></th>\n",
       "      <th></th>\n",
       "      <th></th>\n",
       "      <th></th>\n",
       "      <th></th>\n",
       "      <th></th>\n",
       "      <th></th>\n",
       "      <th></th>\n",
       "    </tr>\n",
       "  </thead>\n",
       "  <tbody>\n",
       "    <tr>\n",
       "      <th>2017-06-16 20:15:00+02:00</th>\n",
       "      <td>104.558300</td>\n",
       "      <td>23.0</td>\n",
       "      <td>-12088.862069</td>\n",
       "      <td>22.883333</td>\n",
       "      <td>-12927.931034</td>\n",
       "      <td>23.066667</td>\n",
       "      <td>23.283333</td>\n",
       "      <td>23.166667</td>\n",
       "    </tr>\n",
       "    <tr>\n",
       "      <th>2017-06-16 20:20:00+02:00</th>\n",
       "      <td>99.697333</td>\n",
       "      <td>23.0</td>\n",
       "      <td>-20.300000</td>\n",
       "      <td>22.666667</td>\n",
       "      <td>-12088.862069</td>\n",
       "      <td>22.883333</td>\n",
       "      <td>23.066667</td>\n",
       "      <td>23.283333</td>\n",
       "    </tr>\n",
       "    <tr>\n",
       "      <th>2017-06-16 20:25:00+02:00</th>\n",
       "      <td>87.216800</td>\n",
       "      <td>23.0</td>\n",
       "      <td>-33.517241</td>\n",
       "      <td>22.650000</td>\n",
       "      <td>-20.300000</td>\n",
       "      <td>22.666667</td>\n",
       "      <td>22.883333</td>\n",
       "      <td>23.066667</td>\n",
       "    </tr>\n",
       "    <tr>\n",
       "      <th>2017-06-16 20:30:00+02:00</th>\n",
       "      <td>85.049400</td>\n",
       "      <td>23.0</td>\n",
       "      <td>-33.620690</td>\n",
       "      <td>22.800000</td>\n",
       "      <td>-33.517241</td>\n",
       "      <td>22.650000</td>\n",
       "      <td>22.666667</td>\n",
       "      <td>22.883333</td>\n",
       "    </tr>\n",
       "    <tr>\n",
       "      <th>2017-06-16 20:35:00+02:00</th>\n",
       "      <td>77.971900</td>\n",
       "      <td>23.0</td>\n",
       "      <td>-40.241379</td>\n",
       "      <td>22.933333</td>\n",
       "      <td>-33.620690</td>\n",
       "      <td>22.800000</td>\n",
       "      <td>22.650000</td>\n",
       "      <td>22.666667</td>\n",
       "    </tr>\n",
       "    <tr>\n",
       "      <th>...</th>\n",
       "      <td>...</td>\n",
       "      <td>...</td>\n",
       "      <td>...</td>\n",
       "      <td>...</td>\n",
       "      <td>...</td>\n",
       "      <td>...</td>\n",
       "      <td>...</td>\n",
       "      <td>...</td>\n",
       "    </tr>\n",
       "    <tr>\n",
       "      <th>2017-06-19 05:35:00+02:00</th>\n",
       "      <td>6.040567</td>\n",
       "      <td>18.0</td>\n",
       "      <td>-2.896552</td>\n",
       "      <td>22.300000</td>\n",
       "      <td>-3.000000</td>\n",
       "      <td>22.300000</td>\n",
       "      <td>22.316667</td>\n",
       "      <td>22.316667</td>\n",
       "    </tr>\n",
       "    <tr>\n",
       "      <th>2017-06-19 05:40:00+02:00</th>\n",
       "      <td>7.556467</td>\n",
       "      <td>18.0</td>\n",
       "      <td>-3.433333</td>\n",
       "      <td>22.266667</td>\n",
       "      <td>-2.896552</td>\n",
       "      <td>22.300000</td>\n",
       "      <td>22.300000</td>\n",
       "      <td>22.316667</td>\n",
       "    </tr>\n",
       "    <tr>\n",
       "      <th>2017-06-19 05:45:00+02:00</th>\n",
       "      <td>9.632667</td>\n",
       "      <td>18.0</td>\n",
       "      <td>-5.448276</td>\n",
       "      <td>22.116667</td>\n",
       "      <td>-3.433333</td>\n",
       "      <td>22.266667</td>\n",
       "      <td>22.300000</td>\n",
       "      <td>22.300000</td>\n",
       "    </tr>\n",
       "    <tr>\n",
       "      <th>2017-06-19 05:50:00+02:00</th>\n",
       "      <td>11.941100</td>\n",
       "      <td>18.0</td>\n",
       "      <td>-3.241379</td>\n",
       "      <td>22.233333</td>\n",
       "      <td>-5.448276</td>\n",
       "      <td>22.116667</td>\n",
       "      <td>22.266667</td>\n",
       "      <td>22.300000</td>\n",
       "    </tr>\n",
       "    <tr>\n",
       "      <th>2017-06-19 05:55:00+02:00</th>\n",
       "      <td>14.208433</td>\n",
       "      <td>18.0</td>\n",
       "      <td>-4.233333</td>\n",
       "      <td>22.150000</td>\n",
       "      <td>-3.241379</td>\n",
       "      <td>22.233333</td>\n",
       "      <td>22.116667</td>\n",
       "      <td>22.266667</td>\n",
       "    </tr>\n",
       "  </tbody>\n",
       "</table>\n",
       "<p>693 rows × 8 columns</p>\n",
       "</div>"
      ],
      "text/plain": [
       "                               SolRad  OutsideTemp             u          y  \\\n",
       "timestamp                                                                     \n",
       "2017-06-16 20:15:00+02:00  104.558300         23.0 -12088.862069  22.883333   \n",
       "2017-06-16 20:20:00+02:00   99.697333         23.0    -20.300000  22.666667   \n",
       "2017-06-16 20:25:00+02:00   87.216800         23.0    -33.517241  22.650000   \n",
       "2017-06-16 20:30:00+02:00   85.049400         23.0    -33.620690  22.800000   \n",
       "2017-06-16 20:35:00+02:00   77.971900         23.0    -40.241379  22.933333   \n",
       "...                               ...          ...           ...        ...   \n",
       "2017-06-19 05:35:00+02:00    6.040567         18.0     -2.896552  22.300000   \n",
       "2017-06-19 05:40:00+02:00    7.556467         18.0     -3.433333  22.266667   \n",
       "2017-06-19 05:45:00+02:00    9.632667         18.0     -5.448276  22.116667   \n",
       "2017-06-19 05:50:00+02:00   11.941100         18.0     -3.241379  22.233333   \n",
       "2017-06-19 05:55:00+02:00   14.208433         18.0     -4.233333  22.150000   \n",
       "\n",
       "                                    u_1        y_1        y_2        y_3  \n",
       "timestamp                                                                 \n",
       "2017-06-16 20:15:00+02:00 -12927.931034  23.066667  23.283333  23.166667  \n",
       "2017-06-16 20:20:00+02:00 -12088.862069  22.883333  23.066667  23.283333  \n",
       "2017-06-16 20:25:00+02:00    -20.300000  22.666667  22.883333  23.066667  \n",
       "2017-06-16 20:30:00+02:00    -33.517241  22.650000  22.666667  22.883333  \n",
       "2017-06-16 20:35:00+02:00    -33.620690  22.800000  22.650000  22.666667  \n",
       "...                                 ...        ...        ...        ...  \n",
       "2017-06-19 05:35:00+02:00     -3.000000  22.300000  22.316667  22.316667  \n",
       "2017-06-19 05:40:00+02:00     -2.896552  22.300000  22.300000  22.316667  \n",
       "2017-06-19 05:45:00+02:00     -3.433333  22.266667  22.300000  22.300000  \n",
       "2017-06-19 05:50:00+02:00     -5.448276  22.116667  22.266667  22.300000  \n",
       "2017-06-19 05:55:00+02:00     -3.241379  22.233333  22.116667  22.266667  \n",
       "\n",
       "[693 rows x 8 columns]"
      ]
     },
     "execution_count": 78,
     "metadata": {},
     "output_type": "execute_result"
    }
   ],
   "source": [
    "lu, ly = 1, 3\n",
    "test_day = 3\n",
    "df_test = load_autoregressive_df(test_day, lu = lu, ly = ly)\n",
    "df_test"
   ]
  },
  {
   "cell_type": "code",
   "execution_count": 79,
   "metadata": {},
   "outputs": [],
   "source": [
    "rand_idx = np.random.randint(0, len(df_test)- N_horizon)"
   ]
  },
  {
   "cell_type": "code",
   "execution_count": 151,
   "metadata": {},
   "outputs": [
    {
     "data": {
      "text/html": [
       "<div>\n",
       "<style scoped>\n",
       "    .dataframe tbody tr th:only-of-type {\n",
       "        vertical-align: middle;\n",
       "    }\n",
       "\n",
       "    .dataframe tbody tr th {\n",
       "        vertical-align: top;\n",
       "    }\n",
       "\n",
       "    .dataframe thead th {\n",
       "        text-align: right;\n",
       "    }\n",
       "</style>\n",
       "<table border=\"1\" class=\"dataframe\">\n",
       "  <thead>\n",
       "    <tr style=\"text-align: right;\">\n",
       "      <th></th>\n",
       "      <th>SolRad</th>\n",
       "      <th>OutsideTemp</th>\n",
       "      <th>u</th>\n",
       "      <th>y</th>\n",
       "      <th>u_1</th>\n",
       "      <th>y_1</th>\n",
       "      <th>y_2</th>\n",
       "      <th>y_3</th>\n",
       "    </tr>\n",
       "    <tr>\n",
       "      <th>timestamp</th>\n",
       "      <th></th>\n",
       "      <th></th>\n",
       "      <th></th>\n",
       "      <th></th>\n",
       "      <th></th>\n",
       "      <th></th>\n",
       "      <th></th>\n",
       "      <th></th>\n",
       "    </tr>\n",
       "  </thead>\n",
       "  <tbody>\n",
       "    <tr>\n",
       "      <th>2017-06-17 18:10:00+02:00</th>\n",
       "      <td>468.033533</td>\n",
       "      <td>25.0</td>\n",
       "      <td>-6.931034</td>\n",
       "      <td>22.650000</td>\n",
       "      <td>-3531.200000</td>\n",
       "      <td>22.700000</td>\n",
       "      <td>22.700000</td>\n",
       "      <td>22.933333</td>\n",
       "    </tr>\n",
       "    <tr>\n",
       "      <th>2017-06-17 18:15:00+02:00</th>\n",
       "      <td>453.411767</td>\n",
       "      <td>25.0</td>\n",
       "      <td>-17.793103</td>\n",
       "      <td>22.966667</td>\n",
       "      <td>-6.931034</td>\n",
       "      <td>22.650000</td>\n",
       "      <td>22.700000</td>\n",
       "      <td>22.700000</td>\n",
       "    </tr>\n",
       "    <tr>\n",
       "      <th>2017-06-17 18:20:00+02:00</th>\n",
       "      <td>440.063033</td>\n",
       "      <td>25.0</td>\n",
       "      <td>-10028.379310</td>\n",
       "      <td>23.200000</td>\n",
       "      <td>-17.793103</td>\n",
       "      <td>22.966667</td>\n",
       "      <td>22.650000</td>\n",
       "      <td>22.700000</td>\n",
       "    </tr>\n",
       "    <tr>\n",
       "      <th>2017-06-17 18:25:00+02:00</th>\n",
       "      <td>425.747367</td>\n",
       "      <td>25.0</td>\n",
       "      <td>-13186.600000</td>\n",
       "      <td>23.200000</td>\n",
       "      <td>-10028.379310</td>\n",
       "      <td>23.200000</td>\n",
       "      <td>22.966667</td>\n",
       "      <td>22.650000</td>\n",
       "    </tr>\n",
       "    <tr>\n",
       "      <th>2017-06-17 18:30:00+02:00</th>\n",
       "      <td>411.838333</td>\n",
       "      <td>25.0</td>\n",
       "      <td>-13120.862069</td>\n",
       "      <td>23.033333</td>\n",
       "      <td>-13186.600000</td>\n",
       "      <td>23.200000</td>\n",
       "      <td>23.200000</td>\n",
       "      <td>22.966667</td>\n",
       "    </tr>\n",
       "    <tr>\n",
       "      <th>2017-06-17 18:35:00+02:00</th>\n",
       "      <td>398.560767</td>\n",
       "      <td>25.0</td>\n",
       "      <td>-13122.310345</td>\n",
       "      <td>22.866667</td>\n",
       "      <td>-13120.862069</td>\n",
       "      <td>23.033333</td>\n",
       "      <td>23.200000</td>\n",
       "      <td>23.200000</td>\n",
       "    </tr>\n",
       "    <tr>\n",
       "      <th>2017-06-17 18:40:00+02:00</th>\n",
       "      <td>385.483400</td>\n",
       "      <td>25.0</td>\n",
       "      <td>-10483.700000</td>\n",
       "      <td>22.733333</td>\n",
       "      <td>-13122.310345</td>\n",
       "      <td>22.866667</td>\n",
       "      <td>23.033333</td>\n",
       "      <td>23.200000</td>\n",
       "    </tr>\n",
       "    <tr>\n",
       "      <th>2017-06-17 18:45:00+02:00</th>\n",
       "      <td>370.694433</td>\n",
       "      <td>25.0</td>\n",
       "      <td>-11.793103</td>\n",
       "      <td>22.683333</td>\n",
       "      <td>-10483.700000</td>\n",
       "      <td>22.733333</td>\n",
       "      <td>22.866667</td>\n",
       "      <td>23.033333</td>\n",
       "    </tr>\n",
       "    <tr>\n",
       "      <th>2017-06-17 18:50:00+02:00</th>\n",
       "      <td>357.209133</td>\n",
       "      <td>25.0</td>\n",
       "      <td>-18.310345</td>\n",
       "      <td>22.850000</td>\n",
       "      <td>-11.793103</td>\n",
       "      <td>22.683333</td>\n",
       "      <td>22.733333</td>\n",
       "      <td>22.866667</td>\n",
       "    </tr>\n",
       "    <tr>\n",
       "      <th>2017-06-17 18:55:00+02:00</th>\n",
       "      <td>173.840733</td>\n",
       "      <td>25.0</td>\n",
       "      <td>-22.448276</td>\n",
       "      <td>23.000000</td>\n",
       "      <td>-18.310345</td>\n",
       "      <td>22.850000</td>\n",
       "      <td>22.683333</td>\n",
       "      <td>22.733333</td>\n",
       "    </tr>\n",
       "  </tbody>\n",
       "</table>\n",
       "</div>"
      ],
      "text/plain": [
       "                               SolRad  OutsideTemp             u          y  \\\n",
       "timestamp                                                                     \n",
       "2017-06-17 18:10:00+02:00  468.033533         25.0     -6.931034  22.650000   \n",
       "2017-06-17 18:15:00+02:00  453.411767         25.0    -17.793103  22.966667   \n",
       "2017-06-17 18:20:00+02:00  440.063033         25.0 -10028.379310  23.200000   \n",
       "2017-06-17 18:25:00+02:00  425.747367         25.0 -13186.600000  23.200000   \n",
       "2017-06-17 18:30:00+02:00  411.838333         25.0 -13120.862069  23.033333   \n",
       "2017-06-17 18:35:00+02:00  398.560767         25.0 -13122.310345  22.866667   \n",
       "2017-06-17 18:40:00+02:00  385.483400         25.0 -10483.700000  22.733333   \n",
       "2017-06-17 18:45:00+02:00  370.694433         25.0    -11.793103  22.683333   \n",
       "2017-06-17 18:50:00+02:00  357.209133         25.0    -18.310345  22.850000   \n",
       "2017-06-17 18:55:00+02:00  173.840733         25.0    -22.448276  23.000000   \n",
       "\n",
       "                                    u_1        y_1        y_2        y_3  \n",
       "timestamp                                                                 \n",
       "2017-06-17 18:10:00+02:00  -3531.200000  22.700000  22.700000  22.933333  \n",
       "2017-06-17 18:15:00+02:00     -6.931034  22.650000  22.700000  22.700000  \n",
       "2017-06-17 18:20:00+02:00    -17.793103  22.966667  22.650000  22.700000  \n",
       "2017-06-17 18:25:00+02:00 -10028.379310  23.200000  22.966667  22.650000  \n",
       "2017-06-17 18:30:00+02:00 -13186.600000  23.200000  23.200000  22.966667  \n",
       "2017-06-17 18:35:00+02:00 -13120.862069  23.033333  23.200000  23.200000  \n",
       "2017-06-17 18:40:00+02:00 -13122.310345  22.866667  23.033333  23.200000  \n",
       "2017-06-17 18:45:00+02:00 -10483.700000  22.733333  22.866667  23.033333  \n",
       "2017-06-17 18:50:00+02:00    -11.793103  22.683333  22.733333  22.866667  \n",
       "2017-06-17 18:55:00+02:00    -18.310345  22.850000  22.683333  22.733333  "
      ]
     },
     "execution_count": 151,
     "metadata": {},
     "output_type": "execute_result"
    }
   ],
   "source": [
    "df_slice = df_test.iloc[rand_idx:rand_idx + N_horizon, :]\n",
    "df_slice"
   ]
  },
  {
   "cell_type": "code",
   "execution_count": 152,
   "metadata": {},
   "outputs": [],
   "source": [
    "real_W = df_slice[['SolRad', 'OutsideTemp']].to_numpy()\n",
    "real_x0 = df_slice.iloc[0,4:].to_numpy()"
   ]
  },
  {
   "cell_type": "code",
   "execution_count": 153,
   "metadata": {},
   "outputs": [],
   "source": [
    "real_p = casadi.vertcat(\n",
    "    casadi.vec(real_W),\n",
    "    casadi.vec(real_x0)\n",
    ")"
   ]
  },
  {
   "cell_type": "code",
   "execution_count": 154,
   "metadata": {},
   "outputs": [
    {
     "name": "stdout",
     "output_type": "stream",
     "text": [
      "This is Ipopt version 3.13.4, running with linear solver mumps.\n",
      "NOTE: Other linear solvers might be more efficient (see Ipopt documentation).\n",
      "\n",
      "Number of nonzeros in equality constraint Jacobian...:      150\n",
      "Number of nonzeros in inequality constraint Jacobian.:       10\n",
      "Number of nonzeros in Lagrangian Hessian.............:        0\n",
      "\n",
      "Total number of variables............................:       70\n",
      "                     variables with only lower bounds:        0\n",
      "                variables with lower and upper bounds:        0\n",
      "                     variables with only upper bounds:        0\n",
      "Total number of equality constraints.................:       60\n",
      "Total number of inequality constraints...............:       10\n",
      "        inequality constraints with only lower bounds:        0\n",
      "   inequality constraints with lower and upper bounds:       10\n",
      "        inequality constraints with only upper bounds:        0\n",
      "\n",
      "iter    objective    inf_pr   inf_du lg(mu)  ||d||  lg(rg) alpha_du alpha_pr  ls\n",
      "   0  3.9449223e+01 3.53e+03 2.64e-06   0.0 0.00e+00    -  0.00e+00 0.00e+00   0\n",
      "   1  3.3074260e+01 1.22e+01 3.53e+03  -1.9 3.53e+03    -  9.90e-01 1.00e+00h  1\n",
      "   2  2.1569451e+01 3.89e+00 1.04e+01   0.2 1.53e+01    -  9.98e-01 1.00e+00f  1\n",
      "   3  1.2216613e+01 1.07e+00 2.03e+00  -1.8 9.82e+00    -  9.98e-01 1.00e+00f  1\n",
      "   4  6.0768897e+00 2.46e-01 2.79e-01  -3.6 4.40e+00    -  1.00e+00 1.00e+00f  1\n",
      "   5  5.4365914e+00 6.00e-03 1.57e-01  -5.5 9.64e-01    -  1.00e+00 1.00e+00h  1\n",
      "   6  5.4343018e+00 1.05e-06 7.05e-03  -7.4 7.98e-03    -  1.00e+00 1.00e+00h  1\n",
      "   7  5.4343047e+00 4.04e-07 1.35e-04  -9.4 1.19e-03    -  1.00e+00 1.00e+00h  1\n",
      "   8  5.4343048e+00 2.43e-07 2.99e-04 -11.0 1.51e-03    -  1.00e+00 1.00e+00h  1\n",
      "   9  5.4343030e+00 5.92e-07 4.18e-03 -11.0 5.49e-03    -  1.00e+00 1.00e+00h  1\n",
      "iter    objective    inf_pr   inf_du lg(mu)  ||d||  lg(rg) alpha_du alpha_pr  ls\n",
      "  10  5.4332567e+00 8.43e-04 1.69e-02 -11.0 2.28e+00    -  1.00e+00 1.00e+00h  1\n",
      "  11  5.4346201e+00 8.74e-07 5.02e-03 -11.0 2.48e+00    -  1.00e+00 1.00e+00H  1\n",
      "  12  5.4274576e+00 2.72e-03 1.08e-02 -11.0 1.54e+01    -  1.00e+00 1.00e+00f  1\n",
      "  13  5.4332922e+00 8.83e-04 2.52e-03 -11.0 5.14e+00    -  1.00e+00 1.00e+00h  1\n",
      "  14  5.3426257e+00 3.42e-02 1.47e-02 -11.0 2.93e+02    -  1.00e+00 1.00e+00f  1\n",
      "  15  5.2809047e+00 7.25e-02 1.14e-02 -11.0 1.94e+02    -  1.00e+00 1.00e+00h  1\n",
      "  16  5.2454961e+00 5.67e-01 2.83e-01 -11.0 2.55e+03    -  1.00e+00 5.00e-01f  2\n",
      "  17  4.2900853e+00 8.09e-01 2.57e-01 -11.0 4.79e+03    -  1.00e+00 1.00e+00f  1\n",
      "  18  3.9872017e+00 8.01e-01 4.15e-01  -9.0 2.46e+03    -  1.00e+00 7.25e-01h  1\n",
      "  19  3.9828024e+00 7.97e-01 4.09e-01  -7.1 5.10e+03    -  1.00e+00 4.86e-03h  1\n",
      "iter    objective    inf_pr   inf_du lg(mu)  ||d||  lg(rg) alpha_du alpha_pr  ls\n",
      "  20  3.9955347e+00 7.62e-01 3.91e-01 -11.0 1.40e+04    -  2.59e-05 3.92e-02h  4\n",
      "  21  3.3230445e+00 1.62e+00 7.43e-01  -5.9 2.58e+04    -  1.00e+00 1.94e-01f  1\n",
      "  22  3.3159554e+00 1.63e+00 7.40e-01  -4.0 3.81e+04    -  1.00e+00 1.16e-03h  1\n",
      "  23  5.7610224e+00 6.56e-01 6.33e-01  -3.2 4.68e+03    -  1.00e+00 1.00e+00h  1\n",
      "  24  4.8314850e+00 1.14e+00 4.89e-01  -2.8 1.39e+04    -  2.21e-02 1.89e-01f  1\n",
      "  25  3.9298440e+00 4.53e-01 3.48e-01  -2.8 1.13e+04    -  4.04e-03 6.29e-01F  1\n",
      "  26  3.8422684e+00 4.44e-01 3.34e-01  -2.4 2.98e+04    -  1.00e+00 2.03e-02h  1\n",
      "  27  3.9181611e+00 4.44e-01 3.40e-01  -1.5 1.15e+04    -  8.34e-01 8.61e-02f  4\n",
      "  28  3.9145141e+00 4.66e-01 4.14e-01  -1.6 2.37e+04    -  4.26e-01 3.76e-02f  3\n",
      "  29  4.3665645e+00 5.75e-01 2.13e-01  -1.6 3.11e+03    -  7.82e-01 1.00e+00h  1\n",
      "iter    objective    inf_pr   inf_du lg(mu)  ||d||  lg(rg) alpha_du alpha_pr  ls\n",
      "  30  4.1588261e+00 4.47e-01 2.07e-01  -1.6 2.24e+04    -  2.27e-01 8.93e-02f  2\n",
      "  31  4.0448026e+00 4.88e-01 8.52e-02  -1.6 3.54e+03    -  1.00e+00 1.00e+00h  1\n",
      "  32  4.3320693e+00 5.01e-01 3.13e-01  -1.6 3.09e+03    -  6.34e-01 7.31e-01h  1\n",
      "  33  4.4114252e+00 5.90e-01 1.65e-01  -2.0 1.67e+03    -  2.89e-01 1.00e+00h  1\n",
      "  34  4.2453997e+00 4.46e-01 5.76e-01  -2.4 1.03e+04    -  7.27e-01 6.28e-01h  1\n",
      "  35  4.2395100e+00 4.34e-01 5.37e-01  -2.3 2.96e+04    -  4.78e-01 2.52e-02h  4\n",
      "  36  4.1425759e+00 4.22e-01 3.66e-01  -2.3 3.87e+04    -  3.22e-01 1.71e-01f  1\n",
      "  37  4.0746738e+00 5.26e-01 2.19e-01  -2.3 1.64e+04    -  1.00e+00 1.81e-01h  1\n",
      "  38  4.6831446e+00 1.33e-02 9.95e-01  -2.3 1.14e+00    -  1.00e+00 1.00e+00h  1\n",
      "  39  4.6652006e+00 4.38e-06 5.08e-03  -3.8 4.05e-02    -  1.00e+00 1.00e+00h  1\n",
      "iter    objective    inf_pr   inf_du lg(mu)  ||d||  lg(rg) alpha_du alpha_pr  ls\n",
      "  40  4.6651849e+00 7.40e-06 5.83e-03  -5.9 8.43e-03    -  1.00e+00 1.00e+00h  1\n",
      "  41  4.6652003e+00 2.78e-06 4.05e-03  -8.0 6.53e-03    -  1.00e+00 1.00e+00h  1\n",
      "  42  4.6652078e+00 1.86e-06 5.11e-03  -9.9 4.00e-03    -  1.00e+00 1.00e+00h  1\n",
      "  43  4.6652106e+00 4.89e-07 2.49e-03 -10.9 2.45e-03    -  1.00e+00 1.00e+00h  1\n",
      "  44  4.6652070e+00 1.06e-06 4.96e-03 -11.0 3.14e-03    -  1.00e+00 1.00e+00h  1\n",
      "  45  4.6652107e+00 6.94e-07 3.39e-03 -11.0 1.12e-03    -  1.00e+00 1.00e+00h  1\n",
      "  46  4.6652021e+00 5.56e-06 5.86e-03 -11.0 1.26e-02    -  1.00e+00 1.00e+00h  1\n",
      "  47  4.6651896e+00 5.80e-06 9.52e-03 -11.0 1.90e-02    -  1.00e+00 1.00e+00h  1\n",
      "  48  4.6652034e+00 2.35e-06 2.98e-03 -11.0 1.07e-02    -  1.00e+00 1.00e+00h  1\n",
      "  49  4.6651482e+00 3.84e-05 7.09e-03 -11.0 9.42e-02    -  1.00e+00 1.00e+00h  1\n",
      "iter    objective    inf_pr   inf_du lg(mu)  ||d||  lg(rg) alpha_du alpha_pr  ls\n",
      "  50  4.6651476e+00 3.65e-05 6.57e-03 -11.0 1.46e-01    -  1.00e+00 1.00e+00h  1\n",
      "  51  4.6650378e+00 4.94e-05 3.35e-03 -11.0 1.21e-01    -  1.00e+00 1.00e+00h  1\n",
      "  52  4.6652080e+00 4.06e-08 2.12e-04 -11.0 1.11e-01    -  1.00e+00 1.00e+00H  1\n",
      "  53  4.6651547e+00 1.97e-05 6.76e-03 -11.0 5.50e-02    -  1.00e+00 1.00e+00h  1\n",
      "  54  4.6651784e+00 9.13e-06 4.15e-03 -11.0 6.17e-02    -  1.00e+00 1.00e+00h  1\n",
      "  55  4.6649440e+00 9.23e-05 6.02e-03  -9.0 4.45e-01    -  1.00e+00 5.73e-01h  1\n",
      "  56  4.6649432e+00 9.22e-05 4.84e-03  -7.8 7.87e+00    -  1.00e+00 8.18e-05h  1\n",
      "  57  4.6651975e+00 6.30e-06 4.13e-03  -8.7 1.35e-02    -  1.00e+00 1.00e+00h  1\n",
      "  58  4.6651975e+00 1.19e-06 2.69e-03  -8.8 4.23e-03    -  1.00e+00 1.00e+00h  1\n",
      "  59  4.6651790e+00 1.48e-05 5.20e-03  -8.2 4.30e-02    -  1.00e+00 1.00e+00h  1\n",
      "iter    objective    inf_pr   inf_du lg(mu)  ||d||  lg(rg) alpha_du alpha_pr  ls\n",
      "  60  4.6651741e+00 1.16e-05 3.92e-03  -8.3 5.02e-02    -  5.68e-01 1.00e+00h  1\n",
      "  61  4.6651894e+00 1.27e-05 5.60e-03  -8.2 6.33e-02    -  1.00e+00 1.00e+00h  1\n",
      "  62  4.6645492e+00 1.34e-03 6.23e-03  -7.0 5.65e+00    -  3.71e-01 1.00e+00h  1\n",
      "  63  4.3495224e+00 1.79e-01 1.39e-01  -7.7 2.10e+03    -  1.00e+00 4.15e-01f  1\n",
      "  64  3.8812429e+00 6.92e-01 1.77e-01  -4.3 4.25e+03    -  4.16e-02 1.00e+00f  1\n",
      "  65  3.8556488e+00 9.02e-01 5.64e-01  -3.7 4.62e+03    -  5.59e-01 1.00e+00f  1\n",
      "  66  3.3532482e+00 1.10e+00 4.45e-01  -3.7 2.35e+05    -  2.08e-02 1.06e-02f  1\n",
      "  67  4.1857330e+00 5.13e-01 2.71e-01  -3.3 1.25e+04    -  1.00e+00 5.45e-01h  1\n",
      "  68  3.9064264e+00 7.77e-01 2.48e-01  -3.4 9.49e+03    -  5.24e-02 3.44e-01h  1\n",
      "  69  4.5883140e+00 5.74e-01 2.74e-01  -3.4 3.49e+03    -  8.49e-01 9.57e-01h  1\n",
      "iter    objective    inf_pr   inf_du lg(mu)  ||d||  lg(rg) alpha_du alpha_pr  ls\n",
      "  70  4.2716175e+00 4.48e-01 1.56e-01  -3.4 7.97e+03    -  6.82e-03 1.99e-01h  1\n",
      "  71  4.4376261e+00 8.41e-01 1.09e-01  -3.4 3.06e+03    -  7.11e-01 1.00e+00h  1\n",
      "  72  4.2718628e+00 8.02e-01 1.24e-01  -3.4 3.96e+03    -  7.79e-01 2.74e-01h  1\n",
      "  73  4.1692502e+00 8.15e-01 1.06e-01  -3.4 4.59e+03    -  8.05e-03 2.42e-01h  1\n",
      "  74  4.1787226e+00 7.74e-01 1.32e-01  -3.4 6.16e+03    -  3.97e-01 5.92e-02h  1\n",
      "  75  4.8354108e+00 5.18e-01 1.24e-01  -3.4 1.72e+03    -  1.00e+00 6.20e-01H  1\n",
      "  76  4.6938939e+00 5.47e-01 1.66e-01  -3.4 1.90e+04    -  2.02e-01 4.54e-02h  2\n",
      "  77  4.9988408e+00 4.89e-01 3.45e-01  -3.4 5.66e+03    -  2.14e-01 9.92e-01h  1\n",
      "  78  4.8499839e+00 4.26e-01 3.75e-01  -3.4 1.14e+04    -  7.42e-04 6.53e-02f  1\n",
      "  79  4.3375958e+00 6.40e-01 5.48e-02  -3.4 5.40e+03    -  1.00e+00 1.00e+00F  1\n",
      "iter    objective    inf_pr   inf_du lg(mu)  ||d||  lg(rg) alpha_du alpha_pr  ls\n",
      "  80  3.9034327e+00 5.38e-01 3.06e-01  -3.4 9.68e+03    -  3.65e-01 6.23e-01F  1\n",
      "  81  5.5758732e+00 8.59e-01 5.26e-01  -3.2 2.16e+03    -  5.65e-01 1.00e+00h  1\n",
      "  82  5.0529427e+00 5.22e-01 3.17e-01  -2.8 3.58e+03    -  1.00e+00 3.77e-01f  1\n",
      "  83  4.9564772e+00 1.45e+00 8.63e-01  -2.8 9.04e+03    -  1.43e-01 5.36e-01f  1\n",
      "  84  4.8642573e+00 1.29e+00 8.13e-01  -2.8 5.32e+03    -  7.63e-01 9.94e-02h  1\n",
      "  85  4.4360592e+00 9.26e-01 6.08e-01  -2.8 7.53e+03    -  6.61e-02 9.55e-01f  1\n",
      "  86  4.3526499e+00 8.61e-01 5.90e-01  -2.8 2.14e+03    -  8.04e-01 5.99e-02h  1\n",
      "  87  4.6534935e+00 4.66e-01 1.12e-01  -2.8 3.74e+03    -  1.22e-02 6.65e-01H  1\n",
      "  88  4.5693769e+00 4.42e-01 8.36e-02  -2.8 4.24e+03    -  8.34e-01 8.93e-02h  1\n",
      "  89  3.8390277e+00 5.35e-01 4.87e-01  -2.8 1.30e+04    -  4.88e-02 1.03e-01f  3\n",
      "iter    objective    inf_pr   inf_du lg(mu)  ||d||  lg(rg) alpha_du alpha_pr  ls\n",
      "  90  3.6653054e+00 5.12e-01 2.34e-01  -2.5 2.66e+04    -  6.48e-01 7.35e-02f  1\n",
      "  91  3.6674015e+00 5.23e-01 1.59e-01  -1.7 3.17e+04    -  5.25e-01 1.50e-02h  4\n",
      "  92  3.5710253e+00 9.15e-01 4.40e-01  -1.2 5.11e+04    -  2.61e-01 7.14e-02f  2\n",
      "  93  4.5652538e+00 7.65e-01 4.59e-01  -2.7 1.29e+04    -  1.87e-01 9.39e-01H  1\n",
      "  94  4.2994338e+00 5.43e-01 2.13e-01  -1.9 6.20e+03    -  1.00e+00 4.26e-01F  1\n",
      "  95  4.2721384e+00 6.11e-01 2.31e-01  -1.9 2.70e+04    -  1.33e-01 6.11e-02h  2\n",
      "  96  4.5982599e+00 5.45e-01 3.94e-01  -1.9 4.18e+03    -  3.25e-01 1.00e+00H  1\n",
      "  97  4.5955406e+00 6.97e-01 3.95e-01  -1.9 1.64e+04    -  2.74e-01 1.60e-02h  5\n",
      "  98  4.4487534e+00 5.66e-01 3.66e-01  -1.9 9.27e+03    -  2.35e-01 4.40e-01f  1\n",
      "  99  4.1725592e+00 8.99e-01 2.72e-01  -1.9 1.72e+05    -  4.06e-02 3.19e-02f  2\n",
      "iter    objective    inf_pr   inf_du lg(mu)  ||d||  lg(rg) alpha_du alpha_pr  ls\n",
      " 100  4.9563901e+00 3.62e-01 2.72e-01  -1.9 6.55e+03    -  2.14e-01 5.29e-01h  1\n",
      "\n",
      "Number of Iterations....: 100\n",
      "\n",
      "                                   (scaled)                 (unscaled)\n",
      "Objective...............:   4.9563901175171567e+00    4.9563901175171567e+00\n",
      "Dual infeasibility......:   2.7174260006204348e-01    2.7174260006204348e-01\n",
      "Constraint violation....:   3.6196146876667257e-01    3.6196146876667257e-01\n",
      "Complementarity.........:   1.5305110259329480e-02    1.5305110259329480e-02\n",
      "Overall NLP error.......:   3.6196146876667257e-01    3.6196146876667257e-01\n",
      "\n",
      "\n",
      "Number of objective function evaluations             = 168\n",
      "Number of objective gradient evaluations             = 101\n",
      "Number of equality constraint evaluations            = 168\n",
      "Number of inequality constraint evaluations          = 168\n",
      "Number of equality constraint Jacobian evaluations   = 101\n",
      "Number of inequality constraint Jacobian evaluations = 101\n",
      "Number of Lagrangian Hessian evaluations             = 0\n",
      "Total CPU secs in IPOPT (w/o function evaluations)   =      9.102\n",
      "Total CPU secs in NLP function evaluations           =    940.749\n",
      "\n",
      "EXIT: Maximum Number of Iterations Exceeded.\n",
      "      solver  :   t_proc      (avg)   t_wall      (avg)    n_eval\n",
      "       nlp_f  |  29.13 s (173.38ms)  23.38 s (139.16ms)       168\n",
      "       nlp_g  |  25.97 s (154.56ms)  20.73 s (123.42ms)       168\n",
      "    nlp_grad  |   9.50 s (  9.50 s)   7.37 s (  7.37 s)         1\n",
      "  nlp_grad_f  | 523.87 s (  5.14 s) 419.30 s (  4.11 s)       102\n",
      "   nlp_jac_g  | 456.46 s (  4.48 s) 365.04 s (  3.58 s)       102\n",
      "       total  |   1.05ks (  1.05ks) 836.05 s (836.05 s)         1\n"
     ]
    },
    {
     "data": {
      "text/plain": [
       "DM([468.034, 453.412, 440.063, 425.747, 411.838, 398.561, 385.483, 370.694, 357.209, 173.841, 25, 25, 25, 25, 25, 25, 25, 25, 25, 25, 2732.92, 6198.29, -3878.46, 1639.7, 6123.03, -16585.5, 217.313, -14943.5, 6266.88, 49.1826, -3531.2, 2732.92, 6198.29, -3878.46, 1639.7, 6123.03, -16585.5, 217.313, -14943.5, 6266.88, 22.7, 22.7127, 22.9458, 23.1872, 23.5197, 23.7701, 23.6996, 23.6523, 23.7526, 23.9052, 22.7, 22.7, 22.7127, 22.9458, 23.1872, 23.5197, 23.7701, 23.6996, 23.6523, 23.7526, 22.9333, 22.7, 22.7, 22.7127, 22.9458, 23.1872, 23.5197, 23.7701, 23.6996, 23.6523])"
      ]
     },
     "execution_count": 154,
     "metadata": {},
     "output_type": "execute_result"
    }
   ],
   "source": [
    "res = solver(p = real_p, lbg = real_lbg, ubg = real_ubg)\n",
    "res['x']"
   ]
  },
  {
   "cell_type": "code",
   "execution_count": 86,
   "metadata": {},
   "outputs": [
    {
     "data": {
      "text/plain": [
       "{'f': DM(4.40448),\n",
       " 'g': DM([0, 0, 0, 0, 0, 0, 0, 0, 0, 0, 0, 0, 0, 0, 0, 0, 0, 0, 0, 0, 0, 0, 0, 0, 0, -0.00470767, 0, 0, 0, -0.113089, 0, 0, 0, 0.0784758, 0, 0, 0, -0.260693, 0, 0, 0, 0.357126, 0, 0, 0, 0.669296, 0, 0, 0, 0.68248, 0, 0, 0, -0.247434, 0, 0, 0, 0.19414, 0, 0]),\n",
       " 'lam_g': DM([0.00058908, 3.08326, -0.356412, -0.423444, 0.000371174, 0.000534039, -5.21535e-05, -0.000138734, 5.69737e-05, 5.3783e-05, 0.000187072, 0.000149544, 0.000114475, 3.09363e-06, 0.0420244, 0.0331837, 0.0236642, 0.0183999, 0.0143155, 0.0123639, 0.00744731, 0.00510669, 0.00291009, 0.000884082, 1.91038e-06, 2.43046, -0.265973, -0.332856, 4.74083e-05, 1.82938, -0.195364, -0.246757, 6.22741e-05, 1.35846, -0.15016, -0.180631, -2.68583e-05, 1.08861, -0.120118, -0.138914, -6.83068e-05, 0.917211, -0.0855439, -0.111596, -0.000115542, 0.624076, -0.0576698, -0.0785685, 5.21615e-05, 0.445059, -0.0326176, -0.0531857, 1.60475e-05, 0.237493, -0.0111887, -0.0298096, 6.34075e-06, 0.0680819, -0.000572791, -0.0094662]),\n",
       " 'lam_p': DM([0.000371174, 0.000534039, -5.21535e-05, -0.000138734, 5.69737e-05, 5.3783e-05, 0.000187072, 0.000149544, 0.000114475, 3.09363e-06, 0.0420244, 0.0331837, 0.0236642, 0.0183999, 0.0143155, 0.0123639, 0.00744731, 0.00510669, 0.00291009, 0.000884082, 0.00058908, 3.08326, -0.356412, -0.423444]),\n",
       " 'lam_x': DM([0, 0, 0, 0, 0, 0, 0, 0, 0, 0, 0, 0, 0, 0, 0, 0, 0, 0, 0, 0, 0, 0, 0, 0, 0, 0, 0, 0, 0, 0, 0, 0, 0, 0, 0, 0, 0, 0, 0, 0, 0, 0, 0, 0, 0, 0, 0, 0, 0, 0, 0, 0, 0, 0, 0, 0, 0, 0, 0, 0, 0, 0, 0, 0, 0, 0, 0, 0, 0, 0]),\n",
       " 'x': DM([468.034, 453.412, 440.063, 425.747, 411.838, 398.561, 385.483, 370.694, 357.209, 173.841, 25, 25, 25, 25, 25, 25, 25, 25, 25, 25, 8591.02, 61193.3, 50051, -8345.25, -162558, -4321.95, -72714.8, 5555.41, 14341.3, -3961.87, -3531.2, 8591.02, 61193.3, 50051, -8345.25, -162558, -4321.95, -72714.8, 5555.41, 14341.3, 22.7, 22.7182, 22.8375, 23.9545, 24.7475, 25.429, 24.0712, 24.7132, 23.4304, 23.7047, 22.7, 22.7, 22.7182, 22.8375, 23.9545, 24.7475, 25.429, 24.0712, 24.7132, 23.4304, 22.9333, 22.7, 22.7, 22.7182, 22.8375, 23.9545, 24.7475, 25.429, 24.0712, 24.7132])}"
      ]
     },
     "execution_count": 86,
     "metadata": {},
     "output_type": "execute_result"
    }
   ],
   "source": [
    "res"
   ]
  },
  {
   "cell_type": "code",
   "execution_count": 155,
   "metadata": {},
   "outputs": [
    {
     "data": {
      "text/html": [
       "<div>\n",
       "<style scoped>\n",
       "    .dataframe tbody tr th:only-of-type {\n",
       "        vertical-align: middle;\n",
       "    }\n",
       "\n",
       "    .dataframe tbody tr th {\n",
       "        vertical-align: top;\n",
       "    }\n",
       "\n",
       "    .dataframe thead th {\n",
       "        text-align: right;\n",
       "    }\n",
       "</style>\n",
       "<table border=\"1\" class=\"dataframe\">\n",
       "  <thead>\n",
       "    <tr style=\"text-align: right;\">\n",
       "      <th></th>\n",
       "      <th>0</th>\n",
       "      <th>1</th>\n",
       "      <th>2</th>\n",
       "      <th>3</th>\n",
       "      <th>4</th>\n",
       "      <th>5</th>\n",
       "      <th>6</th>\n",
       "    </tr>\n",
       "  </thead>\n",
       "  <tbody>\n",
       "    <tr>\n",
       "      <th>0</th>\n",
       "      <td>468.033533</td>\n",
       "      <td>25.0</td>\n",
       "      <td>2732.916493</td>\n",
       "      <td>-3531.200000</td>\n",
       "      <td>22.700000</td>\n",
       "      <td>22.700000</td>\n",
       "      <td>22.933333</td>\n",
       "    </tr>\n",
       "    <tr>\n",
       "      <th>1</th>\n",
       "      <td>453.411767</td>\n",
       "      <td>25.0</td>\n",
       "      <td>6198.288267</td>\n",
       "      <td>2732.916493</td>\n",
       "      <td>22.712653</td>\n",
       "      <td>22.700000</td>\n",
       "      <td>22.700000</td>\n",
       "    </tr>\n",
       "    <tr>\n",
       "      <th>2</th>\n",
       "      <td>440.063033</td>\n",
       "      <td>25.0</td>\n",
       "      <td>-3878.457834</td>\n",
       "      <td>6198.288267</td>\n",
       "      <td>22.945795</td>\n",
       "      <td>22.712653</td>\n",
       "      <td>22.700000</td>\n",
       "    </tr>\n",
       "    <tr>\n",
       "      <th>3</th>\n",
       "      <td>425.747367</td>\n",
       "      <td>25.0</td>\n",
       "      <td>1639.701692</td>\n",
       "      <td>-3878.457834</td>\n",
       "      <td>23.187228</td>\n",
       "      <td>22.945795</td>\n",
       "      <td>22.712653</td>\n",
       "    </tr>\n",
       "    <tr>\n",
       "      <th>4</th>\n",
       "      <td>411.838333</td>\n",
       "      <td>25.0</td>\n",
       "      <td>6123.032937</td>\n",
       "      <td>1639.701692</td>\n",
       "      <td>23.519734</td>\n",
       "      <td>23.187228</td>\n",
       "      <td>22.945795</td>\n",
       "    </tr>\n",
       "    <tr>\n",
       "      <th>5</th>\n",
       "      <td>398.560767</td>\n",
       "      <td>25.0</td>\n",
       "      <td>-16585.507739</td>\n",
       "      <td>6123.032937</td>\n",
       "      <td>23.770119</td>\n",
       "      <td>23.519734</td>\n",
       "      <td>23.187228</td>\n",
       "    </tr>\n",
       "    <tr>\n",
       "      <th>6</th>\n",
       "      <td>385.483400</td>\n",
       "      <td>25.0</td>\n",
       "      <td>217.313208</td>\n",
       "      <td>-16585.507739</td>\n",
       "      <td>23.699578</td>\n",
       "      <td>23.770119</td>\n",
       "      <td>23.519734</td>\n",
       "    </tr>\n",
       "    <tr>\n",
       "      <th>7</th>\n",
       "      <td>370.694433</td>\n",
       "      <td>25.0</td>\n",
       "      <td>-14943.460194</td>\n",
       "      <td>217.313208</td>\n",
       "      <td>23.652328</td>\n",
       "      <td>23.699578</td>\n",
       "      <td>23.770119</td>\n",
       "    </tr>\n",
       "    <tr>\n",
       "      <th>8</th>\n",
       "      <td>357.209133</td>\n",
       "      <td>25.0</td>\n",
       "      <td>6266.876146</td>\n",
       "      <td>-14943.460194</td>\n",
       "      <td>23.752610</td>\n",
       "      <td>23.652328</td>\n",
       "      <td>23.699578</td>\n",
       "    </tr>\n",
       "    <tr>\n",
       "      <th>9</th>\n",
       "      <td>173.840733</td>\n",
       "      <td>25.0</td>\n",
       "      <td>49.182629</td>\n",
       "      <td>6266.876146</td>\n",
       "      <td>23.905214</td>\n",
       "      <td>23.752610</td>\n",
       "      <td>23.652328</td>\n",
       "    </tr>\n",
       "  </tbody>\n",
       "</table>\n",
       "</div>"
      ],
      "text/plain": [
       "            0     1             2             3          4          5  \\\n",
       "0  468.033533  25.0   2732.916493  -3531.200000  22.700000  22.700000   \n",
       "1  453.411767  25.0   6198.288267   2732.916493  22.712653  22.700000   \n",
       "2  440.063033  25.0  -3878.457834   6198.288267  22.945795  22.712653   \n",
       "3  425.747367  25.0   1639.701692  -3878.457834  23.187228  22.945795   \n",
       "4  411.838333  25.0   6123.032937   1639.701692  23.519734  23.187228   \n",
       "5  398.560767  25.0 -16585.507739   6123.032937  23.770119  23.519734   \n",
       "6  385.483400  25.0    217.313208 -16585.507739  23.699578  23.770119   \n",
       "7  370.694433  25.0 -14943.460194    217.313208  23.652328  23.699578   \n",
       "8  357.209133  25.0   6266.876146 -14943.460194  23.752610  23.652328   \n",
       "9  173.840733  25.0     49.182629   6266.876146  23.905214  23.752610   \n",
       "\n",
       "           6  \n",
       "0  22.933333  \n",
       "1  22.700000  \n",
       "2  22.700000  \n",
       "3  22.712653  \n",
       "4  22.945795  \n",
       "5  23.187228  \n",
       "6  23.519734  \n",
       "7  23.770119  \n",
       "8  23.699578  \n",
       "9  23.652328  "
      ]
     },
     "execution_count": 155,
     "metadata": {},
     "output_type": "execute_result"
    }
   ],
   "source": [
    "df_results = pd.DataFrame(np.array(res['x'].reshape((N_horizon, -1))))\n",
    "df_results"
   ]
  },
  {
   "cell_type": "code",
   "execution_count": 2,
   "metadata": {},
   "outputs": [
    {
     "ename": "NameError",
     "evalue": "name 'np' is not defined",
     "output_type": "error",
     "traceback": [
      "\u001b[0;31m---------------------------------------------------------------------------\u001b[0m",
      "\u001b[0;31mNameError\u001b[0m                                 Traceback (most recent call last)",
      "\u001b[0;32m<ipython-input-2-acd52bfe0cdc>\u001b[0m in \u001b[0;36m<module>\u001b[0;34m\u001b[0m\n\u001b[0;32m----> 1\u001b[0;31m \u001b[0mnp\u001b[0m\u001b[0;34m.\u001b[0m\u001b[0marray\u001b[0m\u001b[0;34m(\u001b[0m\u001b[0mres\u001b[0m\u001b[0;34m[\u001b[0m\u001b[0;34m'x'\u001b[0m\u001b[0;34m]\u001b[0m\u001b[0;34m.\u001b[0m\u001b[0mreshape\u001b[0m\u001b[0;34m(\u001b[0m\u001b[0;34m(\u001b[0m\u001b[0mN_horizon\u001b[0m\u001b[0;34m,\u001b[0m \u001b[0;34m-\u001b[0m\u001b[0;36m1\u001b[0m\u001b[0;34m)\u001b[0m\u001b[0;34m)\u001b[0m\u001b[0;34m)\u001b[0m\u001b[0;34m\u001b[0m\u001b[0;34m\u001b[0m\u001b[0m\n\u001b[0m",
      "\u001b[0;31mNameError\u001b[0m: name 'np' is not defined"
     ]
    }
   ],
   "source": [
    "np.array(res['x'].reshape((N_horizon, -1)))"
   ]
  },
  {
   "cell_type": "code",
   "execution_count": null,
   "metadata": {},
   "outputs": [],
   "source": []
  }
 ],
 "metadata": {
  "kernelspec": {
   "display_name": "Python 3",
   "language": "python",
   "name": "python3"
  },
  "language_info": {
   "codemirror_mode": {
    "name": "ipython",
    "version": 3
   },
   "file_extension": ".py",
   "mimetype": "text/x-python",
   "name": "python",
   "nbconvert_exporter": "python",
   "pygments_lexer": "ipython3",
   "version": "3.9.4"
  }
 },
 "nbformat": 4,
 "nbformat_minor": 4
}
