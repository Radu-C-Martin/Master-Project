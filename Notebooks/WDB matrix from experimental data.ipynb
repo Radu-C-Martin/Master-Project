{
 "cells": [
  {
   "cell_type": "code",
   "execution_count": 1,
   "metadata": {},
   "outputs": [],
   "source": [
    "import pvlib"
   ]
  },
  {
   "cell_type": "code",
   "execution_count": 2,
   "metadata": {},
   "outputs": [],
   "source": [
    "import pandas as pd\n",
    "import numpy as np"
   ]
  },
  {
   "cell_type": "code",
   "execution_count": 3,
   "metadata": {},
   "outputs": [],
   "source": [
    "import matplotlib.pyplot as plt"
   ]
  },
  {
   "cell_type": "code",
   "execution_count": 4,
   "metadata": {},
   "outputs": [],
   "source": [
    "import scipy\n",
    "from scipy.io import loadmat"
   ]
  },
  {
   "cell_type": "markdown",
   "metadata": {},
   "source": [
    "The Polydome experiments have been done in the following order, begining and end dates:\n",
    "\n",
    "| No | Start Date       | End Date         |\n",
    "|----|------------------|------------------|\n",
    "| 1  | 01.06.2017 20:00 | 03.06.2017 17:00 |\n",
    "| 2  | 10.06.2017 16:00 | 12.06.2017 06:00 |\n",
    "| 3  | 16.06.2017 20:00 | 19.06.2017 06:00 |\n",
    "| 4  | 19.06.2017 20:00 | 22.06.2017 06:00 |\n",
    "| 5  | 30.06.2017 20:00 | 03.07.2017 06:00 |\n",
    "| 6  | 07.07.2017 20:00 | 10.07.2017 06:00 |\n",
    "| 7  | 13.07.2017 20:00 | 20.07.2017 06:00 |\n",
    "| 8  | 21.07.2017 20:00 | 24.07.2017 06:00 |"
   ]
  },
  {
   "cell_type": "markdown",
   "metadata": {},
   "source": [
    "Load the experimental data pertaining to the first experiment:"
   ]
  },
  {
   "cell_type": "code",
   "execution_count": 5,
   "metadata": {},
   "outputs": [
    {
     "data": {
      "text/plain": [
       "['Power',\n",
       " 'Setpoint',\n",
       " 'OutsideTemp',\n",
       " 'SupplyTemp',\n",
       " 'InsideTemp',\n",
       " 'LakeTemp',\n",
       " 'SolRad',\n",
       " 'SolRad_DA']"
      ]
     },
     "execution_count": 5,
     "metadata": {},
     "output_type": "execute_result"
    }
   ],
   "source": [
    "mat_exp1 = loadmat('../Data/Luca_experimental_data/Exp1.mat')\n",
    "measured_vals = [*mat_exp1['Exp1'].dtype.fields]\n",
    "measured_vals"
   ]
  },
  {
   "cell_type": "code",
   "execution_count": 6,
   "metadata": {},
   "outputs": [],
   "source": [
    "def df_from_mb_struct(mb_mat, field):\n",
    "    df_field = pd.DataFrame({\n",
    "            'timestamp': pd.Series(np.array(mb_mat[field][0,0]['time'][0,0]).flatten()),\n",
    "            'value': pd.Series(np.array(mb_mat[field][0,0]['values'][0,0]).flatten())\n",
    "            })\n",
    "    df_field['timestamp'] = pd.to_datetime(df_field['timestamp'], unit = 's', utc = False) + pd.Timedelta(2, 'hours')\n",
    "    df_field['timestamp'] = pd.DatetimeIndex(df_field['timestamp'], tz = 'Europe/Zurich')\n",
    "    df_field.set_index('timestamp', inplace = True, drop = True)\n",
    "    df_field.columns = [field]\n",
    "    \n",
    "    return df_field"
   ]
  },
  {
   "cell_type": "code",
   "execution_count": 7,
   "metadata": {},
   "outputs": [],
   "source": [
    "dict_dfs = {}\n",
    "for var in measured_vals:\n",
    "    dict_dfs[var] = df_from_mb_struct(mat_exp1['Exp1'], var)"
   ]
  },
  {
   "cell_type": "code",
   "execution_count": 8,
   "metadata": {},
   "outputs": [
    {
     "data": {
      "text/html": [
       "<div>\n",
       "<style scoped>\n",
       "    .dataframe tbody tr th:only-of-type {\n",
       "        vertical-align: middle;\n",
       "    }\n",
       "\n",
       "    .dataframe tbody tr th {\n",
       "        vertical-align: top;\n",
       "    }\n",
       "\n",
       "    .dataframe thead th {\n",
       "        text-align: right;\n",
       "    }\n",
       "</style>\n",
       "<table border=\"1\" class=\"dataframe\">\n",
       "  <thead>\n",
       "    <tr style=\"text-align: right;\">\n",
       "      <th></th>\n",
       "      <th>Power</th>\n",
       "      <th>Setpoint</th>\n",
       "      <th>OutsideTemp</th>\n",
       "      <th>SupplyTemp</th>\n",
       "      <th>InsideTemp</th>\n",
       "      <th>LakeTemp</th>\n",
       "      <th>SolRad</th>\n",
       "      <th>SolRad_DA</th>\n",
       "    </tr>\n",
       "    <tr>\n",
       "      <th>timestamp</th>\n",
       "      <th></th>\n",
       "      <th></th>\n",
       "      <th></th>\n",
       "      <th></th>\n",
       "      <th></th>\n",
       "      <th></th>\n",
       "      <th></th>\n",
       "      <th></th>\n",
       "    </tr>\n",
       "  </thead>\n",
       "  <tbody>\n",
       "    <tr>\n",
       "      <th>2017-06-01 20:00:00+02:00</th>\n",
       "      <td>5995.034483</td>\n",
       "      <td>23.5</td>\n",
       "      <td>22.0</td>\n",
       "      <td>24.5</td>\n",
       "      <td>24.4</td>\n",
       "      <td>24.200000</td>\n",
       "      <td>61.321333</td>\n",
       "      <td>122.0</td>\n",
       "    </tr>\n",
       "    <tr>\n",
       "      <th>2017-06-01 20:05:00+02:00</th>\n",
       "      <td>5957.000000</td>\n",
       "      <td>23.5</td>\n",
       "      <td>22.0</td>\n",
       "      <td>15.5</td>\n",
       "      <td>24.4</td>\n",
       "      <td>24.166667</td>\n",
       "      <td>57.926100</td>\n",
       "      <td>91.5</td>\n",
       "    </tr>\n",
       "    <tr>\n",
       "      <th>2017-06-01 20:10:00+02:00</th>\n",
       "      <td>5989.766667</td>\n",
       "      <td>23.5</td>\n",
       "      <td>22.0</td>\n",
       "      <td>15.2</td>\n",
       "      <td>24.1</td>\n",
       "      <td>24.066667</td>\n",
       "      <td>54.902033</td>\n",
       "      <td>91.5</td>\n",
       "    </tr>\n",
       "    <tr>\n",
       "      <th>2017-06-01 20:15:00+02:00</th>\n",
       "      <td>4563.344828</td>\n",
       "      <td>23.5</td>\n",
       "      <td>22.0</td>\n",
       "      <td>14.9</td>\n",
       "      <td>23.8</td>\n",
       "      <td>24.066667</td>\n",
       "      <td>73.860700</td>\n",
       "      <td>91.5</td>\n",
       "    </tr>\n",
       "    <tr>\n",
       "      <th>2017-06-01 20:20:00+02:00</th>\n",
       "      <td>1729.137931</td>\n",
       "      <td>23.5</td>\n",
       "      <td>22.0</td>\n",
       "      <td>18.2</td>\n",
       "      <td>23.5</td>\n",
       "      <td>23.833333</td>\n",
       "      <td>76.042533</td>\n",
       "      <td>91.5</td>\n",
       "    </tr>\n",
       "    <tr>\n",
       "      <th>...</th>\n",
       "      <td>...</td>\n",
       "      <td>...</td>\n",
       "      <td>...</td>\n",
       "      <td>...</td>\n",
       "      <td>...</td>\n",
       "      <td>...</td>\n",
       "      <td>...</td>\n",
       "      <td>...</td>\n",
       "    </tr>\n",
       "    <tr>\n",
       "      <th>2017-06-03 16:35:00+02:00</th>\n",
       "      <td>1732.137931</td>\n",
       "      <td>24.5</td>\n",
       "      <td>24.0</td>\n",
       "      <td>16.4</td>\n",
       "      <td>22.3</td>\n",
       "      <td>22.300000</td>\n",
       "      <td>361.247267</td>\n",
       "      <td>570.0</td>\n",
       "    </tr>\n",
       "    <tr>\n",
       "      <th>2017-06-03 16:40:00+02:00</th>\n",
       "      <td>1727.482759</td>\n",
       "      <td>24.5</td>\n",
       "      <td>24.0</td>\n",
       "      <td>17.6</td>\n",
       "      <td>22.3</td>\n",
       "      <td>22.300000</td>\n",
       "      <td>596.456167</td>\n",
       "      <td>570.0</td>\n",
       "    </tr>\n",
       "    <tr>\n",
       "      <th>2017-06-03 16:45:00+02:00</th>\n",
       "      <td>1726.233333</td>\n",
       "      <td>24.5</td>\n",
       "      <td>24.0</td>\n",
       "      <td>18.5</td>\n",
       "      <td>22.3</td>\n",
       "      <td>22.333333</td>\n",
       "      <td>550.335400</td>\n",
       "      <td>570.0</td>\n",
       "    </tr>\n",
       "    <tr>\n",
       "      <th>2017-06-03 16:50:00+02:00</th>\n",
       "      <td>1723.379310</td>\n",
       "      <td>24.5</td>\n",
       "      <td>24.0</td>\n",
       "      <td>20.0</td>\n",
       "      <td>22.6</td>\n",
       "      <td>22.300000</td>\n",
       "      <td>627.393133</td>\n",
       "      <td>570.0</td>\n",
       "    </tr>\n",
       "    <tr>\n",
       "      <th>2017-06-03 16:55:00+02:00</th>\n",
       "      <td>1728.379310</td>\n",
       "      <td>24.5</td>\n",
       "      <td>24.0</td>\n",
       "      <td>23.3</td>\n",
       "      <td>22.9</td>\n",
       "      <td>22.500000</td>\n",
       "      <td>564.347267</td>\n",
       "      <td>570.0</td>\n",
       "    </tr>\n",
       "  </tbody>\n",
       "</table>\n",
       "<p>540 rows × 8 columns</p>\n",
       "</div>"
      ],
      "text/plain": [
       "                                 Power  Setpoint  OutsideTemp  SupplyTemp  \\\n",
       "timestamp                                                                   \n",
       "2017-06-01 20:00:00+02:00  5995.034483      23.5         22.0        24.5   \n",
       "2017-06-01 20:05:00+02:00  5957.000000      23.5         22.0        15.5   \n",
       "2017-06-01 20:10:00+02:00  5989.766667      23.5         22.0        15.2   \n",
       "2017-06-01 20:15:00+02:00  4563.344828      23.5         22.0        14.9   \n",
       "2017-06-01 20:20:00+02:00  1729.137931      23.5         22.0        18.2   \n",
       "...                                ...       ...          ...         ...   \n",
       "2017-06-03 16:35:00+02:00  1732.137931      24.5         24.0        16.4   \n",
       "2017-06-03 16:40:00+02:00  1727.482759      24.5         24.0        17.6   \n",
       "2017-06-03 16:45:00+02:00  1726.233333      24.5         24.0        18.5   \n",
       "2017-06-03 16:50:00+02:00  1723.379310      24.5         24.0        20.0   \n",
       "2017-06-03 16:55:00+02:00  1728.379310      24.5         24.0        23.3   \n",
       "\n",
       "                           InsideTemp   LakeTemp      SolRad  SolRad_DA  \n",
       "timestamp                                                                \n",
       "2017-06-01 20:00:00+02:00        24.4  24.200000   61.321333      122.0  \n",
       "2017-06-01 20:05:00+02:00        24.4  24.166667   57.926100       91.5  \n",
       "2017-06-01 20:10:00+02:00        24.1  24.066667   54.902033       91.5  \n",
       "2017-06-01 20:15:00+02:00        23.8  24.066667   73.860700       91.5  \n",
       "2017-06-01 20:20:00+02:00        23.5  23.833333   76.042533       91.5  \n",
       "...                               ...        ...         ...        ...  \n",
       "2017-06-03 16:35:00+02:00        22.3  22.300000  361.247267      570.0  \n",
       "2017-06-03 16:40:00+02:00        22.3  22.300000  596.456167      570.0  \n",
       "2017-06-03 16:45:00+02:00        22.3  22.333333  550.335400      570.0  \n",
       "2017-06-03 16:50:00+02:00        22.6  22.300000  627.393133      570.0  \n",
       "2017-06-03 16:55:00+02:00        22.9  22.500000  564.347267      570.0  \n",
       "\n",
       "[540 rows x 8 columns]"
      ]
     },
     "execution_count": 8,
     "metadata": {},
     "output_type": "execute_result"
    }
   ],
   "source": [
    "df = dict_dfs[measured_vals[0]]\n",
    "\n",
    "for idx in range(1, len(measured_vals)):\n",
    "    df = pd.concat([df, dict_dfs[measured_vals[idx]]], axis = 1)\n",
    "df"
   ]
  },
  {
   "cell_type": "code",
   "execution_count": 9,
   "metadata": {},
   "outputs": [],
   "source": [
    "df['Power'] = df['Power'] - 1.67 * 1000 # remove the fan power consumption\n",
    "df['Power'] = np.where(df['Power'] > 6300, 6300, df['Power']) # cap to 1 compressor to remove non-linear effects"
   ]
  },
  {
   "cell_type": "markdown",
   "metadata": {},
   "source": [
    "Take the inside temperature to be the average of the two sensors (`InsideTemp` and `LakeTemp`):"
   ]
  },
  {
   "cell_type": "code",
   "execution_count": 10,
   "metadata": {},
   "outputs": [],
   "source": [
    "df['InsideTemp'] = df[['LakeTemp', 'InsideTemp']].mean(axis = 1) # Averaged Inside Temperature"
   ]
  },
  {
   "cell_type": "code",
   "execution_count": 11,
   "metadata": {},
   "outputs": [
    {
     "data": {
      "text/html": [
       "<div>\n",
       "<style scoped>\n",
       "    .dataframe tbody tr th:only-of-type {\n",
       "        vertical-align: middle;\n",
       "    }\n",
       "\n",
       "    .dataframe tbody tr th {\n",
       "        vertical-align: top;\n",
       "    }\n",
       "\n",
       "    .dataframe thead th {\n",
       "        text-align: right;\n",
       "    }\n",
       "</style>\n",
       "<table border=\"1\" class=\"dataframe\">\n",
       "  <thead>\n",
       "    <tr style=\"text-align: right;\">\n",
       "      <th></th>\n",
       "      <th>Power</th>\n",
       "      <th>Setpoint</th>\n",
       "      <th>OutsideTemp</th>\n",
       "      <th>SupplyTemp</th>\n",
       "      <th>InsideTemp</th>\n",
       "      <th>SolRad</th>\n",
       "    </tr>\n",
       "    <tr>\n",
       "      <th>timestamp</th>\n",
       "      <th></th>\n",
       "      <th></th>\n",
       "      <th></th>\n",
       "      <th></th>\n",
       "      <th></th>\n",
       "      <th></th>\n",
       "    </tr>\n",
       "  </thead>\n",
       "  <tbody>\n",
       "    <tr>\n",
       "      <th>2017-06-01 20:00:00+02:00</th>\n",
       "      <td>4325.034483</td>\n",
       "      <td>23.5</td>\n",
       "      <td>22.0</td>\n",
       "      <td>24.5</td>\n",
       "      <td>24.300000</td>\n",
       "      <td>61.321333</td>\n",
       "    </tr>\n",
       "    <tr>\n",
       "      <th>2017-06-01 20:05:00+02:00</th>\n",
       "      <td>4287.000000</td>\n",
       "      <td>23.5</td>\n",
       "      <td>22.0</td>\n",
       "      <td>15.5</td>\n",
       "      <td>24.283333</td>\n",
       "      <td>57.926100</td>\n",
       "    </tr>\n",
       "    <tr>\n",
       "      <th>2017-06-01 20:10:00+02:00</th>\n",
       "      <td>4319.766667</td>\n",
       "      <td>23.5</td>\n",
       "      <td>22.0</td>\n",
       "      <td>15.2</td>\n",
       "      <td>24.083333</td>\n",
       "      <td>54.902033</td>\n",
       "    </tr>\n",
       "    <tr>\n",
       "      <th>2017-06-01 20:15:00+02:00</th>\n",
       "      <td>2893.344828</td>\n",
       "      <td>23.5</td>\n",
       "      <td>22.0</td>\n",
       "      <td>14.9</td>\n",
       "      <td>23.933333</td>\n",
       "      <td>73.860700</td>\n",
       "    </tr>\n",
       "    <tr>\n",
       "      <th>2017-06-01 20:20:00+02:00</th>\n",
       "      <td>59.137931</td>\n",
       "      <td>23.5</td>\n",
       "      <td>22.0</td>\n",
       "      <td>18.2</td>\n",
       "      <td>23.666667</td>\n",
       "      <td>76.042533</td>\n",
       "    </tr>\n",
       "    <tr>\n",
       "      <th>...</th>\n",
       "      <td>...</td>\n",
       "      <td>...</td>\n",
       "      <td>...</td>\n",
       "      <td>...</td>\n",
       "      <td>...</td>\n",
       "      <td>...</td>\n",
       "    </tr>\n",
       "    <tr>\n",
       "      <th>2017-06-03 16:35:00+02:00</th>\n",
       "      <td>62.137931</td>\n",
       "      <td>24.5</td>\n",
       "      <td>24.0</td>\n",
       "      <td>16.4</td>\n",
       "      <td>22.300000</td>\n",
       "      <td>361.247267</td>\n",
       "    </tr>\n",
       "    <tr>\n",
       "      <th>2017-06-03 16:40:00+02:00</th>\n",
       "      <td>57.482759</td>\n",
       "      <td>24.5</td>\n",
       "      <td>24.0</td>\n",
       "      <td>17.6</td>\n",
       "      <td>22.300000</td>\n",
       "      <td>596.456167</td>\n",
       "    </tr>\n",
       "    <tr>\n",
       "      <th>2017-06-03 16:45:00+02:00</th>\n",
       "      <td>56.233333</td>\n",
       "      <td>24.5</td>\n",
       "      <td>24.0</td>\n",
       "      <td>18.5</td>\n",
       "      <td>22.316667</td>\n",
       "      <td>550.335400</td>\n",
       "    </tr>\n",
       "    <tr>\n",
       "      <th>2017-06-03 16:50:00+02:00</th>\n",
       "      <td>53.379310</td>\n",
       "      <td>24.5</td>\n",
       "      <td>24.0</td>\n",
       "      <td>20.0</td>\n",
       "      <td>22.450000</td>\n",
       "      <td>627.393133</td>\n",
       "    </tr>\n",
       "    <tr>\n",
       "      <th>2017-06-03 16:55:00+02:00</th>\n",
       "      <td>58.379310</td>\n",
       "      <td>24.5</td>\n",
       "      <td>24.0</td>\n",
       "      <td>23.3</td>\n",
       "      <td>22.700000</td>\n",
       "      <td>564.347267</td>\n",
       "    </tr>\n",
       "  </tbody>\n",
       "</table>\n",
       "<p>540 rows × 6 columns</p>\n",
       "</div>"
      ],
      "text/plain": [
       "                                 Power  Setpoint  OutsideTemp  SupplyTemp  \\\n",
       "timestamp                                                                   \n",
       "2017-06-01 20:00:00+02:00  4325.034483      23.5         22.0        24.5   \n",
       "2017-06-01 20:05:00+02:00  4287.000000      23.5         22.0        15.5   \n",
       "2017-06-01 20:10:00+02:00  4319.766667      23.5         22.0        15.2   \n",
       "2017-06-01 20:15:00+02:00  2893.344828      23.5         22.0        14.9   \n",
       "2017-06-01 20:20:00+02:00    59.137931      23.5         22.0        18.2   \n",
       "...                                ...       ...          ...         ...   \n",
       "2017-06-03 16:35:00+02:00    62.137931      24.5         24.0        16.4   \n",
       "2017-06-03 16:40:00+02:00    57.482759      24.5         24.0        17.6   \n",
       "2017-06-03 16:45:00+02:00    56.233333      24.5         24.0        18.5   \n",
       "2017-06-03 16:50:00+02:00    53.379310      24.5         24.0        20.0   \n",
       "2017-06-03 16:55:00+02:00    58.379310      24.5         24.0        23.3   \n",
       "\n",
       "                           InsideTemp      SolRad  \n",
       "timestamp                                          \n",
       "2017-06-01 20:00:00+02:00   24.300000   61.321333  \n",
       "2017-06-01 20:05:00+02:00   24.283333   57.926100  \n",
       "2017-06-01 20:10:00+02:00   24.083333   54.902033  \n",
       "2017-06-01 20:15:00+02:00   23.933333   73.860700  \n",
       "2017-06-01 20:20:00+02:00   23.666667   76.042533  \n",
       "...                               ...         ...  \n",
       "2017-06-03 16:35:00+02:00   22.300000  361.247267  \n",
       "2017-06-03 16:40:00+02:00   22.300000  596.456167  \n",
       "2017-06-03 16:45:00+02:00   22.316667  550.335400  \n",
       "2017-06-03 16:50:00+02:00   22.450000  627.393133  \n",
       "2017-06-03 16:55:00+02:00   22.700000  564.347267  \n",
       "\n",
       "[540 rows x 6 columns]"
      ]
     },
     "execution_count": 11,
     "metadata": {},
     "output_type": "execute_result"
    }
   ],
   "source": [
    "df.drop(columns = ['LakeTemp', 'SolRad_DA'], inplace = True) # Drop GHI prediction and the non-averaged inside temp measure\n",
    "df"
   ]
  },
  {
   "cell_type": "markdown",
   "metadata": {},
   "source": [
    "### Solar angles"
   ]
  },
  {
   "cell_type": "markdown",
   "metadata": {},
   "source": [
    "Get altitude information for Polydome GPS coordinates:"
   ]
  },
  {
   "cell_type": "markdown",
   "metadata": {},
   "source": [
    "<img src=\"Images/polydome_altitude.png\" alt=\"Polydome Altitude Source\" width=\"500\"/>"
   ]
  },
  {
   "cell_type": "code",
   "execution_count": 12,
   "metadata": {},
   "outputs": [],
   "source": [
    "latitude = 46.521476\n",
    "longitude = 6.569009\n",
    "altitude = 395"
   ]
  },
  {
   "cell_type": "markdown",
   "metadata": {},
   "source": [
    "Compute the solar position from GPS/altitude data:"
   ]
  },
  {
   "cell_type": "markdown",
   "metadata": {},
   "source": [
    "<img src=\"Images/solar_angles.png\" alt=\"Diagram of the zenith/azimuth angles definition\" width=\"500\"/>"
   ]
  },
  {
   "cell_type": "code",
   "execution_count": 13,
   "metadata": {},
   "outputs": [
    {
     "data": {
      "text/html": [
       "<div>\n",
       "<style scoped>\n",
       "    .dataframe tbody tr th:only-of-type {\n",
       "        vertical-align: middle;\n",
       "    }\n",
       "\n",
       "    .dataframe tbody tr th {\n",
       "        vertical-align: top;\n",
       "    }\n",
       "\n",
       "    .dataframe thead th {\n",
       "        text-align: right;\n",
       "    }\n",
       "</style>\n",
       "<table border=\"1\" class=\"dataframe\">\n",
       "  <thead>\n",
       "    <tr style=\"text-align: right;\">\n",
       "      <th></th>\n",
       "      <th>apparent_zenith</th>\n",
       "      <th>zenith</th>\n",
       "      <th>apparent_elevation</th>\n",
       "      <th>elevation</th>\n",
       "      <th>azimuth</th>\n",
       "      <th>equation_of_time</th>\n",
       "    </tr>\n",
       "    <tr>\n",
       "      <th>timestamp</th>\n",
       "      <th></th>\n",
       "      <th></th>\n",
       "      <th></th>\n",
       "      <th></th>\n",
       "      <th></th>\n",
       "      <th></th>\n",
       "    </tr>\n",
       "  </thead>\n",
       "  <tbody>\n",
       "    <tr>\n",
       "      <th>2017-06-01 20:00:00+02:00</th>\n",
       "      <td>78.691622</td>\n",
       "      <td>78.765922</td>\n",
       "      <td>11.308378</td>\n",
       "      <td>11.234078</td>\n",
       "      <td>290.430819</td>\n",
       "      <td>2.098613</td>\n",
       "    </tr>\n",
       "    <tr>\n",
       "      <th>2017-06-01 20:05:00+02:00</th>\n",
       "      <td>79.489651</td>\n",
       "      <td>79.569259</td>\n",
       "      <td>10.510349</td>\n",
       "      <td>10.430741</td>\n",
       "      <td>291.279501</td>\n",
       "      <td>2.098069</td>\n",
       "    </tr>\n",
       "    <tr>\n",
       "      <th>2017-06-01 20:10:00+02:00</th>\n",
       "      <td>80.282334</td>\n",
       "      <td>80.367965</td>\n",
       "      <td>9.717666</td>\n",
       "      <td>9.632035</td>\n",
       "      <td>292.130503</td>\n",
       "      <td>2.097524</td>\n",
       "    </tr>\n",
       "    <tr>\n",
       "      <th>2017-06-01 20:15:00+02:00</th>\n",
       "      <td>81.069332</td>\n",
       "      <td>81.161848</td>\n",
       "      <td>8.930668</td>\n",
       "      <td>8.838152</td>\n",
       "      <td>292.984123</td>\n",
       "      <td>2.096979</td>\n",
       "    </tr>\n",
       "    <tr>\n",
       "      <th>2017-06-01 20:20:00+02:00</th>\n",
       "      <td>81.850261</td>\n",
       "      <td>81.950719</td>\n",
       "      <td>8.149739</td>\n",
       "      <td>8.049281</td>\n",
       "      <td>293.840653</td>\n",
       "      <td>2.096433</td>\n",
       "    </tr>\n",
       "    <tr>\n",
       "      <th>...</th>\n",
       "      <td>...</td>\n",
       "      <td>...</td>\n",
       "      <td>...</td>\n",
       "      <td>...</td>\n",
       "      <td>...</td>\n",
       "      <td>...</td>\n",
       "    </tr>\n",
       "    <tr>\n",
       "      <th>2017-06-03 16:35:00+02:00</th>\n",
       "      <td>43.923091</td>\n",
       "      <td>43.937926</td>\n",
       "      <td>46.076909</td>\n",
       "      <td>46.062074</td>\n",
       "      <td>252.722275</td>\n",
       "      <td>1.796947</td>\n",
       "    </tr>\n",
       "    <tr>\n",
       "      <th>2017-06-03 16:40:00+02:00</th>\n",
       "      <td>44.746130</td>\n",
       "      <td>44.761396</td>\n",
       "      <td>45.253870</td>\n",
       "      <td>45.238604</td>\n",
       "      <td>253.882437</td>\n",
       "      <td>1.796365</td>\n",
       "    </tr>\n",
       "    <tr>\n",
       "      <th>2017-06-03 16:45:00+02:00</th>\n",
       "      <td>45.573942</td>\n",
       "      <td>45.589654</td>\n",
       "      <td>44.426058</td>\n",
       "      <td>44.410346</td>\n",
       "      <td>255.018953</td>\n",
       "      <td>1.795782</td>\n",
       "    </tr>\n",
       "    <tr>\n",
       "      <th>2017-06-03 16:50:00+02:00</th>\n",
       "      <td>46.406107</td>\n",
       "      <td>46.422280</td>\n",
       "      <td>43.593893</td>\n",
       "      <td>43.577720</td>\n",
       "      <td>256.133161</td>\n",
       "      <td>1.795200</td>\n",
       "    </tr>\n",
       "    <tr>\n",
       "      <th>2017-06-03 16:55:00+02:00</th>\n",
       "      <td>47.242228</td>\n",
       "      <td>47.258880</td>\n",
       "      <td>42.757772</td>\n",
       "      <td>42.741120</td>\n",
       "      <td>257.226338</td>\n",
       "      <td>1.794617</td>\n",
       "    </tr>\n",
       "  </tbody>\n",
       "</table>\n",
       "<p>540 rows × 6 columns</p>\n",
       "</div>"
      ],
      "text/plain": [
       "                           apparent_zenith     zenith  apparent_elevation  \\\n",
       "timestamp                                                                   \n",
       "2017-06-01 20:00:00+02:00        78.691622  78.765922           11.308378   \n",
       "2017-06-01 20:05:00+02:00        79.489651  79.569259           10.510349   \n",
       "2017-06-01 20:10:00+02:00        80.282334  80.367965            9.717666   \n",
       "2017-06-01 20:15:00+02:00        81.069332  81.161848            8.930668   \n",
       "2017-06-01 20:20:00+02:00        81.850261  81.950719            8.149739   \n",
       "...                                    ...        ...                 ...   \n",
       "2017-06-03 16:35:00+02:00        43.923091  43.937926           46.076909   \n",
       "2017-06-03 16:40:00+02:00        44.746130  44.761396           45.253870   \n",
       "2017-06-03 16:45:00+02:00        45.573942  45.589654           44.426058   \n",
       "2017-06-03 16:50:00+02:00        46.406107  46.422280           43.593893   \n",
       "2017-06-03 16:55:00+02:00        47.242228  47.258880           42.757772   \n",
       "\n",
       "                           elevation     azimuth  equation_of_time  \n",
       "timestamp                                                           \n",
       "2017-06-01 20:00:00+02:00  11.234078  290.430819          2.098613  \n",
       "2017-06-01 20:05:00+02:00  10.430741  291.279501          2.098069  \n",
       "2017-06-01 20:10:00+02:00   9.632035  292.130503          2.097524  \n",
       "2017-06-01 20:15:00+02:00   8.838152  292.984123          2.096979  \n",
       "2017-06-01 20:20:00+02:00   8.049281  293.840653          2.096433  \n",
       "...                              ...         ...               ...  \n",
       "2017-06-03 16:35:00+02:00  46.062074  252.722275          1.796947  \n",
       "2017-06-03 16:40:00+02:00  45.238604  253.882437          1.796365  \n",
       "2017-06-03 16:45:00+02:00  44.410346  255.018953          1.795782  \n",
       "2017-06-03 16:50:00+02:00  43.577720  256.133161          1.795200  \n",
       "2017-06-03 16:55:00+02:00  42.741120  257.226338          1.794617  \n",
       "\n",
       "[540 rows x 6 columns]"
      ]
     },
     "execution_count": 13,
     "metadata": {},
     "output_type": "execute_result"
    }
   ],
   "source": [
    "df_solarposition = pvlib.solarposition.get_solarposition(\n",
    "    time = df.index,\n",
    "    latitude = latitude, \n",
    "    longitude = longitude,\n",
    "    temperature = df['OutsideTemp'],\n",
    "    altitude = altitude\n",
    ")\n",
    "df_solarposition"
   ]
  },
  {
   "cell_type": "markdown",
   "metadata": {},
   "source": [
    "Check the difference between the real/geometrical zenith and the apparent zenith:"
   ]
  },
  {
   "cell_type": "code",
   "execution_count": 14,
   "metadata": {},
   "outputs": [
    {
     "data": {
      "image/png": "[encoded data removed]",
      "text/plain": [
       "<Figure size 432x288 with 1 Axes>"
      ]
     },
     "metadata": {
      "needs_background": "light"
     },
     "output_type": "display_data"
    }
   ],
   "source": [
    "df_solarposition[['apparent_zenith', 'zenith']].plot()\n",
    "plt.show()"
   ]
  },
  {
   "cell_type": "markdown",
   "metadata": {},
   "source": [
    "Compute the angle of incidence of the sun on the surface: "
   ]
  },
  {
   "cell_type": "markdown",
   "metadata": {},
   "source": [
    "<img src=\"Images/angle_of_incidence.jpg\" alt=\"Angle of incidence\" width=\"500\"/>"
   ]
  },
  {
   "cell_type": "code",
   "execution_count": 15,
   "metadata": {},
   "outputs": [],
   "source": [
    "surface_tilt = 0\n",
    "surface_azimuth = 0"
   ]
  },
  {
   "cell_type": "code",
   "execution_count": 16,
   "metadata": {},
   "outputs": [
    {
     "data": {
      "text/plain": [
       "timestamp\n",
       "2017-06-01 20:00:00+02:00    78.691622\n",
       "2017-06-01 20:05:00+02:00    79.489651\n",
       "2017-06-01 20:10:00+02:00    80.282334\n",
       "2017-06-01 20:15:00+02:00    81.069332\n",
       "2017-06-01 20:20:00+02:00    81.850261\n",
       "                               ...    \n",
       "2017-06-03 16:35:00+02:00    43.923091\n",
       "2017-06-03 16:40:00+02:00    44.746130\n",
       "2017-06-03 16:45:00+02:00    45.573942\n",
       "2017-06-03 16:50:00+02:00    46.406107\n",
       "2017-06-03 16:55:00+02:00    47.242228\n",
       "Name: aoi, Length: 540, dtype: float64"
      ]
     },
     "execution_count": 16,
     "metadata": {},
     "output_type": "execute_result"
    }
   ],
   "source": [
    "df_aoi = pvlib.irradiance.aoi(\n",
    "    surface_tilt = surface_tilt,\n",
    "    surface_azimuth = surface_azimuth,\n",
    "    solar_zenith = df_solarposition['apparent_zenith'],\n",
    "    solar_azimuth = df_solarposition['azimuth']\n",
    ")\n",
    "df_aoi"
   ]
  },
  {
   "cell_type": "markdown",
   "metadata": {},
   "source": [
    "### Solar radiation"
   ]
  },
  {
   "cell_type": "code",
   "execution_count": 17,
   "metadata": {},
   "outputs": [
    {
     "data": {
      "text/html": [
       "<div>\n",
       "<style scoped>\n",
       "    .dataframe tbody tr th:only-of-type {\n",
       "        vertical-align: middle;\n",
       "    }\n",
       "\n",
       "    .dataframe tbody tr th {\n",
       "        vertical-align: top;\n",
       "    }\n",
       "\n",
       "    .dataframe thead th {\n",
       "        text-align: right;\n",
       "    }\n",
       "</style>\n",
       "<table border=\"1\" class=\"dataframe\">\n",
       "  <thead>\n",
       "    <tr style=\"text-align: right;\">\n",
       "      <th></th>\n",
       "      <th>dni</th>\n",
       "      <th>dhi</th>\n",
       "      <th>kt</th>\n",
       "    </tr>\n",
       "    <tr>\n",
       "      <th>timestamp</th>\n",
       "      <th></th>\n",
       "      <th></th>\n",
       "      <th></th>\n",
       "    </tr>\n",
       "  </thead>\n",
       "  <tbody>\n",
       "    <tr>\n",
       "      <th>2017-06-01 20:00:00+02:00</th>\n",
       "      <td>7.251337</td>\n",
       "      <td>59.908644</td>\n",
       "      <td>0.237114</td>\n",
       "    </tr>\n",
       "    <tr>\n",
       "      <th>2017-06-01 20:05:00+02:00</th>\n",
       "      <td>7.672114</td>\n",
       "      <td>56.537088</td>\n",
       "      <td>0.241022</td>\n",
       "    </tr>\n",
       "    <tr>\n",
       "      <th>2017-06-01 20:10:00+02:00</th>\n",
       "      <td>8.423139</td>\n",
       "      <td>53.492674</td>\n",
       "      <td>0.247180</td>\n",
       "    </tr>\n",
       "    <tr>\n",
       "      <th>2017-06-01 20:15:00+02:00</th>\n",
       "      <td>52.657244</td>\n",
       "      <td>65.770239</td>\n",
       "      <td>0.362136</td>\n",
       "    </tr>\n",
       "    <tr>\n",
       "      <th>2017-06-01 20:20:00+02:00</th>\n",
       "      <td>94.364403</td>\n",
       "      <td>62.829177</td>\n",
       "      <td>0.409096</td>\n",
       "    </tr>\n",
       "  </tbody>\n",
       "</table>\n",
       "</div>"
      ],
      "text/plain": [
       "                                 dni        dhi        kt\n",
       "timestamp                                                \n",
       "2017-06-01 20:00:00+02:00   7.251337  59.908644  0.237114\n",
       "2017-06-01 20:05:00+02:00   7.672114  56.537088  0.241022\n",
       "2017-06-01 20:10:00+02:00   8.423139  53.492674  0.247180\n",
       "2017-06-01 20:15:00+02:00  52.657244  65.770239  0.362136\n",
       "2017-06-01 20:20:00+02:00  94.364403  62.829177  0.409096"
      ]
     },
     "execution_count": 17,
     "metadata": {},
     "output_type": "execute_result"
    }
   ],
   "source": [
    "df_erbs = pvlib.irradiance.erbs(\n",
    "    ghi = df['SolRad'],\n",
    "    zenith = df_solarposition['zenith'],\n",
    "    datetime_or_doy = df.index\n",
    ")\n",
    "df_erbs.head()"
   ]
  },
  {
   "cell_type": "code",
   "execution_count": 18,
   "metadata": {},
   "outputs": [],
   "source": [
    "erbs_ghi = df_erbs['dhi'] + df_erbs['dni']*np.cos(np.radians(df_solarposition['zenith']))"
   ]
  },
  {
   "cell_type": "markdown",
   "metadata": {},
   "source": [
    "Compare `erbs_ghi` with measured ghi to confirm they are the same:"
   ]
  },
  {
   "cell_type": "code",
   "execution_count": 19,
   "metadata": {},
   "outputs": [
    {
     "data": {
      "image/png": "[encoded data removed]",
      "text/plain": [
       "<Figure size 432x288 with 1 Axes>"
      ]
     },
     "metadata": {
      "needs_background": "light"
     },
     "output_type": "display_data"
    }
   ],
   "source": [
    "pd.concat([df['SolRad'], erbs_ghi], axis = 1).plot()\n",
    "plt.show()"
   ]
  },
  {
   "cell_type": "markdown",
   "metadata": {},
   "source": [
    "Compute the in-plane irradiance components:"
   ]
  },
  {
   "cell_type": "code",
   "execution_count": 20,
   "metadata": {},
   "outputs": [
    {
     "data": {
      "text/plain": [
       "timestamp\n",
       "2017-06-01 20:00:00+02:00     59.908644\n",
       "2017-06-01 20:05:00+02:00     56.537088\n",
       "2017-06-01 20:10:00+02:00     53.492674\n",
       "2017-06-01 20:15:00+02:00     65.770239\n",
       "2017-06-01 20:20:00+02:00     62.829177\n",
       "                                ...    \n",
       "2017-06-03 16:35:00+02:00    314.462614\n",
       "2017-06-03 16:40:00+02:00    219.485890\n",
       "2017-06-03 16:45:00+02:00    250.653973\n",
       "2017-06-03 16:50:00+02:00    167.328816\n",
       "2017-06-03 16:55:00+02:00    215.275641\n",
       "Name: dhi, Length: 540, dtype: float64"
      ]
     },
     "execution_count": 20,
     "metadata": {},
     "output_type": "execute_result"
    }
   ],
   "source": [
    "#poa_sky_diffuse\n",
    "df_sky_diffuse = pvlib.irradiance.get_sky_diffuse(\n",
    "    surface_tilt = surface_tilt,\n",
    "    surface_azimuth = surface_azimuth,\n",
    "    solar_zenith = df_solarposition['apparent_zenith'],\n",
    "    solar_azimuth = df_solarposition['azimuth'],\n",
    "    dni = df_erbs['dni'],\n",
    "    ghi = df['SolRad'],\n",
    "    dhi = df_erbs['dhi'],\n",
    ")\n",
    "df_sky_diffuse"
   ]
  },
  {
   "cell_type": "code",
   "execution_count": 21,
   "metadata": {},
   "outputs": [
    {
     "data": {
      "text/plain": [
       "timestamp\n",
       "2017-06-01 20:00:00+02:00    0.0\n",
       "2017-06-01 20:05:00+02:00    0.0\n",
       "2017-06-01 20:10:00+02:00    0.0\n",
       "2017-06-01 20:15:00+02:00    0.0\n",
       "2017-06-01 20:20:00+02:00    0.0\n",
       "                            ... \n",
       "2017-06-03 16:35:00+02:00    0.0\n",
       "2017-06-03 16:40:00+02:00    0.0\n",
       "2017-06-03 16:45:00+02:00    0.0\n",
       "2017-06-03 16:50:00+02:00    0.0\n",
       "2017-06-03 16:55:00+02:00    0.0\n",
       "Name: diffuse_ground, Length: 540, dtype: float64"
      ]
     },
     "execution_count": 21,
     "metadata": {},
     "output_type": "execute_result"
    }
   ],
   "source": [
    "#poa_ground_diffuse\n",
    "df_ground_diffuse = pvlib.irradiance.get_ground_diffuse(\n",
    "    surface_tilt = surface_tilt,\n",
    "    ghi = df['SolRad'],\n",
    "    surface_type = 'urban' # used for gound_diffuse calculation\n",
    ")\n",
    "df_ground_diffuse"
   ]
  },
  {
   "cell_type": "code",
   "execution_count": 22,
   "metadata": {
    "scrolled": true
   },
   "outputs": [
    {
     "data": {
      "text/html": [
       "<div>\n",
       "<style scoped>\n",
       "    .dataframe tbody tr th:only-of-type {\n",
       "        vertical-align: middle;\n",
       "    }\n",
       "\n",
       "    .dataframe tbody tr th {\n",
       "        vertical-align: top;\n",
       "    }\n",
       "\n",
       "    .dataframe thead th {\n",
       "        text-align: right;\n",
       "    }\n",
       "</style>\n",
       "<table border=\"1\" class=\"dataframe\">\n",
       "  <thead>\n",
       "    <tr style=\"text-align: right;\">\n",
       "      <th></th>\n",
       "      <th>poa_global</th>\n",
       "      <th>poa_direct</th>\n",
       "      <th>poa_diffuse</th>\n",
       "      <th>poa_sky_diffuse</th>\n",
       "      <th>poa_ground_diffuse</th>\n",
       "    </tr>\n",
       "    <tr>\n",
       "      <th>timestamp</th>\n",
       "      <th></th>\n",
       "      <th></th>\n",
       "      <th></th>\n",
       "      <th></th>\n",
       "      <th></th>\n",
       "    </tr>\n",
       "  </thead>\n",
       "  <tbody>\n",
       "    <tr>\n",
       "      <th>2017-06-01 20:00:00+02:00</th>\n",
       "      <td>61.330555</td>\n",
       "      <td>1.421911</td>\n",
       "      <td>59.908644</td>\n",
       "      <td>59.908644</td>\n",
       "      <td>0.0</td>\n",
       "    </tr>\n",
       "    <tr>\n",
       "      <th>2017-06-01 20:05:00+02:00</th>\n",
       "      <td>57.936582</td>\n",
       "      <td>1.399494</td>\n",
       "      <td>56.537088</td>\n",
       "      <td>56.537088</td>\n",
       "      <td>0.0</td>\n",
       "    </tr>\n",
       "    <tr>\n",
       "      <th>2017-06-01 20:10:00+02:00</th>\n",
       "      <td>54.914443</td>\n",
       "      <td>1.421769</td>\n",
       "      <td>53.492674</td>\n",
       "      <td>53.492674</td>\n",
       "      <td>0.0</td>\n",
       "    </tr>\n",
       "    <tr>\n",
       "      <th>2017-06-01 20:15:00+02:00</th>\n",
       "      <td>73.944706</td>\n",
       "      <td>8.174467</td>\n",
       "      <td>65.770239</td>\n",
       "      <td>65.770239</td>\n",
       "      <td>0.0</td>\n",
       "    </tr>\n",
       "    <tr>\n",
       "      <th>2017-06-01 20:20:00+02:00</th>\n",
       "      <td>76.206334</td>\n",
       "      <td>13.377157</td>\n",
       "      <td>62.829177</td>\n",
       "      <td>62.829177</td>\n",
       "      <td>0.0</td>\n",
       "    </tr>\n",
       "    <tr>\n",
       "      <th>...</th>\n",
       "      <td>...</td>\n",
       "      <td>...</td>\n",
       "      <td>...</td>\n",
       "      <td>...</td>\n",
       "      <td>...</td>\n",
       "    </tr>\n",
       "    <tr>\n",
       "      <th>2017-06-03 16:35:00+02:00</th>\n",
       "      <td>361.258938</td>\n",
       "      <td>46.796324</td>\n",
       "      <td>314.462614</td>\n",
       "      <td>314.462614</td>\n",
       "      <td>0.0</td>\n",
       "    </tr>\n",
       "    <tr>\n",
       "      <th>2017-06-03 16:40:00+02:00</th>\n",
       "      <td>596.555761</td>\n",
       "      <td>377.069871</td>\n",
       "      <td>219.485890</td>\n",
       "      <td>219.485890</td>\n",
       "      <td>0.0</td>\n",
       "    </tr>\n",
       "    <tr>\n",
       "      <th>2017-06-03 16:45:00+02:00</th>\n",
       "      <td>550.419278</td>\n",
       "      <td>299.765305</td>\n",
       "      <td>250.653973</td>\n",
       "      <td>250.653973</td>\n",
       "      <td>0.0</td>\n",
       "    </tr>\n",
       "    <tr>\n",
       "      <th>2017-06-03 16:50:00+02:00</th>\n",
       "      <td>627.529596</td>\n",
       "      <td>460.200780</td>\n",
       "      <td>167.328816</td>\n",
       "      <td>167.328816</td>\n",
       "      <td>0.0</td>\n",
       "    </tr>\n",
       "    <tr>\n",
       "      <th>2017-06-03 16:55:00+02:00</th>\n",
       "      <td>564.457032</td>\n",
       "      <td>349.181391</td>\n",
       "      <td>215.275641</td>\n",
       "      <td>215.275641</td>\n",
       "      <td>0.0</td>\n",
       "    </tr>\n",
       "  </tbody>\n",
       "</table>\n",
       "<p>540 rows × 5 columns</p>\n",
       "</div>"
      ],
      "text/plain": [
       "                           poa_global  poa_direct  poa_diffuse  \\\n",
       "timestamp                                                        \n",
       "2017-06-01 20:00:00+02:00   61.330555    1.421911    59.908644   \n",
       "2017-06-01 20:05:00+02:00   57.936582    1.399494    56.537088   \n",
       "2017-06-01 20:10:00+02:00   54.914443    1.421769    53.492674   \n",
       "2017-06-01 20:15:00+02:00   73.944706    8.174467    65.770239   \n",
       "2017-06-01 20:20:00+02:00   76.206334   13.377157    62.829177   \n",
       "...                               ...         ...          ...   \n",
       "2017-06-03 16:35:00+02:00  361.258938   46.796324   314.462614   \n",
       "2017-06-03 16:40:00+02:00  596.555761  377.069871   219.485890   \n",
       "2017-06-03 16:45:00+02:00  550.419278  299.765305   250.653973   \n",
       "2017-06-03 16:50:00+02:00  627.529596  460.200780   167.328816   \n",
       "2017-06-03 16:55:00+02:00  564.457032  349.181391   215.275641   \n",
       "\n",
       "                           poa_sky_diffuse  poa_ground_diffuse  \n",
       "timestamp                                                       \n",
       "2017-06-01 20:00:00+02:00        59.908644                 0.0  \n",
       "2017-06-01 20:05:00+02:00        56.537088                 0.0  \n",
       "2017-06-01 20:10:00+02:00        53.492674                 0.0  \n",
       "2017-06-01 20:15:00+02:00        65.770239                 0.0  \n",
       "2017-06-01 20:20:00+02:00        62.829177                 0.0  \n",
       "...                                    ...                 ...  \n",
       "2017-06-03 16:35:00+02:00       314.462614                 0.0  \n",
       "2017-06-03 16:40:00+02:00       219.485890                 0.0  \n",
       "2017-06-03 16:45:00+02:00       250.653973                 0.0  \n",
       "2017-06-03 16:50:00+02:00       167.328816                 0.0  \n",
       "2017-06-03 16:55:00+02:00       215.275641                 0.0  \n",
       "\n",
       "[540 rows x 5 columns]"
      ]
     },
     "execution_count": 22,
     "metadata": {},
     "output_type": "execute_result"
    }
   ],
   "source": [
    "df_poa_components = pvlib.irradiance.poa_components(\n",
    "    aoi = df_aoi,\n",
    "    dni = df_erbs['dni'],\n",
    "    poa_sky_diffuse = df_sky_diffuse,\n",
    "    poa_ground_diffuse = df_ground_diffuse\n",
    ")\n",
    "df_poa_components"
   ]
  },
  {
   "cell_type": "code",
   "execution_count": 23,
   "metadata": {},
   "outputs": [
    {
     "data": {
      "text/plain": [
       "timestamp\n",
       "2017-06-01 20:00:00+02:00     61.321333\n",
       "2017-06-01 20:05:00+02:00     57.926100\n",
       "2017-06-01 20:10:00+02:00     54.902033\n",
       "2017-06-01 20:15:00+02:00     73.860700\n",
       "2017-06-01 20:20:00+02:00     76.042533\n",
       "                                ...    \n",
       "2017-06-03 16:35:00+02:00    361.247267\n",
       "2017-06-03 16:40:00+02:00    596.456167\n",
       "2017-06-03 16:45:00+02:00    550.335400\n",
       "2017-06-03 16:50:00+02:00    627.393133\n",
       "2017-06-03 16:55:00+02:00    564.347267\n",
       "Name: SolRad, Length: 540, dtype: float64"
      ]
     },
     "execution_count": 23,
     "metadata": {},
     "output_type": "execute_result"
    }
   ],
   "source": [
    "df['SolRad']"
   ]
  },
  {
   "cell_type": "code",
   "execution_count": 24,
   "metadata": {
    "scrolled": true
   },
   "outputs": [
    {
     "name": "stdout",
     "output_type": "stream",
     "text": [
      "True\n",
      "True\n"
     ]
    }
   ],
   "source": [
    "print(df_sky_diffuse.equals(df_poa_components['poa_sky_diffuse']))\n",
    "print(df_ground_diffuse.equals(df_poa_components['poa_ground_diffuse']))"
   ]
  },
  {
   "cell_type": "code",
   "execution_count": 25,
   "metadata": {},
   "outputs": [
    {
     "data": {
      "image/png": "[encoded data removed]",
      "text/plain": [
       "<Figure size 432x288 with 1 Axes>"
      ]
     },
     "metadata": {
      "needs_background": "light"
     },
     "output_type": "display_data"
    }
   ],
   "source": [
    "df_poa_components.plot()\n",
    "plt.show()"
   ]
  },
  {
   "cell_type": "markdown",
   "metadata": {},
   "source": [
    "### Compile the WDB vector"
   ]
  },
  {
   "cell_type": "code",
   "execution_count": 26,
   "metadata": {},
   "outputs": [],
   "source": [
    "df_wdb = df.copy()\n",
    "df_wdb['time'] = (df_wdb.index - df_wdb.index[0]).total_seconds()"
   ]
  },
  {
   "cell_type": "markdown",
   "metadata": {},
   "source": [
    "Add the solar angles:"
   ]
  },
  {
   "cell_type": "code",
   "execution_count": 27,
   "metadata": {},
   "outputs": [],
   "source": [
    "df_wdb['zenith'] = df_solarposition['apparent_zenith'] # apparent_zenith takes into account refraction due to atmosphere\n",
    "df_wdb['azimuth'] = df_solarposition['azimuth']\n",
    "df_wdb['aoi'] = df_aoi"
   ]
  },
  {
   "cell_type": "markdown",
   "metadata": {},
   "source": [
    "Add the estimated radiation values:"
   ]
  },
  {
   "cell_type": "code",
   "execution_count": 28,
   "metadata": {},
   "outputs": [],
   "source": [
    "df_wdb['dni'] = df_erbs['dni']\n",
    "df_wdb['dhi'] = df_erbs['dhi']"
   ]
  },
  {
   "cell_type": "code",
   "execution_count": 29,
   "metadata": {},
   "outputs": [],
   "source": [
    "df_wdb['poa_direct'] = df_poa_components['poa_direct']\n",
    "df_wdb['poa_diffuse'] = df_poa_components['poa_diffuse']"
   ]
  },
  {
   "cell_type": "code",
   "execution_count": 30,
   "metadata": {},
   "outputs": [],
   "source": [
    "# Radiative temperature of the sky\n",
    "df_wdb['Tsky_rad'] = df_wdb['OutsideTemp'] - 6 # from email with Manuel\n",
    "\n",
    "df_wdb['relative_humidity'] = 50 # relative humidity. placeholder\n",
    "df_wdb['precipitation'] = -9999 # placeholder\n",
    "df_wdb['cloud_index'] = 0.5 # from email with Manuel, for the moment assumed to not be used by the model\n",
    "df_wdb['pressure'] = 96300 # placeholder, taken as mean of PUY station over the last year\n",
    "\n",
    "df_wdb['wind_speed'] = 0 # placeholder value\n",
    "df_wdb['wind_direction'] = -9999 # placeholder value\n",
    "\n",
    "df_wdb['incidence_main'] = -9999 # also missing in sample dataset\n",
    "df_wdb['incidence_second'] = -9999 # also missing in sample dataset"
   ]
  },
  {
   "cell_type": "markdown",
   "metadata": {},
   "source": [
    "Change the timestamp from being an index, to being a regular column:"
   ]
  },
  {
   "cell_type": "code",
   "execution_count": 31,
   "metadata": {},
   "outputs": [],
   "source": [
    "df_wdb.reset_index(inplace = True)"
   ]
  },
  {
   "cell_type": "markdown",
   "metadata": {},
   "source": [
    "Transform it to the YYYYmmddHHMM format expected by Carnot WDB:"
   ]
  },
  {
   "cell_type": "code",
   "execution_count": 32,
   "metadata": {},
   "outputs": [],
   "source": [
    "df_wdb['timestamp'] = df_wdb['timestamp'].dt.strftime(\"%Y%m%d%H%M\").astype('int')"
   ]
  },
  {
   "cell_type": "code",
   "execution_count": 33,
   "metadata": {},
   "outputs": [],
   "source": [
    "df_wdb['time'] = df_wdb['time'].astype('int')"
   ]
  },
  {
   "cell_type": "code",
   "execution_count": 34,
   "metadata": {},
   "outputs": [],
   "source": [
    "df_wdb = df_wdb[['time', 'timestamp', 'zenith', 'azimuth', 'dni', 'dhi', 'OutsideTemp', 'Tsky_rad', 'relative_humidity', 'precipitation', 'cloud_index', 'pressure', 'wind_speed', 'wind_direction', 'aoi', 'incidence_main', 'incidence_second', 'poa_direct', 'poa_diffuse']]"
   ]
  },
  {
   "cell_type": "markdown",
   "metadata": {},
   "source": [
    "Export file to matlab matrix:"
   ]
  },
  {
   "cell_type": "code",
   "execution_count": 35,
   "metadata": {},
   "outputs": [],
   "source": [
    "scipy.io.savemat(\"../Data/Exp1_WDB.mat\", {'Exp1_WDB': df_wdb.to_numpy()})"
   ]
  },
  {
   "cell_type": "code",
   "execution_count": 36,
   "metadata": {
    "scrolled": false
   },
   "outputs": [
    {
     "data": {
      "image/png": "[encoded data removed]",
      "text/plain": [
       "<Figure size 1080x360 with 1 Axes>"
      ]
     },
     "metadata": {
      "needs_background": "light"
     },
     "output_type": "display_data"
    }
   ],
   "source": [
    "df[['InsideTemp', 'Setpoint', 'OutsideTemp']].plot(figsize = (15, 5))\n",
    "plt.show()"
   ]
  }
 ],
 "metadata": {
  "kernelspec": {
   "display_name": "venv",
   "language": "python",
   "name": "venv"
  },
  "language_info": {
   "codemirror_mode": {
    "name": "ipython",
    "version": 3
   },
   "file_extension": ".py",
   "mimetype": "text/x-python",
   "name": "python",
   "nbconvert_exporter": "python",
   "pygments_lexer": "ipython3",
   "version": "3.9.2"
  }
 },
 "nbformat": 4,
 "nbformat_minor": 4
}
