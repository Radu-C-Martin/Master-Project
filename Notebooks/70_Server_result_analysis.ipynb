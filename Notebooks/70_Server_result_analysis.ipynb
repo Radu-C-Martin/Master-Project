{
 "cells": [
  {
   "cell_type": "code",
   "execution_count": 1,
   "id": "18dcf635-3dea-4054-8567-296692757af1",
   "metadata": {},
   "outputs": [],
   "source": [
    "import pandas as pd\n",
    "import numpy as np"
   ]
  },
  {
   "cell_type": "code",
   "execution_count": 2,
   "id": "98fd79c8-c47a-426b-98d1-fc94adaf75a2",
   "metadata": {},
   "outputs": [],
   "source": [
    "import tensorflow as tf\n",
    "import gpflow"
   ]
  },
  {
   "cell_type": "code",
   "execution_count": 3,
   "id": "50d83b6a-604a-4416-bc51-c7d7377e9147",
   "metadata": {},
   "outputs": [],
   "source": [
    "import pickle\n",
    "from pathlib import Path"
   ]
  },
  {
   "cell_type": "code",
   "execution_count": 10,
   "id": "612d3146-a2c4-4018-9573-edddc307c834",
   "metadata": {},
   "outputs": [],
   "source": [
    "from helpers import get_scaled_df, data_to_gpr, ScalerHelper"
   ]
  },
  {
   "cell_type": "code",
   "execution_count": 5,
   "id": "dc95dc5f-b5ec-4563-a719-e0fc84201d92",
   "metadata": {},
   "outputs": [],
   "source": [
    "import matplotlib.pyplot as plt"
   ]
  },
  {
   "cell_type": "code",
   "execution_count": 29,
   "id": "27456734-f026-429f-a10e-b27142a46b49",
   "metadata": {},
   "outputs": [],
   "source": [
    "sim_path = Path(\"../Data/Simulation_results/Second batch/\", \"4_sparse_GP_500pts_12_averageYear\")\n",
    "scaler = pickle.load(open(Path(sim_path, \"controller_scaler.pkl\"), 'rb'))\n",
    "scaler_helper = ScalerHelper(scaler)\n",
    "model = pickle.load(open(Path(sim_path, \"controller_model.pkl\"), 'rb'))\n",
    "df = pd.read_pickle(Path(sim_path, \"controller_df.pkl\"))\n",
    "X_log = pickle.load(open(Path(sim_path,\"controller_X_log.pkl\"), 'rb'))\n",
    "model_log = pickle.load(open(Path(sim_path,\"controller_model_log.pkl\"), 'rb'))"
   ]
  },
  {
   "cell_type": "code",
   "execution_count": 12,
   "id": "11fc2b92-5c79-40ff-8c3e-987143858e57",
   "metadata": {},
   "outputs": [],
   "source": [
    "t_cols = []\n",
    "w_cols = ['SolRad', 'OutsideTemp']\n",
    "u_cols = ['SimulatedHeat']\n",
    "y_cols = ['SimulatedTemp']\n",
    "\n",
    "t_lags = 0\n",
    "w_lags = 1\n",
    "u_lags = 2\n",
    "y_lags = 3\n",
    "\n",
    "dict_cols = {\n",
    "  't': (t_lags, t_cols),\n",
    "  'w': (w_lags, w_cols),\n",
    "  'u': (u_lags, u_cols),\n",
    " 'y': (y_lags, y_cols)\n",
    "}"
   ]
  },
  {
   "cell_type": "code",
   "execution_count": 31,
   "id": "c9ff2027-72b0-4218-8ef8-95c6004e62a4",
   "metadata": {},
   "outputs": [
    {
     "data": {
      "text/plain": [
       "341"
      ]
     },
     "execution_count": 31,
     "metadata": {},
     "output_type": "execute_result"
    }
   ],
   "source": [
    "len(model_log)"
   ]
  },
  {
   "cell_type": "code",
   "execution_count": 13,
   "id": "74de9917-1c6e-46f7-a1c8-e9fbec7d0232",
   "metadata": {},
   "outputs": [
    {
     "data": {
      "text/plain": [
       "array([0.60701006])"
      ]
     },
     "execution_count": 13,
     "metadata": {},
     "output_type": "execute_result"
    }
   ],
   "source": [
    "scaler_helper.scale_output(21)"
   ]
  },
  {
   "cell_type": "code",
   "execution_count": 9,
   "id": "f882da29-3e5c-4262-a88e-7e52c1d7c3a5",
   "metadata": {},
   "outputs": [
    {
     "data": {
      "text/html": [
       "<div>\n",
       "<style scoped>\n",
       "    .dataframe tbody tr th:only-of-type {\n",
       "        vertical-align: middle;\n",
       "    }\n",
       "\n",
       "    .dataframe tbody tr th {\n",
       "        vertical-align: top;\n",
       "    }\n",
       "\n",
       "    .dataframe thead th {\n",
       "        text-align: right;\n",
       "    }\n",
       "</style>\n",
       "<table border=\"1\" class=\"dataframe\">\n",
       "  <thead>\n",
       "    <tr style=\"text-align: right;\">\n",
       "      <th></th>\n",
       "      <th>0</th>\n",
       "      <th>1</th>\n",
       "      <th>2</th>\n",
       "      <th>3</th>\n",
       "      <th>4</th>\n",
       "      <th>5</th>\n",
       "      <th>6</th>\n",
       "    </tr>\n",
       "  </thead>\n",
       "  <tbody>\n",
       "    <tr>\n",
       "      <th>0</th>\n",
       "      <td>-1.0</td>\n",
       "      <td>-0.196272</td>\n",
       "      <td>0.439666</td>\n",
       "      <td>0.446585</td>\n",
       "      <td>0.611804</td>\n",
       "      <td>0.610780</td>\n",
       "      <td>0.609699</td>\n",
       "    </tr>\n",
       "    <tr>\n",
       "      <th>1</th>\n",
       "      <td>-1.0</td>\n",
       "      <td>-0.194079</td>\n",
       "      <td>0.430661</td>\n",
       "      <td>0.439666</td>\n",
       "      <td>0.609555</td>\n",
       "      <td>0.611804</td>\n",
       "      <td>0.610780</td>\n",
       "    </tr>\n",
       "    <tr>\n",
       "      <th>2</th>\n",
       "      <td>-1.0</td>\n",
       "      <td>-0.199561</td>\n",
       "      <td>0.433354</td>\n",
       "      <td>0.430661</td>\n",
       "      <td>0.607093</td>\n",
       "      <td>0.609555</td>\n",
       "      <td>0.611804</td>\n",
       "    </tr>\n",
       "    <tr>\n",
       "      <th>3</th>\n",
       "      <td>-1.0</td>\n",
       "      <td>-0.205044</td>\n",
       "      <td>0.439900</td>\n",
       "      <td>0.433354</td>\n",
       "      <td>0.606996</td>\n",
       "      <td>0.607093</td>\n",
       "      <td>0.609555</td>\n",
       "    </tr>\n",
       "    <tr>\n",
       "      <th>4</th>\n",
       "      <td>-1.0</td>\n",
       "      <td>-0.210526</td>\n",
       "      <td>0.447242</td>\n",
       "      <td>0.439900</td>\n",
       "      <td>0.606835</td>\n",
       "      <td>0.606996</td>\n",
       "      <td>0.607093</td>\n",
       "    </tr>\n",
       "    <tr>\n",
       "      <th>5</th>\n",
       "      <td>-1.0</td>\n",
       "      <td>-0.219298</td>\n",
       "      <td>0.454680</td>\n",
       "      <td>0.447242</td>\n",
       "      <td>0.606902</td>\n",
       "      <td>0.606835</td>\n",
       "      <td>0.606996</td>\n",
       "    </tr>\n",
       "    <tr>\n",
       "      <th>6</th>\n",
       "      <td>-1.0</td>\n",
       "      <td>-0.228070</td>\n",
       "      <td>0.462675</td>\n",
       "      <td>0.454680</td>\n",
       "      <td>0.606797</td>\n",
       "      <td>0.606902</td>\n",
       "      <td>0.606835</td>\n",
       "    </tr>\n",
       "    <tr>\n",
       "      <th>7</th>\n",
       "      <td>-1.0</td>\n",
       "      <td>-0.236842</td>\n",
       "      <td>0.471004</td>\n",
       "      <td>0.462675</td>\n",
       "      <td>0.606870</td>\n",
       "      <td>0.606797</td>\n",
       "      <td>0.606902</td>\n",
       "    </tr>\n",
       "    <tr>\n",
       "      <th>8</th>\n",
       "      <td>-1.0</td>\n",
       "      <td>-0.245614</td>\n",
       "      <td>0.607318</td>\n",
       "      <td>0.471004</td>\n",
       "      <td>0.607081</td>\n",
       "      <td>0.606870</td>\n",
       "      <td>0.606797</td>\n",
       "    </tr>\n",
       "  </tbody>\n",
       "</table>\n",
       "</div>"
      ],
      "text/plain": [
       "     0         1         2         3         4         5         6\n",
       "0 -1.0 -0.196272  0.439666  0.446585  0.611804  0.610780  0.609699\n",
       "1 -1.0 -0.194079  0.430661  0.439666  0.609555  0.611804  0.610780\n",
       "2 -1.0 -0.199561  0.433354  0.430661  0.607093  0.609555  0.611804\n",
       "3 -1.0 -0.205044  0.439900  0.433354  0.606996  0.607093  0.609555\n",
       "4 -1.0 -0.210526  0.447242  0.439900  0.606835  0.606996  0.607093\n",
       "5 -1.0 -0.219298  0.454680  0.447242  0.606902  0.606835  0.606996\n",
       "6 -1.0 -0.228070  0.462675  0.454680  0.606797  0.606902  0.606835\n",
       "7 -1.0 -0.236842  0.471004  0.462675  0.606870  0.606797  0.606902\n",
       "8 -1.0 -0.245614  0.607318  0.471004  0.607081  0.606870  0.606797"
      ]
     },
     "execution_count": 9,
     "metadata": {},
     "output_type": "execute_result"
    }
   ],
   "source": [
    "pd.DataFrame(X_log[-1])"
   ]
  },
  {
   "cell_type": "code",
   "execution_count": 14,
   "id": "af6d8095-e98c-4f1a-a145-aa939f4eff7b",
   "metadata": {},
   "outputs": [],
   "source": [
    "df_sc = get_scaled_df(df, dict_cols, scaler)\n",
    "df_gpr = data_to_gpr(df_sc, dict_cols)"
   ]
  },
  {
   "cell_type": "code",
   "execution_count": 15,
   "id": "b4dc8f43-b3f5-4c8d-bf61-3e54432dccd4",
   "metadata": {},
   "outputs": [
    {
     "data": {
      "text/html": [
       "<div>\n",
       "<style scoped>\n",
       "    .dataframe tbody tr th:only-of-type {\n",
       "        vertical-align: middle;\n",
       "    }\n",
       "\n",
       "    .dataframe tbody tr th {\n",
       "        vertical-align: top;\n",
       "    }\n",
       "\n",
       "    .dataframe thead th {\n",
       "        text-align: right;\n",
       "    }\n",
       "</style>\n",
       "<table border=\"1\" class=\"dataframe\">\n",
       "  <thead>\n",
       "    <tr style=\"text-align: right;\">\n",
       "      <th></th>\n",
       "      <th>SolRad</th>\n",
       "      <th>SolRad_1</th>\n",
       "      <th>OutsideTemp</th>\n",
       "      <th>OutsideTemp_1</th>\n",
       "      <th>SimulatedHeat</th>\n",
       "      <th>SimulatedHeat_1</th>\n",
       "      <th>SimulatedHeat_2</th>\n",
       "      <th>SimulatedTemp</th>\n",
       "      <th>SimulatedTemp_1</th>\n",
       "      <th>SimulatedTemp_2</th>\n",
       "      <th>SimulatedTemp_3</th>\n",
       "    </tr>\n",
       "  </thead>\n",
       "  <tbody>\n",
       "    <tr>\n",
       "      <th>3</th>\n",
       "      <td>-1.0</td>\n",
       "      <td>-1.0</td>\n",
       "      <td>-0.307018</td>\n",
       "      <td>-0.307018</td>\n",
       "      <td>-1.000000</td>\n",
       "      <td>1.000000</td>\n",
       "      <td>1.000000</td>\n",
       "      <td>1.000000</td>\n",
       "      <td>0.968013</td>\n",
       "      <td>0.956969</td>\n",
       "      <td>0.765691</td>\n",
       "    </tr>\n",
       "    <tr>\n",
       "      <th>4</th>\n",
       "      <td>-1.0</td>\n",
       "      <td>-1.0</td>\n",
       "      <td>-0.307018</td>\n",
       "      <td>-0.307018</td>\n",
       "      <td>-0.993927</td>\n",
       "      <td>-1.000000</td>\n",
       "      <td>1.000000</td>\n",
       "      <td>0.140832</td>\n",
       "      <td>1.000000</td>\n",
       "      <td>0.968013</td>\n",
       "      <td>0.956969</td>\n",
       "    </tr>\n",
       "    <tr>\n",
       "      <th>5</th>\n",
       "      <td>-1.0</td>\n",
       "      <td>-1.0</td>\n",
       "      <td>-0.321272</td>\n",
       "      <td>-0.307018</td>\n",
       "      <td>-0.987854</td>\n",
       "      <td>-0.993927</td>\n",
       "      <td>-1.000000</td>\n",
       "      <td>-0.045578</td>\n",
       "      <td>0.140832</td>\n",
       "      <td>1.000000</td>\n",
       "      <td>0.968013</td>\n",
       "    </tr>\n",
       "    <tr>\n",
       "      <th>6</th>\n",
       "      <td>-1.0</td>\n",
       "      <td>-1.0</td>\n",
       "      <td>-0.335526</td>\n",
       "      <td>-0.321272</td>\n",
       "      <td>-0.981781</td>\n",
       "      <td>-0.987854</td>\n",
       "      <td>-0.993927</td>\n",
       "      <td>-0.206770</td>\n",
       "      <td>-0.045578</td>\n",
       "      <td>0.140832</td>\n",
       "      <td>1.000000</td>\n",
       "    </tr>\n",
       "    <tr>\n",
       "      <th>7</th>\n",
       "      <td>-1.0</td>\n",
       "      <td>-1.0</td>\n",
       "      <td>-0.349781</td>\n",
       "      <td>-0.335526</td>\n",
       "      <td>-0.975709</td>\n",
       "      <td>-0.981781</td>\n",
       "      <td>-0.987854</td>\n",
       "      <td>-0.345365</td>\n",
       "      <td>-0.206770</td>\n",
       "      <td>-0.045578</td>\n",
       "      <td>0.140832</td>\n",
       "    </tr>\n",
       "    <tr>\n",
       "      <th>...</th>\n",
       "      <td>...</td>\n",
       "      <td>...</td>\n",
       "      <td>...</td>\n",
       "      <td>...</td>\n",
       "      <td>...</td>\n",
       "      <td>...</td>\n",
       "      <td>...</td>\n",
       "      <td>...</td>\n",
       "      <td>...</td>\n",
       "      <td>...</td>\n",
       "      <td>...</td>\n",
       "    </tr>\n",
       "    <tr>\n",
       "      <th>35028</th>\n",
       "      <td>-1.0</td>\n",
       "      <td>-1.0</td>\n",
       "      <td>-0.219298</td>\n",
       "      <td>-0.224781</td>\n",
       "      <td>0.456299</td>\n",
       "      <td>0.459792</td>\n",
       "      <td>0.463963</td>\n",
       "      <td>0.608831</td>\n",
       "      <td>0.608839</td>\n",
       "      <td>0.609613</td>\n",
       "      <td>0.610534</td>\n",
       "    </tr>\n",
       "    <tr>\n",
       "      <th>35029</th>\n",
       "      <td>-1.0</td>\n",
       "      <td>-1.0</td>\n",
       "      <td>-0.211623</td>\n",
       "      <td>-0.219298</td>\n",
       "      <td>0.451822</td>\n",
       "      <td>0.456299</td>\n",
       "      <td>0.459792</td>\n",
       "      <td>0.609699</td>\n",
       "      <td>0.608831</td>\n",
       "      <td>0.608839</td>\n",
       "      <td>0.609613</td>\n",
       "    </tr>\n",
       "    <tr>\n",
       "      <th>35030</th>\n",
       "      <td>-1.0</td>\n",
       "      <td>-1.0</td>\n",
       "      <td>-0.203947</td>\n",
       "      <td>-0.211623</td>\n",
       "      <td>0.446585</td>\n",
       "      <td>0.451822</td>\n",
       "      <td>0.456299</td>\n",
       "      <td>0.610780</td>\n",
       "      <td>0.609699</td>\n",
       "      <td>0.608831</td>\n",
       "      <td>0.608839</td>\n",
       "    </tr>\n",
       "    <tr>\n",
       "      <th>35031</th>\n",
       "      <td>-1.0</td>\n",
       "      <td>-1.0</td>\n",
       "      <td>-0.196272</td>\n",
       "      <td>-0.203947</td>\n",
       "      <td>0.439666</td>\n",
       "      <td>0.446585</td>\n",
       "      <td>0.451822</td>\n",
       "      <td>0.611804</td>\n",
       "      <td>0.610780</td>\n",
       "      <td>0.609699</td>\n",
       "      <td>0.608831</td>\n",
       "    </tr>\n",
       "    <tr>\n",
       "      <th>35032</th>\n",
       "      <td>-1.0</td>\n",
       "      <td>-1.0</td>\n",
       "      <td>-0.188596</td>\n",
       "      <td>-0.196272</td>\n",
       "      <td>0.431396</td>\n",
       "      <td>0.439666</td>\n",
       "      <td>0.446585</td>\n",
       "      <td>0.612204</td>\n",
       "      <td>0.611804</td>\n",
       "      <td>0.610780</td>\n",
       "      <td>0.609699</td>\n",
       "    </tr>\n",
       "  </tbody>\n",
       "</table>\n",
       "<p>35030 rows × 11 columns</p>\n",
       "</div>"
      ],
      "text/plain": [
       "       SolRad  SolRad_1  OutsideTemp  OutsideTemp_1  SimulatedHeat  \\\n",
       "3        -1.0      -1.0    -0.307018      -0.307018      -1.000000   \n",
       "4        -1.0      -1.0    -0.307018      -0.307018      -0.993927   \n",
       "5        -1.0      -1.0    -0.321272      -0.307018      -0.987854   \n",
       "6        -1.0      -1.0    -0.335526      -0.321272      -0.981781   \n",
       "7        -1.0      -1.0    -0.349781      -0.335526      -0.975709   \n",
       "...       ...       ...          ...            ...            ...   \n",
       "35028    -1.0      -1.0    -0.219298      -0.224781       0.456299   \n",
       "35029    -1.0      -1.0    -0.211623      -0.219298       0.451822   \n",
       "35030    -1.0      -1.0    -0.203947      -0.211623       0.446585   \n",
       "35031    -1.0      -1.0    -0.196272      -0.203947       0.439666   \n",
       "35032    -1.0      -1.0    -0.188596      -0.196272       0.431396   \n",
       "\n",
       "       SimulatedHeat_1  SimulatedHeat_2  SimulatedTemp  SimulatedTemp_1  \\\n",
       "3             1.000000         1.000000       1.000000         0.968013   \n",
       "4            -1.000000         1.000000       0.140832         1.000000   \n",
       "5            -0.993927        -1.000000      -0.045578         0.140832   \n",
       "6            -0.987854        -0.993927      -0.206770        -0.045578   \n",
       "7            -0.981781        -0.987854      -0.345365        -0.206770   \n",
       "...                ...              ...            ...              ...   \n",
       "35028         0.459792         0.463963       0.608831         0.608839   \n",
       "35029         0.456299         0.459792       0.609699         0.608831   \n",
       "35030         0.451822         0.456299       0.610780         0.609699   \n",
       "35031         0.446585         0.451822       0.611804         0.610780   \n",
       "35032         0.439666         0.446585       0.612204         0.611804   \n",
       "\n",
       "       SimulatedTemp_2  SimulatedTemp_3  \n",
       "3             0.956969         0.765691  \n",
       "4             0.968013         0.956969  \n",
       "5             1.000000         0.968013  \n",
       "6             0.140832         1.000000  \n",
       "7            -0.045578         0.140832  \n",
       "...                ...              ...  \n",
       "35028         0.609613         0.610534  \n",
       "35029         0.608839         0.609613  \n",
       "35030         0.608831         0.608839  \n",
       "35031         0.609699         0.608831  \n",
       "35032         0.610780         0.609699  \n",
       "\n",
       "[35030 rows x 11 columns]"
      ]
     },
     "execution_count": 15,
     "metadata": {},
     "output_type": "execute_result"
    }
   ],
   "source": [
    "df_gpr"
   ]
  },
  {
   "cell_type": "markdown",
   "id": "8c618dec-fd4e-4fbb-9a20-69ff57ce5192",
   "metadata": {},
   "source": [
    "## Multistep prediction"
   ]
  },
  {
   "cell_type": "code",
   "execution_count": 33,
   "id": "cf601d07-0fff-4e2f-8ac8-9169f749b399",
   "metadata": {},
   "outputs": [],
   "source": [
    "df_input = df_gpr.drop(columns = dict_cols['w'][1] + dict_cols['u'][1] + dict_cols['y'][1])\n",
    "df_output = df_gpr[dict_cols['y'][1]]"
   ]
  },
  {
   "cell_type": "code",
   "execution_count": 82,
   "id": "7f1858cc-c54b-4fb1-9f96-6f6e1e0ab9e4",
   "metadata": {},
   "outputs": [],
   "source": [
    "start_idx = 500\n",
    "nb_predictions = 25\n",
    "N_pred = 20"
   ]
  },
  {
   "cell_type": "code",
   "execution_count": 83,
   "id": "ea0a68ba-c4f4-463f-9ee1-474461086ebf",
   "metadata": {},
   "outputs": [
    {
     "data": {
      "text/plain": [
       "[<matplotlib.lines.Line2D at 0x7f77cc949a30>]"
      ]
     },
     "execution_count": 83,
     "metadata": {},
     "output_type": "execute_result"
    },
    {
     "data": {
      "image/png": "[encoded data removed]",
      "text/plain": [
       "<Figure size 432x288 with 1 Axes>"
      ]
     },
     "metadata": {
      "needs_background": "light"
     },
     "output_type": "display_data"
    }
   ],
   "source": [
    "plt.figure()\n",
    "plt.plot(df_output.iloc[start_idx:start_idx + nb_predictions + N_pred], 'o-', label = 'measured', color = 'darkblue')"
   ]
  },
  {
   "cell_type": "code",
   "execution_count": 90,
   "id": "466c5e48-c0f1-4388-8509-201bdae017ad",
   "metadata": {},
   "outputs": [],
   "source": [
    "m = model_log[-1]"
   ]
  },
  {
   "cell_type": "code",
   "execution_count": 91,
   "id": "6e46108b-f600-4ed7-bfd2-ca1d50d44dcf",
   "metadata": {},
   "outputs": [
    {
     "data": {
      "text/plain": [
       "Text(0.5, 1.0, 'Prediction over 20 steps')"
      ]
     },
     "execution_count": 91,
     "metadata": {},
     "output_type": "execute_result"
    },
    {
     "data": {
      "image/png": "[encoded data removed]",
      "text/plain": [
       "<Figure size 432x288 with 1 Axes>"
      ]
     },
     "metadata": {
      "needs_background": "light"
     },
     "output_type": "display_data"
    }
   ],
   "source": [
    "fig = plt.figure()\n",
    "\n",
    "y_name = dict_cols['y'][1][0]\n",
    "for idx in range(start_idx, start_idx + nb_predictions):\n",
    "    df_iter = df_input.iloc[idx:(idx + N_pred)].copy()\n",
    "    for idxx in range(N_pred - 1):\n",
    "        idx_old = df_iter.index[idxx]\n",
    "        idx_new = df_iter.index[idxx+1]\n",
    "        mean, var = m.predict_f(df_iter.loc[idx_old, :].to_numpy().reshape(1, -1))\n",
    "        df_iter.loc[idx_new, f'{y_name}_1'] = mean.numpy().flatten()\n",
    "        for lag in range(2, dict_cols['y'][0] + 1):\n",
    "            df_iter.loc[idx_new, f\"{y_name}_{lag}\"] = df_iter.loc[idx_old, f\"{y_name}_{lag-1}\"]\n",
    "        \n",
    "    mean_iter, var_iter = m.predict_f(df_iter.to_numpy())\n",
    "    plt.plot(df_iter.index, mean_iter.numpy(), '.-', label = 'predicted', color = 'orange')\n",
    "plt.plot(df_output.iloc[start_idx:start_idx + nb_predictions + N_pred], 'o-', label = 'measured', color = 'darkblue')\n",
    "plt.title(f\"Prediction over {N_pred} steps\")\n",
    "#plt.ylim([0.55, 0.65])\n",
    "#plt.savefig(f\"prediction_{N_pred}_steps.png\")"
   ]
  },
  {
   "cell_type": "code",
   "execution_count": 77,
   "id": "9d3635fb-cd7d-474e-aa6d-161ba89c5178",
   "metadata": {},
   "outputs": [
    {
     "data": {
      "text/plain": [
       "array([9.78609652, 8.55323373, 2.90362544, 4.93180936, 2.90045941,\n",
       "       3.29581621, 6.82360381])"
      ]
     },
     "execution_count": 77,
     "metadata": {},
     "output_type": "execute_result"
    }
   ],
   "source": [
    "gpflow.utilities.parameter_dict(m)['.kernel.lengthscales'].numpy()"
   ]
  },
  {
   "cell_type": "code",
   "execution_count": 99,
   "id": "10b690d6-3a28-452e-81fe-d99757da6fee",
   "metadata": {},
   "outputs": [
    {
     "data": {
      "text/plain": [
       "array([[17.2, 17.2, 17.2, 17.2, 24.2]])"
      ]
     },
     "execution_count": 99,
     "metadata": {},
     "output_type": "execute_result"
    }
   ],
   "source": [
    "np.params = np.empty((1, 5))\n",
    "np.params"
   ]
  },
  {
   "cell_type": "code",
   "execution_count": 98,
   "id": "632bc0e2-745b-40c8-846b-842e5f2eba52",
   "metadata": {},
   "outputs": [
    {
     "data": {
      "text/plain": [
       "array([20.88013634, 21.10070421])"
      ]
     },
     "execution_count": 98,
     "metadata": {},
     "output_type": "execute_result"
    }
   ],
   "source": [
    "scaler_helper.inverse_scale_output([0.5975, 0.6150])"
   ]
  },
  {
   "cell_type": "code",
   "execution_count": 16,
   "id": "dd58711c-3eea-46d9-a4e4-0a2cd5475d85",
   "metadata": {},
   "outputs": [
    {
     "data": {
      "text/html": [
       "<div>\n",
       "<style scoped>\n",
       "    .dataframe tbody tr th:only-of-type {\n",
       "        vertical-align: middle;\n",
       "    }\n",
       "\n",
       "    .dataframe tbody tr th {\n",
       "        vertical-align: top;\n",
       "    }\n",
       "\n",
       "    .dataframe thead th {\n",
       "        text-align: right;\n",
       "    }\n",
       "</style>\n",
       "<table border=\"1\" class=\"dataframe\">\n",
       "  <thead>\n",
       "    <tr style=\"text-align: right;\">\n",
       "      <th></th>\n",
       "      <th>SolRad</th>\n",
       "      <th>OutsideTemp</th>\n",
       "      <th>SimulatedHeat</th>\n",
       "      <th>SimulatedTemp</th>\n",
       "    </tr>\n",
       "  </thead>\n",
       "  <tbody>\n",
       "    <tr>\n",
       "      <th>0</th>\n",
       "      <td>0.00</td>\n",
       "      <td>-2.1</td>\n",
       "      <td>-5415.288115</td>\n",
       "      <td>23.000000</td>\n",
       "    </tr>\n",
       "    <tr>\n",
       "      <th>1</th>\n",
       "      <td>0.00</td>\n",
       "      <td>-2.1</td>\n",
       "      <td>-5415.288115</td>\n",
       "      <td>17.702812</td>\n",
       "    </tr>\n",
       "    <tr>\n",
       "      <th>2</th>\n",
       "      <td>0.00</td>\n",
       "      <td>-2.1</td>\n",
       "      <td>-5415.288115</td>\n",
       "      <td>15.713357</td>\n",
       "    </tr>\n",
       "    <tr>\n",
       "      <th>3</th>\n",
       "      <td>0.00</td>\n",
       "      <td>-2.1</td>\n",
       "      <td>-5415.288115</td>\n",
       "      <td>14.400440</td>\n",
       "    </tr>\n",
       "    <tr>\n",
       "      <th>4</th>\n",
       "      <td>0.00</td>\n",
       "      <td>-2.1</td>\n",
       "      <td>-5415.288115</td>\n",
       "      <td>13.350697</td>\n",
       "    </tr>\n",
       "    <tr>\n",
       "      <th>...</th>\n",
       "      <td>...</td>\n",
       "      <td>...</td>\n",
       "      <td>...</td>\n",
       "      <td>...</td>\n",
       "    </tr>\n",
       "    <tr>\n",
       "      <th>5136</th>\n",
       "      <td>440.00</td>\n",
       "      <td>1.6</td>\n",
       "      <td>30874.548732</td>\n",
       "      <td>20.361186</td>\n",
       "    </tr>\n",
       "    <tr>\n",
       "      <th>5137</th>\n",
       "      <td>442.25</td>\n",
       "      <td>1.8</td>\n",
       "      <td>30150.065017</td>\n",
       "      <td>20.195354</td>\n",
       "    </tr>\n",
       "    <tr>\n",
       "      <th>5138</th>\n",
       "      <td>444.50</td>\n",
       "      <td>2.0</td>\n",
       "      <td>29424.656508</td>\n",
       "      <td>20.072103</td>\n",
       "    </tr>\n",
       "    <tr>\n",
       "      <th>5139</th>\n",
       "      <td>446.75</td>\n",
       "      <td>2.2</td>\n",
       "      <td>29374.426928</td>\n",
       "      <td>19.952978</td>\n",
       "    </tr>\n",
       "    <tr>\n",
       "      <th>5140</th>\n",
       "      <td>449.00</td>\n",
       "      <td>2.4</td>\n",
       "      <td>29372.829496</td>\n",
       "      <td>19.899728</td>\n",
       "    </tr>\n",
       "  </tbody>\n",
       "</table>\n",
       "<p>5141 rows × 4 columns</p>\n",
       "</div>"
      ],
      "text/plain": [
       "      SolRad  OutsideTemp  SimulatedHeat  SimulatedTemp\n",
       "0       0.00         -2.1   -5415.288115      23.000000\n",
       "1       0.00         -2.1   -5415.288115      17.702812\n",
       "2       0.00         -2.1   -5415.288115      15.713357\n",
       "3       0.00         -2.1   -5415.288115      14.400440\n",
       "4       0.00         -2.1   -5415.288115      13.350697\n",
       "...      ...          ...            ...            ...\n",
       "5136  440.00          1.6   30874.548732      20.361186\n",
       "5137  442.25          1.8   30150.065017      20.195354\n",
       "5138  444.50          2.0   29424.656508      20.072103\n",
       "5139  446.75          2.2   29374.426928      19.952978\n",
       "5140  449.00          2.4   29372.829496      19.899728\n",
       "\n",
       "[5141 rows x 4 columns]"
      ]
     },
     "execution_count": 16,
     "metadata": {},
     "output_type": "execute_result"
    }
   ],
   "source": [
    "df"
   ]
  },
  {
   "cell_type": "code",
   "execution_count": 17,
   "id": "48f85cab-889a-4a55-8fc9-3090a8b38bfc",
   "metadata": {},
   "outputs": [
    {
     "data": {
      "text/plain": [
       "<AxesSubplot:>"
      ]
     },
     "execution_count": 17,
     "metadata": {},
     "output_type": "execute_result"
    },
    {
     "data": {
      "image/png": "[encoded data removed]",
      "text/plain": [
       "<Figure size 432x288 with 1 Axes>"
      ]
     },
     "metadata": {
      "needs_background": "light"
     },
     "output_type": "display_data"
    }
   ],
   "source": [
    "df['OutsideTemp'].plot()"
   ]
  },
  {
   "cell_type": "code",
   "execution_count": null,
   "id": "e66a6360-ac83-4448-830e-7af553e89222",
   "metadata": {},
   "outputs": [],
   "source": []
  }
 ],
 "metadata": {
  "kernelspec": {
   "display_name": "Python 3",
   "language": "python",
   "name": "python3"
  },
  "language_info": {
   "codemirror_mode": {
    "name": "ipython",
    "version": 3
   },
   "file_extension": ".py",
   "mimetype": "text/x-python",
   "name": "python",
   "nbconvert_exporter": "python",
   "pygments_lexer": "ipython3",
   "version": "3.9.4"
  }
 },
 "nbformat": 4,
 "nbformat_minor": 5
}
