{
 "cells": [
  {
   "cell_type": "code",
   "execution_count": 1,
   "metadata": {},
   "outputs": [],
   "source": [
    "from pathlib import Path\n",
    "from shutil import copyfile\n",
    "import pickle"
   ]
  },
  {
   "cell_type": "markdown",
   "metadata": {},
   "source": [
    "Load the general math/data manipulation packages"
   ]
  },
  {
   "cell_type": "code",
   "execution_count": 2,
   "metadata": {},
   "outputs": [],
   "source": [
    "import numpy as np\n",
    "import pandas as pd"
   ]
  },
  {
   "cell_type": "markdown",
   "metadata": {},
   "source": [
    "Load the packages related to the Gaussian Process Regressor:"
   ]
  },
  {
   "cell_type": "code",
   "execution_count": 3,
   "metadata": {},
   "outputs": [],
   "source": [
    "import gpflow\n",
    "import tensorflow as tf"
   ]
  },
  {
   "cell_type": "code",
   "execution_count": 4,
   "metadata": {},
   "outputs": [],
   "source": [
    "from gpflow.utilities import print_summary"
   ]
  },
  {
   "cell_type": "code",
   "execution_count": 5,
   "metadata": {},
   "outputs": [],
   "source": [
    "gpflow.config.set_default_summary_fmt(\"notebook\")"
   ]
  },
  {
   "cell_type": "code",
   "execution_count": 6,
   "metadata": {},
   "outputs": [],
   "source": [
    "tf.config.set_visible_devices([], 'GPU')"
   ]
  },
  {
   "cell_type": "code",
   "execution_count": 7,
   "metadata": {},
   "outputs": [],
   "source": [
    "import matplotlib.pyplot as plt"
   ]
  },
  {
   "cell_type": "markdown",
   "metadata": {},
   "source": [
    "Load the CasADi package used for optimization:"
   ]
  },
  {
   "cell_type": "code",
   "execution_count": 8,
   "metadata": {},
   "outputs": [],
   "source": [
    "import casadi"
   ]
  },
  {
   "cell_type": "markdown",
   "metadata": {},
   "source": [
    "Import MATLAB engine and start it in the background since this takes a while:"
   ]
  },
  {
   "cell_type": "code",
   "execution_count": 9,
   "metadata": {},
   "outputs": [],
   "source": [
    "import matlab.engine"
   ]
  },
  {
   "cell_type": "code",
   "execution_count": 10,
   "metadata": {},
   "outputs": [],
   "source": [
    "eng = matlab.engine.start_matlab()"
   ]
  },
  {
   "cell_type": "code",
   "execution_count": 11,
   "metadata": {},
   "outputs": [
    {
     "data": {
      "text/plain": [
       "<matlab.engine.futureresult.FutureResult at 0x7f1ca0156fa0>"
      ]
     },
     "execution_count": 11,
     "metadata": {},
     "output_type": "execute_result"
    }
   ],
   "source": [
    "eng.load_system(\"../Simulink/polydome\", background = True)"
   ]
  },
  {
   "cell_type": "markdown",
   "metadata": {},
   "source": [
    "Copy the experimental data set to the CARNOT input location: "
   ]
  },
  {
   "cell_type": "code",
   "execution_count": 12,
   "metadata": {},
   "outputs": [],
   "source": [
    "exp_id = 'Exp5'"
   ]
  },
  {
   "cell_type": "code",
   "execution_count": 13,
   "metadata": {},
   "outputs": [
    {
     "data": {
      "text/plain": [
       "'../Data/input_WDB.mat'"
      ]
     },
     "execution_count": 13,
     "metadata": {},
     "output_type": "execute_result"
    }
   ],
   "source": [
    "copyfile(f\"../Data/Experimental_data_WDB/{exp_id}_WDB.mat\", \"../Data/input_WDB.mat\")"
   ]
  },
  {
   "cell_type": "markdown",
   "metadata": {},
   "source": [
    "## Load the existing GP model"
   ]
  },
  {
   "cell_type": "code",
   "execution_count": 14,
   "metadata": {},
   "outputs": [],
   "source": [
    "model_path = Path(Path.cwd(), 'model')"
   ]
  },
  {
   "cell_type": "code",
   "execution_count": 15,
   "metadata": {},
   "outputs": [],
   "source": [
    "def load_gpr(model_path):\n",
    "    x_scaler = pickle.load(open(Path(model_path, 'x_scaler.pkl'), 'rb'))\n",
    "    m_params = pickle.load(open(Path(model_path, 'gp_params.gpf'), 'rb'))\n",
    "    m_data = pickle.load(open(Path(model_path, 'gp_data.gpf'), 'rb'))\n",
    "\n",
    "    k = gpflow.kernels.SquaredExponential(lengthscales=([1] * m_data[0].shape[1])) + gpflow.kernels.Constant()\n",
    "\n",
    "    m = gpflow.models.GPR(\n",
    "        data = m_data, \n",
    "        kernel = k, \n",
    "        mean_function = None\n",
    "        )\n",
    "    \n",
    "    gpflow.utilities.multiple_assign(m, m_params)\n",
    "    \n",
    "    return x_scaler, m"
   ]
  },
  {
   "cell_type": "code",
   "execution_count": 16,
   "metadata": {},
   "outputs": [
    {
     "data": {
      "text/html": [
       "<table>\n",
       "<thead>\n",
       "<tr><th>name                              </th><th>class    </th><th>transform       </th><th>prior  </th><th>trainable  </th><th>shape  </th><th>dtype  </th><th>value                                             </th></tr>\n",
       "</thead>\n",
       "<tbody>\n",
       "<tr><td>GPR.kernel.kernels[0].variance    </td><td>Parameter</td><td>Softplus        </td><td>       </td><td>True       </td><td>()     </td><td>float64</td><td>284790.175758825                                  </td></tr>\n",
       "<tr><td>GPR.kernel.kernels[0].lengthscales</td><td>Parameter</td><td>Softplus        </td><td>       </td><td>True       </td><td>(7,)   </td><td>float64</td><td>[8.23155895e+04, 1.32876975e+05, 2.21167354e+02...</td></tr>\n",
       "<tr><td>GPR.kernel.kernels[1].variance    </td><td>Parameter</td><td>Softplus        </td><td>       </td><td>True       </td><td>()     </td><td>float64</td><td>220815.62255492577                                </td></tr>\n",
       "<tr><td>GPR.likelihood.variance           </td><td>Parameter</td><td>Softplus + Shift</td><td>       </td><td>True       </td><td>()     </td><td>float64</td><td>0.1263230455247145                                </td></tr>\n",
       "</tbody>\n",
       "</table>"
      ],
      "text/plain": [
       "<IPython.core.display.HTML object>"
      ]
     },
     "metadata": {},
     "output_type": "display_data"
    }
   ],
   "source": [
    "x_scaler, model = load_gpr(model_path)\n",
    "print_summary(model)"
   ]
  },
  {
   "cell_type": "code",
   "execution_count": 85,
   "metadata": {},
   "outputs": [],
   "source": [
    "def get_gpr_horizon_array(W, x0, u):\n",
    "    \n",
    "    n_rows = W.shape[0]\n",
    "    \n",
    "    n_w = W.shape[1]\n",
    "    n_inputs = u.shape[1]\n",
    "    n_cols = n_w + n_inputs + x0.shape[1]\n",
    "    \n",
    "    X = np.zeros([n_rows, n_cols])\n",
    "    X[:, :2] = W\n",
    "    X[0, (n_w + n_inputs):] = x0\n",
    "    X[:, 2] = u.reshape((-1,))\n",
    "    \n",
    "    # autoregressive inputs\n",
    "    X[1: , 3] = X[:-1, 2]\n",
    "    \n",
    "    for idx in range(1, n_rows):\n",
    "        x_sc = x_scaler.transform(X[idx-1, :].reshape((1, -1)))\n",
    "        X[idx, 4], _ = model.predict_y(x_sc)\n",
    "        X[idx, 5:] = X[idx -1, 4:-1]\n",
    "        \n",
    "    return X"
   ]
  },
  {
   "cell_type": "code",
   "execution_count": 86,
   "metadata": {},
   "outputs": [
    {
     "data": {
      "text/plain": [
       "array([[ 1.        ,  1.        ,  3.        ,  2.        ,  2.        ,\n",
       "         2.        ,  2.        ],\n",
       "       [ 1.        ,  1.        ,  3.        ,  3.        ,  3.16887448,\n",
       "         2.        ,  2.        ],\n",
       "       [ 1.        ,  1.        ,  3.        ,  3.        ,  6.02687796,\n",
       "         3.16887448,  2.        ],\n",
       "       [ 1.        ,  1.        ,  3.        ,  3.        , 11.22601695,\n",
       "         6.02687796,  3.16887448],\n",
       "       [ 1.        ,  1.        ,  3.        ,  3.        , 19.6304083 ,\n",
       "        11.22601695,  6.02687796]])"
      ]
     },
     "execution_count": 86,
     "metadata": {},
     "output_type": "execute_result"
    }
   ],
   "source": [
    "test_W = np.ones([5, 2])\n",
    "test_x0 = 2 * np.ones([1, 4])\n",
    "test_u0 = 3 * np.ones([5, 1])\n",
    "\n",
    "test_X = get_gpr_horizon_array(test_W, test_x0, test_u0)\n",
    "test_X"
   ]
  },
  {
   "cell_type": "code",
   "execution_count": 87,
   "metadata": {},
   "outputs": [],
   "source": [
    "n_states = model.data[0].shape[1]"
   ]
  },
  {
   "cell_type": "markdown",
   "metadata": {},
   "source": [
    "## Set up the CasADi optimization problem"
   ]
  },
  {
   "cell_type": "code",
   "execution_count": 88,
   "metadata": {},
   "outputs": [],
   "source": [
    "# Package the regression model in a CasADi callback\n",
    "class GPR(casadi.Callback):\n",
    "  def __init__(self, name,  opts={}):\n",
    "    casadi.Callback.__init__(self)\n",
    "    self.construct(name, opts)\n",
    "    \n",
    "  # Number of inputs and outputs\n",
    "  def get_n_in(self): return 1\n",
    "  def get_n_out(self): return 1\n",
    "\n",
    "  def get_sparsity_in(self,i):\n",
    "      return casadi.Sparsity.dense(n_states,1)\n",
    "\n",
    "  def eval(self, arg):\n",
    "    x_input = x_scaler.transform(np.array(arg[0]).reshape(1, -1))\n",
    "    #x_input = np.array(arg[0]).reshape(1, -1)\n",
    "    [mean, _] = model.predict_y(x_input)\n",
    "    return [mean.numpy()]"
   ]
  },
  {
   "cell_type": "code",
   "execution_count": 89,
   "metadata": {},
   "outputs": [
    {
     "name": "stdout",
     "output_type": "stream",
     "text": [
      "GPR:(i0[7])->(o0) CallbackInternal\n"
     ]
    }
   ],
   "source": [
    "# Instantiate the Callback (make sure to keep a reference to it!)\n",
    "gpr = GPR('GPR', {\"enable_fd\":True})\n",
    "print(gpr)"
   ]
  },
  {
   "cell_type": "code",
   "execution_count": 90,
   "metadata": {},
   "outputs": [],
   "source": [
    "T_set = 20\n",
    "N_horizon = 5"
   ]
  },
  {
   "cell_type": "markdown",
   "metadata": {},
   "source": [
    "### Define optimization variables"
   ]
  },
  {
   "cell_type": "markdown",
   "metadata": {},
   "source": [
    "<img src=\"Images/gpr_X.JPG\" alt=\"Gaussian Process Input Array\" width=\"750\"/>"
   ]
  },
  {
   "cell_type": "code",
   "execution_count": 91,
   "metadata": {},
   "outputs": [],
   "source": [
    "X = casadi.MX.sym(\"X\", N_horizon, n_states)\n",
    "W = casadi.MX.sym(\"W\", N_horizon, 2)\n",
    "x0_lags = casadi.MX.sym(\"lags\", 1, n_states - 3)"
   ]
  },
  {
   "cell_type": "markdown",
   "metadata": {},
   "source": [
    "Impose initial lags:"
   ]
  },
  {
   "cell_type": "code",
   "execution_count": 92,
   "metadata": {},
   "outputs": [],
   "source": [
    "g = casadi.vec(X[0,3:] - x0_lags)"
   ]
  },
  {
   "cell_type": "markdown",
   "metadata": {},
   "source": [
    "Impose disturbances:"
   ]
  },
  {
   "cell_type": "code",
   "execution_count": 93,
   "metadata": {},
   "outputs": [],
   "source": [
    "g = casadi.vertcat(\n",
    "    g,\n",
    "    casadi.vec(X[:, :2] - W)\n",
    ")"
   ]
  },
  {
   "cell_type": "markdown",
   "metadata": {},
   "source": [
    "Compute objective:"
   ]
  },
  {
   "cell_type": "code",
   "execution_count": 94,
   "metadata": {},
   "outputs": [],
   "source": [
    "Y = gpr(X.T)\n",
    "J = casadi.dot(Y - T_set, Y - T_set)"
   ]
  },
  {
   "cell_type": "markdown",
   "metadata": {},
   "source": [
    "Fix input/output lags between time steps (equality constraints):"
   ]
  },
  {
   "cell_type": "code",
   "execution_count": 95,
   "metadata": {},
   "outputs": [],
   "source": [
    "for idx in range(1, N_horizon):\n",
    "    g = casadi.vertcat(\n",
    "        g,\n",
    "        X[idx, 3] - X[idx-1, 2],\n",
    "        X[idx, 4] - gpr(X[idx-1,:]),\n",
    "        X[idx, 5] - X[idx-1, 4],\n",
    "        X[idx, 6] - X[idx-1, 5]\n",
    "    )"
   ]
  },
  {
   "cell_type": "markdown",
   "metadata": {},
   "source": [
    "Impose input inequality constraints:"
   ]
  },
  {
   "cell_type": "code",
   "execution_count": 96,
   "metadata": {},
   "outputs": [],
   "source": [
    "g = casadi.vertcat(\n",
    "    g,\n",
    "    X[:, 2]\n",
    ")"
   ]
  },
  {
   "cell_type": "markdown",
   "metadata": {},
   "source": [
    "### Compile the optimization problem"
   ]
  },
  {
   "cell_type": "markdown",
   "metadata": {},
   "source": [
    "Compile the parameter vector:"
   ]
  },
  {
   "cell_type": "code",
   "execution_count": 97,
   "metadata": {},
   "outputs": [],
   "source": [
    "p = casadi.vertcat(\n",
    "    casadi.vec(W),\n",
    "    casadi.vec(x0_lags)\n",
    ")"
   ]
  },
  {
   "cell_type": "code",
   "execution_count": 98,
   "metadata": {},
   "outputs": [],
   "source": [
    "prob = {\"x\": casadi.vec(X), \"f\": J, \"p\": p, \"g\": g}\n",
    "options = {\"ipopt\": {\"hessian_approximation\": \"limited-memory\", \"max_iter\": 10,\n",
    "                     #\"acceptable_tol\": 1e-6, \"tol\": 1e-6,\n",
    "                     #\"linear_solver\": \"SPRAL\",\n",
    "                     #\"acceptable_obj_change_tol\": 1e-5, \n",
    "                     #\"mu_strategy\": \"adaptive\",\n",
    "                     \"expect_infeasible_problem\": \"yes\"\n",
    "                    }}"
   ]
  },
  {
   "cell_type": "markdown",
   "metadata": {},
   "source": [
    "Get the solver object:"
   ]
  },
  {
   "cell_type": "code",
   "execution_count": 99,
   "metadata": {},
   "outputs": [],
   "source": [
    "solver = casadi.nlpsol(\"solver\",\"ipopt\",prob, options)"
   ]
  },
  {
   "cell_type": "markdown",
   "metadata": {},
   "source": [
    "Compute the `lbg` `ubg` since they are always the same:"
   ]
  },
  {
   "cell_type": "code",
   "execution_count": 100,
   "metadata": {},
   "outputs": [],
   "source": [
    "Pel_max = 6300\n",
    "COP_heat = 5\n",
    "COP_cool = 5\n",
    "u_min = - COP_cool * Pel_max\n",
    "u_max = COP_heat * Pel_max"
   ]
  },
  {
   "cell_type": "code",
   "execution_count": 101,
   "metadata": {
    "tags": []
   },
   "outputs": [],
   "source": [
    "#u_min_sc = x_scaler.transform(np.array([1, 1, u_min, u_min, 1, 1, 1]).reshape((1, -1)))[0, 2]\n",
    "#u_max_sc = x_scaler.transform(np.array([1, 1, u_max, u_max, 1, 1, 1]).reshape((1, -1)))[0, 2]"
   ]
  },
  {
   "cell_type": "code",
   "execution_count": 102,
   "metadata": {},
   "outputs": [],
   "source": [
    "real_lbg = [0] * (4 + 2 * N_horizon + 4 * (N_horizon - 1)) + [u_min] * (N_horizon)\n",
    "real_ubg = [0] * (4 + 2 * N_horizon + 4 * (N_horizon - 1)) + [u_max] * (N_horizon)"
   ]
  },
  {
   "cell_type": "markdown",
   "metadata": {},
   "source": [
    "## Load CARNOT building with MATLAB backend"
   ]
  },
  {
   "cell_type": "code",
   "execution_count": 103,
   "metadata": {},
   "outputs": [
    {
     "data": {
      "text/html": [
       "<div>\n",
       "<style scoped>\n",
       "    .dataframe tbody tr th:only-of-type {\n",
       "        vertical-align: middle;\n",
       "    }\n",
       "\n",
       "    .dataframe tbody tr th {\n",
       "        vertical-align: top;\n",
       "    }\n",
       "\n",
       "    .dataframe thead th {\n",
       "        text-align: right;\n",
       "    }\n",
       "</style>\n",
       "<table border=\"1\" class=\"dataframe\">\n",
       "  <thead>\n",
       "    <tr style=\"text-align: right;\">\n",
       "      <th></th>\n",
       "      <th>Power</th>\n",
       "      <th>Setpoint</th>\n",
       "      <th>OutsideTemp</th>\n",
       "      <th>SupplyTemp</th>\n",
       "      <th>InsideTemp</th>\n",
       "      <th>SolRad</th>\n",
       "      <th>Heat</th>\n",
       "      <th>SimulatedTemp</th>\n",
       "    </tr>\n",
       "    <tr>\n",
       "      <th>timestamp</th>\n",
       "      <th></th>\n",
       "      <th></th>\n",
       "      <th></th>\n",
       "      <th></th>\n",
       "      <th></th>\n",
       "      <th></th>\n",
       "      <th></th>\n",
       "      <th></th>\n",
       "    </tr>\n",
       "  </thead>\n",
       "  <tbody>\n",
       "    <tr>\n",
       "      <th>2017-06-30 20:00:00+02:00</th>\n",
       "      <td>8.620690</td>\n",
       "      <td>22.5</td>\n",
       "      <td>19.0</td>\n",
       "      <td>22.1</td>\n",
       "      <td>22.283333</td>\n",
       "      <td>178.618267</td>\n",
       "      <td>8.620690</td>\n",
       "      <td>22.283285</td>\n",
       "    </tr>\n",
       "    <tr>\n",
       "      <th>2017-06-30 20:05:00+02:00</th>\n",
       "      <td>8.620690</td>\n",
       "      <td>22.5</td>\n",
       "      <td>19.0</td>\n",
       "      <td>22.1</td>\n",
       "      <td>22.233333</td>\n",
       "      <td>135.122100</td>\n",
       "      <td>8.620690</td>\n",
       "      <td>22.266734</td>\n",
       "    </tr>\n",
       "    <tr>\n",
       "      <th>2017-06-30 20:10:00+02:00</th>\n",
       "      <td>7.566667</td>\n",
       "      <td>22.5</td>\n",
       "      <td>19.0</td>\n",
       "      <td>22.1</td>\n",
       "      <td>22.366667</td>\n",
       "      <td>126.219967</td>\n",
       "      <td>7.566667</td>\n",
       "      <td>22.258667</td>\n",
       "    </tr>\n",
       "    <tr>\n",
       "      <th>2017-06-30 20:15:00+02:00</th>\n",
       "      <td>8.172414</td>\n",
       "      <td>22.5</td>\n",
       "      <td>19.0</td>\n",
       "      <td>22.1</td>\n",
       "      <td>22.366667</td>\n",
       "      <td>123.772467</td>\n",
       "      <td>8.172414</td>\n",
       "      <td>22.255146</td>\n",
       "    </tr>\n",
       "    <tr>\n",
       "      <th>2017-06-30 20:20:00+02:00</th>\n",
       "      <td>8.379310</td>\n",
       "      <td>22.5</td>\n",
       "      <td>17.5</td>\n",
       "      <td>22.4</td>\n",
       "      <td>22.566667</td>\n",
       "      <td>106.163600</td>\n",
       "      <td>-25.137931</td>\n",
       "      <td>22.255204</td>\n",
       "    </tr>\n",
       "  </tbody>\n",
       "</table>\n",
       "</div>"
      ],
      "text/plain": [
       "                              Power  Setpoint  OutsideTemp  SupplyTemp  \\\n",
       "timestamp                                                                \n",
       "2017-06-30 20:00:00+02:00  8.620690      22.5         19.0        22.1   \n",
       "2017-06-30 20:05:00+02:00  8.620690      22.5         19.0        22.1   \n",
       "2017-06-30 20:10:00+02:00  7.566667      22.5         19.0        22.1   \n",
       "2017-06-30 20:15:00+02:00  8.172414      22.5         19.0        22.1   \n",
       "2017-06-30 20:20:00+02:00  8.379310      22.5         17.5        22.4   \n",
       "\n",
       "                           InsideTemp      SolRad       Heat  SimulatedTemp  \n",
       "timestamp                                                                    \n",
       "2017-06-30 20:00:00+02:00   22.283333  178.618267   8.620690      22.283285  \n",
       "2017-06-30 20:05:00+02:00   22.233333  135.122100   8.620690      22.266734  \n",
       "2017-06-30 20:10:00+02:00   22.366667  126.219967   7.566667      22.258667  \n",
       "2017-06-30 20:15:00+02:00   22.366667  123.772467   8.172414      22.255146  \n",
       "2017-06-30 20:20:00+02:00   22.566667  106.163600 -25.137931      22.255204  "
      ]
     },
     "execution_count": 103,
     "metadata": {},
     "output_type": "execute_result"
    }
   ],
   "source": [
    "df = pd.read_pickle(f\"../Data/CARNOT_output/{exp_id}_full.pkl\")\n",
    "df.head()"
   ]
  },
  {
   "cell_type": "code",
   "execution_count": 104,
   "metadata": {},
   "outputs": [
    {
     "data": {
      "text/html": [
       "<div>\n",
       "<style scoped>\n",
       "    .dataframe tbody tr th:only-of-type {\n",
       "        vertical-align: middle;\n",
       "    }\n",
       "\n",
       "    .dataframe tbody tr th {\n",
       "        vertical-align: top;\n",
       "    }\n",
       "\n",
       "    .dataframe thead th {\n",
       "        text-align: right;\n",
       "    }\n",
       "</style>\n",
       "<table border=\"1\" class=\"dataframe\">\n",
       "  <thead>\n",
       "    <tr style=\"text-align: right;\">\n",
       "      <th></th>\n",
       "      <th>time</th>\n",
       "      <th>timestamp</th>\n",
       "      <th>zenith</th>\n",
       "      <th>azimuth</th>\n",
       "      <th>dni</th>\n",
       "      <th>dhi</th>\n",
       "      <th>OutsideTemp</th>\n",
       "      <th>Tsky_rad</th>\n",
       "      <th>relative_humidity</th>\n",
       "      <th>precipitation</th>\n",
       "      <th>cloud_index</th>\n",
       "      <th>pressure</th>\n",
       "      <th>wind_speed</th>\n",
       "      <th>wind_direction</th>\n",
       "      <th>aoi</th>\n",
       "      <th>incidence_main</th>\n",
       "      <th>incidence_second</th>\n",
       "      <th>poa_direct</th>\n",
       "      <th>poa_diffuse</th>\n",
       "    </tr>\n",
       "  </thead>\n",
       "  <tbody>\n",
       "    <tr>\n",
       "      <th>0</th>\n",
       "      <td>0</td>\n",
       "      <td>201706302000</td>\n",
       "      <td>77.058396</td>\n",
       "      <td>290.138593</td>\n",
       "      <td>461.587394</td>\n",
       "      <td>75.759999</td>\n",
       "      <td>19.0</td>\n",
       "      <td>13.0</td>\n",
       "      <td>50</td>\n",
       "      <td>-9999</td>\n",
       "      <td>0.5</td>\n",
       "      <td>96300</td>\n",
       "      <td>0</td>\n",
       "      <td>-9999</td>\n",
       "      <td>77.058396</td>\n",
       "      <td>-9999</td>\n",
       "      <td>-9999</td>\n",
       "      <td>103.376122</td>\n",
       "      <td>75.759999</td>\n",
       "    </tr>\n",
       "    <tr>\n",
       "      <th>1</th>\n",
       "      <td>300</td>\n",
       "      <td>201706302005</td>\n",
       "      <td>77.859576</td>\n",
       "      <td>290.978550</td>\n",
       "      <td>206.014761</td>\n",
       "      <td>92.042087</td>\n",
       "      <td>19.0</td>\n",
       "      <td>13.0</td>\n",
       "      <td>50</td>\n",
       "      <td>-9999</td>\n",
       "      <td>0.5</td>\n",
       "      <td>96300</td>\n",
       "      <td>0</td>\n",
       "      <td>-9999</td>\n",
       "      <td>77.859576</td>\n",
       "      <td>-9999</td>\n",
       "      <td>-9999</td>\n",
       "      <td>43.326628</td>\n",
       "      <td>92.042087</td>\n",
       "    </tr>\n",
       "    <tr>\n",
       "      <th>2</th>\n",
       "      <td>600</td>\n",
       "      <td>201706302010</td>\n",
       "      <td>78.655742</td>\n",
       "      <td>291.820500</td>\n",
       "      <td>205.632053</td>\n",
       "      <td>86.034806</td>\n",
       "      <td>19.0</td>\n",
       "      <td>13.0</td>\n",
       "      <td>50</td>\n",
       "      <td>-9999</td>\n",
       "      <td>0.5</td>\n",
       "      <td>96300</td>\n",
       "      <td>0</td>\n",
       "      <td>-9999</td>\n",
       "      <td>78.655742</td>\n",
       "      <td>-9999</td>\n",
       "      <td>-9999</td>\n",
       "      <td>40.448556</td>\n",
       "      <td>86.034806</td>\n",
       "    </tr>\n",
       "    <tr>\n",
       "      <th>3</th>\n",
       "      <td>900</td>\n",
       "      <td>201706302015</td>\n",
       "      <td>79.446620</td>\n",
       "      <td>292.664742</td>\n",
       "      <td>254.541692</td>\n",
       "      <td>77.502756</td>\n",
       "      <td>19.0</td>\n",
       "      <td>13.0</td>\n",
       "      <td>50</td>\n",
       "      <td>-9999</td>\n",
       "      <td>0.5</td>\n",
       "      <td>96300</td>\n",
       "      <td>0</td>\n",
       "      <td>-9999</td>\n",
       "      <td>79.446620</td>\n",
       "      <td>-9999</td>\n",
       "      <td>-9999</td>\n",
       "      <td>46.619695</td>\n",
       "      <td>77.502756</td>\n",
       "    </tr>\n",
       "    <tr>\n",
       "      <th>4</th>\n",
       "      <td>1200</td>\n",
       "      <td>201706302020</td>\n",
       "      <td>80.231464</td>\n",
       "      <td>293.511567</td>\n",
       "      <td>186.928631</td>\n",
       "      <td>74.726041</td>\n",
       "      <td>17.5</td>\n",
       "      <td>11.5</td>\n",
       "      <td>50</td>\n",
       "      <td>-9999</td>\n",
       "      <td>0.5</td>\n",
       "      <td>96300</td>\n",
       "      <td>0</td>\n",
       "      <td>-9999</td>\n",
       "      <td>80.231464</td>\n",
       "      <td>-9999</td>\n",
       "      <td>-9999</td>\n",
       "      <td>31.715871</td>\n",
       "      <td>74.726041</td>\n",
       "    </tr>\n",
       "  </tbody>\n",
       "</table>\n",
       "</div>"
      ],
      "text/plain": [
       "   time     timestamp     zenith     azimuth         dni        dhi  \\\n",
       "0     0  201706302000  77.058396  290.138593  461.587394  75.759999   \n",
       "1   300  201706302005  77.859576  290.978550  206.014761  92.042087   \n",
       "2   600  201706302010  78.655742  291.820500  205.632053  86.034806   \n",
       "3   900  201706302015  79.446620  292.664742  254.541692  77.502756   \n",
       "4  1200  201706302020  80.231464  293.511567  186.928631  74.726041   \n",
       "\n",
       "   OutsideTemp  Tsky_rad  relative_humidity  precipitation  cloud_index  \\\n",
       "0         19.0      13.0                 50          -9999          0.5   \n",
       "1         19.0      13.0                 50          -9999          0.5   \n",
       "2         19.0      13.0                 50          -9999          0.5   \n",
       "3         19.0      13.0                 50          -9999          0.5   \n",
       "4         17.5      11.5                 50          -9999          0.5   \n",
       "\n",
       "   pressure  wind_speed  wind_direction        aoi  incidence_main  \\\n",
       "0     96300           0           -9999  77.058396           -9999   \n",
       "1     96300           0           -9999  77.859576           -9999   \n",
       "2     96300           0           -9999  78.655742           -9999   \n",
       "3     96300           0           -9999  79.446620           -9999   \n",
       "4     96300           0           -9999  80.231464           -9999   \n",
       "\n",
       "   incidence_second  poa_direct  poa_diffuse  \n",
       "0             -9999  103.376122    75.759999  \n",
       "1             -9999   43.326628    92.042087  \n",
       "2             -9999   40.448556    86.034806  \n",
       "3             -9999   46.619695    77.502756  \n",
       "4             -9999   31.715871    74.726041  "
      ]
     },
     "execution_count": 104,
     "metadata": {},
     "output_type": "execute_result"
    }
   ],
   "source": [
    "df_wdb = pd.read_pickle(f\"../Data/Experimental_python/{exp_id}_WDB.pkl\")\n",
    "df_wdb.head()"
   ]
  },
  {
   "cell_type": "code",
   "execution_count": 105,
   "metadata": {},
   "outputs": [
    {
     "name": "stdout",
     "output_type": "stream",
     "text": [
      "Experiment runtime: 208500\n"
     ]
    }
   ],
   "source": [
    "runtime = df_wdb['time'].iloc[-1]\n",
    "print(f\"Experiment runtime: {runtime}\")"
   ]
  },
  {
   "cell_type": "code",
   "execution_count": 106,
   "metadata": {},
   "outputs": [],
   "source": [
    "eng.workspace['t0'] = float(df['InsideTemp'][0])"
   ]
  },
  {
   "cell_type": "code",
   "execution_count": 107,
   "metadata": {},
   "outputs": [],
   "source": [
    "day_air_exchange_rate = 2.75\n",
    "night_air_exchange_rate = 2.75"
   ]
  },
  {
   "cell_type": "code",
   "execution_count": 108,
   "metadata": {},
   "outputs": [],
   "source": [
    "air_exchange_rate = np.zeros((df_wdb.shape[0], 2))\n",
    "air_exchange_rate[:, 0] = df_wdb['time']\n",
    "air_exchange_rate[:, 1] = np.where(df['Power'] < 100, day_air_exchange_rate, night_air_exchange_rate)\n",
    "eng.workspace['air_exchange_rate'] = matlab.double(air_exchange_rate.tolist())"
   ]
  },
  {
   "cell_type": "code",
   "execution_count": 109,
   "metadata": {},
   "outputs": [],
   "source": [
    "power = np.array([df_wdb['time'], df['Heat']]).T\n",
    "eng.workspace['power'] = matlab.double(power.tolist())"
   ]
  },
  {
   "cell_type": "code",
   "execution_count": 110,
   "metadata": {},
   "outputs": [
    {
     "data": {
      "text/html": [
       "<div>\n",
       "<style scoped>\n",
       "    .dataframe tbody tr th:only-of-type {\n",
       "        vertical-align: middle;\n",
       "    }\n",
       "\n",
       "    .dataframe tbody tr th {\n",
       "        vertical-align: top;\n",
       "    }\n",
       "\n",
       "    .dataframe thead th {\n",
       "        text-align: right;\n",
       "    }\n",
       "</style>\n",
       "<table border=\"1\" class=\"dataframe\">\n",
       "  <thead>\n",
       "    <tr style=\"text-align: right;\">\n",
       "      <th></th>\n",
       "      <th>Power</th>\n",
       "      <th>Setpoint</th>\n",
       "      <th>OutsideTemp</th>\n",
       "      <th>SupplyTemp</th>\n",
       "      <th>InsideTemp</th>\n",
       "      <th>SolRad</th>\n",
       "      <th>Heat</th>\n",
       "      <th>SimulatedTemp</th>\n",
       "      <th>time</th>\n",
       "    </tr>\n",
       "    <tr>\n",
       "      <th>timestamp</th>\n",
       "      <th></th>\n",
       "      <th></th>\n",
       "      <th></th>\n",
       "      <th></th>\n",
       "      <th></th>\n",
       "      <th></th>\n",
       "      <th></th>\n",
       "      <th></th>\n",
       "      <th></th>\n",
       "    </tr>\n",
       "  </thead>\n",
       "  <tbody>\n",
       "    <tr>\n",
       "      <th>2017-06-30 20:00:00+02:00</th>\n",
       "      <td>8.620690</td>\n",
       "      <td>22.5</td>\n",
       "      <td>19.0</td>\n",
       "      <td>22.1</td>\n",
       "      <td>22.283333</td>\n",
       "      <td>178.618267</td>\n",
       "      <td>8.620690</td>\n",
       "      <td>22.283285</td>\n",
       "      <td>0</td>\n",
       "    </tr>\n",
       "    <tr>\n",
       "      <th>2017-06-30 20:05:00+02:00</th>\n",
       "      <td>8.620690</td>\n",
       "      <td>22.5</td>\n",
       "      <td>19.0</td>\n",
       "      <td>22.1</td>\n",
       "      <td>22.233333</td>\n",
       "      <td>135.122100</td>\n",
       "      <td>8.620690</td>\n",
       "      <td>22.266734</td>\n",
       "      <td>300</td>\n",
       "    </tr>\n",
       "    <tr>\n",
       "      <th>2017-06-30 20:10:00+02:00</th>\n",
       "      <td>7.566667</td>\n",
       "      <td>22.5</td>\n",
       "      <td>19.0</td>\n",
       "      <td>22.1</td>\n",
       "      <td>22.366667</td>\n",
       "      <td>126.219967</td>\n",
       "      <td>7.566667</td>\n",
       "      <td>22.258667</td>\n",
       "      <td>600</td>\n",
       "    </tr>\n",
       "    <tr>\n",
       "      <th>2017-06-30 20:15:00+02:00</th>\n",
       "      <td>8.172414</td>\n",
       "      <td>22.5</td>\n",
       "      <td>19.0</td>\n",
       "      <td>22.1</td>\n",
       "      <td>22.366667</td>\n",
       "      <td>123.772467</td>\n",
       "      <td>8.172414</td>\n",
       "      <td>22.255146</td>\n",
       "      <td>900</td>\n",
       "    </tr>\n",
       "    <tr>\n",
       "      <th>2017-06-30 20:20:00+02:00</th>\n",
       "      <td>8.379310</td>\n",
       "      <td>22.5</td>\n",
       "      <td>17.5</td>\n",
       "      <td>22.4</td>\n",
       "      <td>22.566667</td>\n",
       "      <td>106.163600</td>\n",
       "      <td>-25.137931</td>\n",
       "      <td>22.255204</td>\n",
       "      <td>1200</td>\n",
       "    </tr>\n",
       "  </tbody>\n",
       "</table>\n",
       "</div>"
      ],
      "text/plain": [
       "                              Power  Setpoint  OutsideTemp  SupplyTemp  \\\n",
       "timestamp                                                                \n",
       "2017-06-30 20:00:00+02:00  8.620690      22.5         19.0        22.1   \n",
       "2017-06-30 20:05:00+02:00  8.620690      22.5         19.0        22.1   \n",
       "2017-06-30 20:10:00+02:00  7.566667      22.5         19.0        22.1   \n",
       "2017-06-30 20:15:00+02:00  8.172414      22.5         19.0        22.1   \n",
       "2017-06-30 20:20:00+02:00  8.379310      22.5         17.5        22.4   \n",
       "\n",
       "                           InsideTemp      SolRad       Heat  SimulatedTemp  \\\n",
       "timestamp                                                                     \n",
       "2017-06-30 20:00:00+02:00   22.283333  178.618267   8.620690      22.283285   \n",
       "2017-06-30 20:05:00+02:00   22.233333  135.122100   8.620690      22.266734   \n",
       "2017-06-30 20:10:00+02:00   22.366667  126.219967   7.566667      22.258667   \n",
       "2017-06-30 20:15:00+02:00   22.366667  123.772467   8.172414      22.255146   \n",
       "2017-06-30 20:20:00+02:00   22.566667  106.163600 -25.137931      22.255204   \n",
       "\n",
       "                           time  \n",
       "timestamp                        \n",
       "2017-06-30 20:00:00+02:00     0  \n",
       "2017-06-30 20:05:00+02:00   300  \n",
       "2017-06-30 20:10:00+02:00   600  \n",
       "2017-06-30 20:15:00+02:00   900  \n",
       "2017-06-30 20:20:00+02:00  1200  "
      ]
     },
     "execution_count": 110,
     "metadata": {},
     "output_type": "execute_result"
    }
   ],
   "source": [
    "df = pd.DataFrame(df).assign(time = df_wdb['time'].values)\n",
    "df.head()"
   ]
  },
  {
   "cell_type": "markdown",
   "metadata": {},
   "source": [
    "## Control loop"
   ]
  },
  {
   "cell_type": "markdown",
   "metadata": {},
   "source": [
    "### Initiation setup"
   ]
  },
  {
   "cell_type": "code",
   "execution_count": 111,
   "metadata": {},
   "outputs": [],
   "source": [
    "current_timestamp = 1500"
   ]
  },
  {
   "cell_type": "code",
   "execution_count": 112,
   "metadata": {},
   "outputs": [],
   "source": [
    "df_power = df['Heat']\n",
    "df_power = pd.DataFrame(df_power).assign(time = df_wdb['time'].values)\n",
    "df_power.loc[df_power['time'] >= current_timestamp, 'Heat'] = np.NaN"
   ]
  },
  {
   "cell_type": "code",
   "execution_count": 113,
   "metadata": {},
   "outputs": [
    {
     "data": {
      "text/html": [
       "<div>\n",
       "<style scoped>\n",
       "    .dataframe tbody tr th:only-of-type {\n",
       "        vertical-align: middle;\n",
       "    }\n",
       "\n",
       "    .dataframe tbody tr th {\n",
       "        vertical-align: top;\n",
       "    }\n",
       "\n",
       "    .dataframe thead th {\n",
       "        text-align: right;\n",
       "    }\n",
       "</style>\n",
       "<table border=\"1\" class=\"dataframe\">\n",
       "  <thead>\n",
       "    <tr style=\"text-align: right;\">\n",
       "      <th></th>\n",
       "      <th>Heat</th>\n",
       "      <th>time</th>\n",
       "    </tr>\n",
       "    <tr>\n",
       "      <th>timestamp</th>\n",
       "      <th></th>\n",
       "      <th></th>\n",
       "    </tr>\n",
       "  </thead>\n",
       "  <tbody>\n",
       "    <tr>\n",
       "      <th>2017-06-30 20:00:00+02:00</th>\n",
       "      <td>8.620690</td>\n",
       "      <td>0</td>\n",
       "    </tr>\n",
       "    <tr>\n",
       "      <th>2017-06-30 20:05:00+02:00</th>\n",
       "      <td>8.620690</td>\n",
       "      <td>300</td>\n",
       "    </tr>\n",
       "    <tr>\n",
       "      <th>2017-06-30 20:10:00+02:00</th>\n",
       "      <td>7.566667</td>\n",
       "      <td>600</td>\n",
       "    </tr>\n",
       "    <tr>\n",
       "      <th>2017-06-30 20:15:00+02:00</th>\n",
       "      <td>8.172414</td>\n",
       "      <td>900</td>\n",
       "    </tr>\n",
       "    <tr>\n",
       "      <th>2017-06-30 20:20:00+02:00</th>\n",
       "      <td>-25.137931</td>\n",
       "      <td>1200</td>\n",
       "    </tr>\n",
       "    <tr>\n",
       "      <th>...</th>\n",
       "      <td>...</td>\n",
       "      <td>...</td>\n",
       "    </tr>\n",
       "    <tr>\n",
       "      <th>2017-07-03 05:35:00+02:00</th>\n",
       "      <td>NaN</td>\n",
       "      <td>207300</td>\n",
       "    </tr>\n",
       "    <tr>\n",
       "      <th>2017-07-03 05:40:00+02:00</th>\n",
       "      <td>NaN</td>\n",
       "      <td>207600</td>\n",
       "    </tr>\n",
       "    <tr>\n",
       "      <th>2017-07-03 05:45:00+02:00</th>\n",
       "      <td>NaN</td>\n",
       "      <td>207900</td>\n",
       "    </tr>\n",
       "    <tr>\n",
       "      <th>2017-07-03 05:50:00+02:00</th>\n",
       "      <td>NaN</td>\n",
       "      <td>208200</td>\n",
       "    </tr>\n",
       "    <tr>\n",
       "      <th>2017-07-03 05:55:00+02:00</th>\n",
       "      <td>NaN</td>\n",
       "      <td>208500</td>\n",
       "    </tr>\n",
       "  </tbody>\n",
       "</table>\n",
       "<p>696 rows × 2 columns</p>\n",
       "</div>"
      ],
      "text/plain": [
       "                                Heat    time\n",
       "timestamp                                   \n",
       "2017-06-30 20:00:00+02:00   8.620690       0\n",
       "2017-06-30 20:05:00+02:00   8.620690     300\n",
       "2017-06-30 20:10:00+02:00   7.566667     600\n",
       "2017-06-30 20:15:00+02:00   8.172414     900\n",
       "2017-06-30 20:20:00+02:00 -25.137931    1200\n",
       "...                              ...     ...\n",
       "2017-07-03 05:35:00+02:00        NaN  207300\n",
       "2017-07-03 05:40:00+02:00        NaN  207600\n",
       "2017-07-03 05:45:00+02:00        NaN  207900\n",
       "2017-07-03 05:50:00+02:00        NaN  208200\n",
       "2017-07-03 05:55:00+02:00        NaN  208500\n",
       "\n",
       "[696 rows x 2 columns]"
      ]
     },
     "execution_count": 113,
     "metadata": {},
     "output_type": "execute_result"
    }
   ],
   "source": [
    "df_power"
   ]
  },
  {
   "cell_type": "markdown",
   "metadata": {},
   "source": [
    "### Compute input to apply at current time step"
   ]
  },
  {
   "cell_type": "code",
   "execution_count": 114,
   "metadata": {},
   "outputs": [],
   "source": [
    "u_1 = float(df_power.loc[df['time'] == (current_timestamp - 300 * 1), 'Heat'])\n",
    "\n",
    "y_0 = float(df.loc[df['time'] == (current_timestamp - 300 * 0), 'SimulatedTemp'])\n",
    "y_1 = float(df.loc[df['time'] == (current_timestamp - 300 * 1), 'SimulatedTemp'])\n",
    "y_2 = float(df.loc[df['time'] == (current_timestamp - 300 * 2), 'SimulatedTemp'])"
   ]
  },
  {
   "cell_type": "code",
   "execution_count": 115,
   "metadata": {},
   "outputs": [],
   "source": [
    "real_x0 = np.array([u_1, y_0, y_1, y_2])"
   ]
  },
  {
   "cell_type": "code",
   "execution_count": 116,
   "metadata": {},
   "outputs": [
    {
     "data": {
      "text/plain": [
       "array([-25.13793103,  22.25542067,  22.25520408,  22.25514583])"
      ]
     },
     "execution_count": 116,
     "metadata": {},
     "output_type": "execute_result"
    }
   ],
   "source": [
    "real_x0"
   ]
  },
  {
   "cell_type": "code",
   "execution_count": 117,
   "metadata": {},
   "outputs": [],
   "source": [
    "#real_x0 = x_scaler.transform(np.hstack([np.zeros((3)), real_x0]).reshape((1, -1)))[0, 3:]"
   ]
  },
  {
   "cell_type": "code",
   "execution_count": 118,
   "metadata": {},
   "outputs": [
    {
     "data": {
      "text/plain": [
       "array([-25.13793103,  22.25542067,  22.25520408,  22.25514583])"
      ]
     },
     "execution_count": 118,
     "metadata": {},
     "output_type": "execute_result"
    }
   ],
   "source": [
    "real_x0"
   ]
  },
  {
   "cell_type": "code",
   "execution_count": 119,
   "metadata": {},
   "outputs": [],
   "source": [
    "iter_idx = (df['time'] >= current_timestamp)\n",
    "real_W = df[iter_idx].iloc[:N_horizon, [5, 2]].to_numpy()"
   ]
  },
  {
   "cell_type": "code",
   "execution_count": 120,
   "metadata": {},
   "outputs": [
    {
     "data": {
      "text/plain": [
       "array([[92.377     , 17.5       ],\n",
       "       [54.69793333, 16.        ],\n",
       "       [51.83236667, 16.        ],\n",
       "       [40.2653    , 16.        ],\n",
       "       [29.8469    , 16.        ]])"
      ]
     },
     "execution_count": 120,
     "metadata": {},
     "output_type": "execute_result"
    }
   ],
   "source": [
    "real_W = casadi.DM(real_W)"
   ]
  },
  {
   "cell_type": "code",
   "execution_count": 123,
   "metadata": {},
   "outputs": [],
   "source": [
    "real_p = casadi.vertcat(\n",
    "    casadi.vec(real_W),\n",
    "    casadi.vec(real_x0)\n",
    ")"
   ]
  },
  {
   "cell_type": "code",
   "execution_count": 124,
   "metadata": {},
   "outputs": [],
   "source": [
    "real_X0 = get_gpr_horizon_array(real_W, real_x0.reshape((1, -1)), np.zeros((N_horizon, 1)))"
   ]
  },
  {
   "cell_type": "code",
   "execution_count": 125,
   "metadata": {},
   "outputs": [
    {
     "data": {
      "text/plain": [
       "array([[ 92.377     ,  17.5       ,   0.        , -25.13793103,\n",
       "         22.25542067,  22.25520408,  22.25514583],\n",
       "       [ 54.69793333,  16.        ,   0.        ,   0.        ,\n",
       "         22.27224362,  22.25542067,  22.25520408],\n",
       "       [ 51.83236667,  16.        ,   0.        ,   0.        ,\n",
       "         22.31347714,  22.27224362,  22.25542067],\n",
       "       [ 40.2653    ,  16.        ,   0.        ,   0.        ,\n",
       "         22.39125122,  22.31347714,  22.27224362],\n",
       "       [ 29.8469    ,  16.        ,   0.        ,   0.        ,\n",
       "         22.52311219,  22.39125122,  22.31347714]])"
      ]
     },
     "execution_count": 125,
     "metadata": {},
     "output_type": "execute_result"
    }
   ],
   "source": [
    "real_X0 = casadi.DM(real_X0)"
   ]
  },
  {
   "cell_type": "code",
   "execution_count": 126,
   "metadata": {
    "tags": []
   },
   "outputs": [
    {
     "name": "stdout",
     "output_type": "stream",
     "text": [
      "This is Ipopt version 3.13.4, running with linear solver mumps.\n",
      "NOTE: Other linear solvers might be more efficient (see Ipopt documentation).\n",
      "\n",
      "Number of nonzeros in equality constraint Jacobian...:       70\n",
      "Number of nonzeros in inequality constraint Jacobian.:        5\n",
      "Number of nonzeros in Lagrangian Hessian.............:        0\n",
      "\n",
      "Total number of variables............................:       35\n",
      "                     variables with only lower bounds:        0\n",
      "                variables with lower and upper bounds:        0\n",
      "                     variables with only upper bounds:        0\n",
      "Total number of equality constraints.................:       30\n",
      "Total number of inequality constraints...............:        5\n",
      "        inequality constraints with only lower bounds:        0\n",
      "   inequality constraints with lower and upper bounds:        5\n",
      "        inequality constraints with only upper bounds:        0\n",
      "\n",
      "iter    objective    inf_pr   inf_du lg(mu)  ||d||  lg(rg) alpha_du alpha_pr  ls\n",
      "   0  8.5409843e+03 6.54e+01 2.57e+01   0.0 0.00e+00    -  0.00e+00 0.00e+00   0\n",
      "   1  5.4574789e+02 7.59e+00 1.87e+02  -1.5 6.54e+01    -  9.89e-01 1.00e+00f  1\n",
      "   2  3.4479029e+01 4.23e-01 6.34e+01  -3.5 7.50e+00    -  9.90e-01 1.00e+00f  1\n",
      "   3  1.7089734e+01 2.18e-01 7.77e+00  -1.4 1.43e+00    -  1.00e+00 1.00e+00f  1\n",
      "   4  1.3407625e+01 1.02e-01 5.52e+00  -3.2 1.47e+00    -  1.00e+00 1.00e+00f  1\n",
      "   5  2.9545703e+01 1.38e-01 1.14e+01  -5.1 1.45e+00    -  1.00e+00 1.00e+00h  1\n",
      "   6  2.6625453e+01 2.30e-02 1.46e+01  -7.0 3.08e-01    -  1.00e+00 1.00e+00f  1\n",
      "   7  1.1836963e+01 4.04e-01 1.68e+01  -8.9 2.76e+00    -  1.00e+00 1.00e+00f  1\n"
     ]
    },
    {
     "name": "stderr",
     "output_type": "stream",
     "text": [
      "CasADi - 2021-04-15 12:50:16 WARNING(\"solver:nlp_jac_g failed:Error in Function::operator() for 'nlp_jac_g' [MXFunction] at .../casadi/core/function.cpp:1368:\n",
      "Error in Function::operator() for 'fwd7_GPR' [CentralDiff] at .../casadi/core/function.cpp:1368:\n",
      "Error in Function::operator() for 'GPR' [CallbackInternal] at .../casadi/core/function.cpp:1368:\n",
      ".../casadi/core/function_internal.cpp:3366: Failed to evaluate 'eval_dm' for GPR:\n",
      ".../casadi/core/callback_internal.cpp:122: Error calling \"eval\" for object GPR:\n",
      "KeyboardInterrupt\") [.../casadi/core/oracle_function.cpp:223]\n"
     ]
    },
    {
     "name": "stdout",
     "output_type": "stream",
     "text": [
      "\n",
      "Number of Iterations....: 8\n",
      "\n",
      "Number of objective function evaluations             = 9\n",
      "Number of objective gradient evaluations             = 9\n",
      "Number of equality constraint evaluations            = 9\n",
      "Number of inequality constraint evaluations          = 9\n",
      "Number of equality constraint Jacobian evaluations   = 8\n",
      "Number of inequality constraint Jacobian evaluations = 9\n",
      "Number of Lagrangian Hessian evaluations             = 0\n",
      "Total CPU secs in IPOPT (w/o function evaluations)   =      8.005\n",
      "Total CPU secs in NLP function evaluations           =     71.463\n",
      "\n",
      "EXIT: Invalid number in NLP function or derivative detected.\n",
      "      solver  :   t_proc      (avg)   t_wall      (avg)    n_eval\n",
      "       nlp_f  |   1.36 s (150.85ms) 778.94ms ( 86.55ms)         9\n",
      "       nlp_g  |   1.07 s (118.45ms) 616.40ms ( 68.49ms)         9\n",
      "    nlp_grad  |   8.54 s (  8.54 s)   5.05 s (  5.05 s)         1\n",
      "  nlp_grad_f  |  45.21 s (  4.52 s)  26.23 s (  2.62 s)        10\n",
      "   nlp_jac_g  |  33.52 s (  3.35 s)  19.31 s (  1.93 s)        10\n",
      "       total  |  89.70 s ( 89.70 s)  52.01 s ( 52.01 s)         1\n"
     ]
    }
   ],
   "source": [
    "res = solver(x0 = real_X0.reshape((-1, )), p = real_p, lbg = real_lbg, ubg = real_ubg)"
   ]
  },
  {
   "cell_type": "code",
   "execution_count": 59,
   "metadata": {},
   "outputs": [],
   "source": [
    "x_res = np.array(res['x'].reshape((N_horizon, -1)))\n",
    "#x_res_sc = x_scaler.inverse_transform(x_res)"
   ]
  },
  {
   "cell_type": "code",
   "execution_count": 60,
   "metadata": {},
   "outputs": [
    {
     "data": {
      "text/plain": [
       "DM(\n",
       "[[92.377, 17.5, 0.415039, -25.1379, 22.2554, 22.2552, 22.2551], \n",
       " [54.6979, 16, 144.993, 0.415039, 22.2437, 22.2554, 22.2552], \n",
       " [51.8324, 16, -103.495, 144.993, 22.272, 22.2437, 22.2554], \n",
       " [40.2653, 16, -48.8636, -103.495, 23.3874, 22.272, 22.2437], \n",
       " [29.8469, 16, 6.33578, -48.8636, 24.9003, 23.3874, 22.272]])"
      ]
     },
     "execution_count": 60,
     "metadata": {},
     "output_type": "execute_result"
    }
   ],
   "source": [
    "casadi.DM(x_res)"
   ]
  },
  {
   "cell_type": "code",
   "execution_count": 61,
   "metadata": {},
   "outputs": [
    {
     "data": {
      "text/plain": [
       "array([   0.41503917,  144.99327115, -103.49457825,  -48.8635556 ,\n",
       "          6.33578304])"
      ]
     },
     "execution_count": 61,
     "metadata": {},
     "output_type": "execute_result"
    }
   ],
   "source": [
    "x_res[:, 2]"
   ]
  },
  {
   "cell_type": "markdown",
   "metadata": {},
   "source": [
    "Apply the first computed input as the next input:"
   ]
  },
  {
   "cell_type": "code",
   "execution_count": 62,
   "metadata": {},
   "outputs": [],
   "source": [
    "df_power.loc[df_power['time'] == current_timestamp, 'Heat'] = res['x'].reshape((N_horizon, -1))[0, 2]"
   ]
  },
  {
   "cell_type": "markdown",
   "metadata": {},
   "source": [
    "Simulate the building including the current input:"
   ]
  },
  {
   "cell_type": "code",
   "execution_count": 63,
   "metadata": {},
   "outputs": [
    {
     "data": {
      "text/html": [
       "<div>\n",
       "<style scoped>\n",
       "    .dataframe tbody tr th:only-of-type {\n",
       "        vertical-align: middle;\n",
       "    }\n",
       "\n",
       "    .dataframe tbody tr th {\n",
       "        vertical-align: top;\n",
       "    }\n",
       "\n",
       "    .dataframe thead th {\n",
       "        text-align: right;\n",
       "    }\n",
       "</style>\n",
       "<table border=\"1\" class=\"dataframe\">\n",
       "  <thead>\n",
       "    <tr style=\"text-align: right;\">\n",
       "      <th></th>\n",
       "      <th>Heat</th>\n",
       "      <th>time</th>\n",
       "    </tr>\n",
       "    <tr>\n",
       "      <th>timestamp</th>\n",
       "      <th></th>\n",
       "      <th></th>\n",
       "    </tr>\n",
       "  </thead>\n",
       "  <tbody>\n",
       "    <tr>\n",
       "      <th>2017-06-30 20:00:00+02:00</th>\n",
       "      <td>8.620690</td>\n",
       "      <td>0</td>\n",
       "    </tr>\n",
       "    <tr>\n",
       "      <th>2017-06-30 20:05:00+02:00</th>\n",
       "      <td>8.620690</td>\n",
       "      <td>300</td>\n",
       "    </tr>\n",
       "    <tr>\n",
       "      <th>2017-06-30 20:10:00+02:00</th>\n",
       "      <td>7.566667</td>\n",
       "      <td>600</td>\n",
       "    </tr>\n",
       "    <tr>\n",
       "      <th>2017-06-30 20:15:00+02:00</th>\n",
       "      <td>8.172414</td>\n",
       "      <td>900</td>\n",
       "    </tr>\n",
       "    <tr>\n",
       "      <th>2017-06-30 20:20:00+02:00</th>\n",
       "      <td>-25.137931</td>\n",
       "      <td>1200</td>\n",
       "    </tr>\n",
       "    <tr>\n",
       "      <th>2017-06-30 20:25:00+02:00</th>\n",
       "      <td>0.415039</td>\n",
       "      <td>1500</td>\n",
       "    </tr>\n",
       "  </tbody>\n",
       "</table>\n",
       "</div>"
      ],
      "text/plain": [
       "                                Heat  time\n",
       "timestamp                                 \n",
       "2017-06-30 20:00:00+02:00   8.620690     0\n",
       "2017-06-30 20:05:00+02:00   8.620690   300\n",
       "2017-06-30 20:10:00+02:00   7.566667   600\n",
       "2017-06-30 20:15:00+02:00   8.172414   900\n",
       "2017-06-30 20:20:00+02:00 -25.137931  1200\n",
       "2017-06-30 20:25:00+02:00   0.415039  1500"
      ]
     },
     "execution_count": 63,
     "metadata": {},
     "output_type": "execute_result"
    }
   ],
   "source": [
    "df_power.dropna()"
   ]
  },
  {
   "cell_type": "code",
   "execution_count": 64,
   "metadata": {},
   "outputs": [],
   "source": [
    "power = np.array(df_power[['time', 'Heat']].dropna())"
   ]
  },
  {
   "cell_type": "code",
   "execution_count": 65,
   "metadata": {},
   "outputs": [],
   "source": [
    "eng.workspace['power'] = matlab.double(power.tolist())"
   ]
  },
  {
   "cell_type": "code",
   "execution_count": 66,
   "metadata": {},
   "outputs": [],
   "source": [
    "eng.set_param('polydome', 'StopTime', str(current_timestamp + 300), nargout = 0)"
   ]
  },
  {
   "cell_type": "code",
   "execution_count": 67,
   "metadata": {},
   "outputs": [],
   "source": [
    "eng.workspace['result'] = eng.sim('polydome')"
   ]
  },
  {
   "cell_type": "markdown",
   "metadata": {},
   "source": [
    "Interpret the MATLAB results as python:"
   ]
  },
  {
   "cell_type": "code",
   "execution_count": 68,
   "metadata": {},
   "outputs": [],
   "source": [
    "dict_simulation = {}\n",
    "dict_simulation['values'] = np.asarray(eng.eval('result.SimulatedTemp.Data')).reshape(-1)\n",
    "dict_simulation['time'] = np.asarray(eng.eval('result.SimulatedTemp.Time')).reshape(-1)"
   ]
  },
  {
   "cell_type": "code",
   "execution_count": 69,
   "metadata": {},
   "outputs": [],
   "source": [
    "df_simulation = pd.DataFrame(dict_simulation)\n",
    "#df_simulation['time'] = df_simulation['time'].astype(int)\n",
    "df_simulation.set_index('time', inplace = True, drop = True)"
   ]
  },
  {
   "cell_type": "code",
   "execution_count": 70,
   "metadata": {},
   "outputs": [],
   "source": [
    "df_simulation['timestamp'] = df.index[0] + df_simulation.index.map(lambda x: pd.Timedelta(seconds = x))"
   ]
  },
  {
   "cell_type": "code",
   "execution_count": 71,
   "metadata": {},
   "outputs": [],
   "source": [
    "df_simulation = df_simulation.reset_index().set_index('timestamp')"
   ]
  },
  {
   "cell_type": "code",
   "execution_count": 72,
   "metadata": {},
   "outputs": [],
   "source": [
    "df_resampled_5 = df_simulation['values'].resample('5min').mean().pad()"
   ]
  },
  {
   "cell_type": "code",
   "execution_count": 73,
   "metadata": {},
   "outputs": [],
   "source": [
    "df_simulation = pd.concat([df['time'], df_resampled_5], axis = 1)"
   ]
  },
  {
   "cell_type": "markdown",
   "metadata": {},
   "source": [
    "Update the simulated temperature (output data) with the new info from this step:"
   ]
  },
  {
   "cell_type": "code",
   "execution_count": 74,
   "metadata": {},
   "outputs": [],
   "source": [
    "df.loc[:, 'SimulatedTemp'] = df_simulation['values']"
   ]
  },
  {
   "cell_type": "code",
   "execution_count": 75,
   "metadata": {},
   "outputs": [
    {
     "data": {
      "text/html": [
       "<div>\n",
       "<style scoped>\n",
       "    .dataframe tbody tr th:only-of-type {\n",
       "        vertical-align: middle;\n",
       "    }\n",
       "\n",
       "    .dataframe tbody tr th {\n",
       "        vertical-align: top;\n",
       "    }\n",
       "\n",
       "    .dataframe thead th {\n",
       "        text-align: right;\n",
       "    }\n",
       "</style>\n",
       "<table border=\"1\" class=\"dataframe\">\n",
       "  <thead>\n",
       "    <tr style=\"text-align: right;\">\n",
       "      <th></th>\n",
       "      <th>Power</th>\n",
       "      <th>Setpoint</th>\n",
       "      <th>OutsideTemp</th>\n",
       "      <th>SupplyTemp</th>\n",
       "      <th>InsideTemp</th>\n",
       "      <th>SolRad</th>\n",
       "      <th>Heat</th>\n",
       "      <th>SimulatedTemp</th>\n",
       "      <th>time</th>\n",
       "    </tr>\n",
       "    <tr>\n",
       "      <th>timestamp</th>\n",
       "      <th></th>\n",
       "      <th></th>\n",
       "      <th></th>\n",
       "      <th></th>\n",
       "      <th></th>\n",
       "      <th></th>\n",
       "      <th></th>\n",
       "      <th></th>\n",
       "      <th></th>\n",
       "    </tr>\n",
       "  </thead>\n",
       "  <tbody>\n",
       "    <tr>\n",
       "      <th>2017-06-30 20:00:00+02:00</th>\n",
       "      <td>8.620690</td>\n",
       "      <td>22.5</td>\n",
       "      <td>19.0</td>\n",
       "      <td>22.1</td>\n",
       "      <td>22.283333</td>\n",
       "      <td>178.618267</td>\n",
       "      <td>8.620690</td>\n",
       "      <td>22.258776</td>\n",
       "      <td>0</td>\n",
       "    </tr>\n",
       "    <tr>\n",
       "      <th>2017-06-30 20:05:00+02:00</th>\n",
       "      <td>8.620690</td>\n",
       "      <td>22.5</td>\n",
       "      <td>19.0</td>\n",
       "      <td>22.1</td>\n",
       "      <td>22.233333</td>\n",
       "      <td>135.122100</td>\n",
       "      <td>8.620690</td>\n",
       "      <td>21.924169</td>\n",
       "      <td>300</td>\n",
       "    </tr>\n",
       "    <tr>\n",
       "      <th>2017-06-30 20:10:00+02:00</th>\n",
       "      <td>7.566667</td>\n",
       "      <td>22.5</td>\n",
       "      <td>19.0</td>\n",
       "      <td>22.1</td>\n",
       "      <td>22.366667</td>\n",
       "      <td>126.219967</td>\n",
       "      <td>7.566667</td>\n",
       "      <td>21.781290</td>\n",
       "      <td>600</td>\n",
       "    </tr>\n",
       "    <tr>\n",
       "      <th>2017-06-30 20:15:00+02:00</th>\n",
       "      <td>8.172414</td>\n",
       "      <td>22.5</td>\n",
       "      <td>19.0</td>\n",
       "      <td>22.1</td>\n",
       "      <td>22.366667</td>\n",
       "      <td>123.772467</td>\n",
       "      <td>8.172414</td>\n",
       "      <td>21.651448</td>\n",
       "      <td>900</td>\n",
       "    </tr>\n",
       "    <tr>\n",
       "      <th>2017-06-30 20:20:00+02:00</th>\n",
       "      <td>8.379310</td>\n",
       "      <td>22.5</td>\n",
       "      <td>17.5</td>\n",
       "      <td>22.4</td>\n",
       "      <td>22.566667</td>\n",
       "      <td>106.163600</td>\n",
       "      <td>-25.137931</td>\n",
       "      <td>21.471403</td>\n",
       "      <td>1200</td>\n",
       "    </tr>\n",
       "    <tr>\n",
       "      <th>...</th>\n",
       "      <td>...</td>\n",
       "      <td>...</td>\n",
       "      <td>...</td>\n",
       "      <td>...</td>\n",
       "      <td>...</td>\n",
       "      <td>...</td>\n",
       "      <td>...</td>\n",
       "      <td>...</td>\n",
       "      <td>...</td>\n",
       "    </tr>\n",
       "    <tr>\n",
       "      <th>2017-07-03 05:35:00+02:00</th>\n",
       "      <td>-22.266667</td>\n",
       "      <td>22.5</td>\n",
       "      <td>16.0</td>\n",
       "      <td>21.5</td>\n",
       "      <td>21.016667</td>\n",
       "      <td>3.911200</td>\n",
       "      <td>-22.266667</td>\n",
       "      <td>NaN</td>\n",
       "      <td>207300</td>\n",
       "    </tr>\n",
       "    <tr>\n",
       "      <th>2017-07-03 05:40:00+02:00</th>\n",
       "      <td>-21.310345</td>\n",
       "      <td>22.5</td>\n",
       "      <td>16.0</td>\n",
       "      <td>21.5</td>\n",
       "      <td>20.850000</td>\n",
       "      <td>4.535500</td>\n",
       "      <td>-21.310345</td>\n",
       "      <td>NaN</td>\n",
       "      <td>207600</td>\n",
       "    </tr>\n",
       "    <tr>\n",
       "      <th>2017-07-03 05:45:00+02:00</th>\n",
       "      <td>-22.000000</td>\n",
       "      <td>22.5</td>\n",
       "      <td>16.0</td>\n",
       "      <td>21.5</td>\n",
       "      <td>20.850000</td>\n",
       "      <td>5.259500</td>\n",
       "      <td>-22.000000</td>\n",
       "      <td>NaN</td>\n",
       "      <td>207900</td>\n",
       "    </tr>\n",
       "    <tr>\n",
       "      <th>2017-07-03 05:50:00+02:00</th>\n",
       "      <td>-23.034483</td>\n",
       "      <td>22.5</td>\n",
       "      <td>16.0</td>\n",
       "      <td>21.5</td>\n",
       "      <td>20.866667</td>\n",
       "      <td>6.644067</td>\n",
       "      <td>-23.034483</td>\n",
       "      <td>NaN</td>\n",
       "      <td>208200</td>\n",
       "    </tr>\n",
       "    <tr>\n",
       "      <th>2017-07-03 05:55:00+02:00</th>\n",
       "      <td>-20.666667</td>\n",
       "      <td>22.5</td>\n",
       "      <td>16.0</td>\n",
       "      <td>21.5</td>\n",
       "      <td>20.850000</td>\n",
       "      <td>9.509900</td>\n",
       "      <td>-20.666667</td>\n",
       "      <td>NaN</td>\n",
       "      <td>208500</td>\n",
       "    </tr>\n",
       "  </tbody>\n",
       "</table>\n",
       "<p>696 rows × 9 columns</p>\n",
       "</div>"
      ],
      "text/plain": [
       "                               Power  Setpoint  OutsideTemp  SupplyTemp  \\\n",
       "timestamp                                                                 \n",
       "2017-06-30 20:00:00+02:00   8.620690      22.5         19.0        22.1   \n",
       "2017-06-30 20:05:00+02:00   8.620690      22.5         19.0        22.1   \n",
       "2017-06-30 20:10:00+02:00   7.566667      22.5         19.0        22.1   \n",
       "2017-06-30 20:15:00+02:00   8.172414      22.5         19.0        22.1   \n",
       "2017-06-30 20:20:00+02:00   8.379310      22.5         17.5        22.4   \n",
       "...                              ...       ...          ...         ...   \n",
       "2017-07-03 05:35:00+02:00 -22.266667      22.5         16.0        21.5   \n",
       "2017-07-03 05:40:00+02:00 -21.310345      22.5         16.0        21.5   \n",
       "2017-07-03 05:45:00+02:00 -22.000000      22.5         16.0        21.5   \n",
       "2017-07-03 05:50:00+02:00 -23.034483      22.5         16.0        21.5   \n",
       "2017-07-03 05:55:00+02:00 -20.666667      22.5         16.0        21.5   \n",
       "\n",
       "                           InsideTemp      SolRad       Heat  SimulatedTemp  \\\n",
       "timestamp                                                                     \n",
       "2017-06-30 20:00:00+02:00   22.283333  178.618267   8.620690      22.258776   \n",
       "2017-06-30 20:05:00+02:00   22.233333  135.122100   8.620690      21.924169   \n",
       "2017-06-30 20:10:00+02:00   22.366667  126.219967   7.566667      21.781290   \n",
       "2017-06-30 20:15:00+02:00   22.366667  123.772467   8.172414      21.651448   \n",
       "2017-06-30 20:20:00+02:00   22.566667  106.163600 -25.137931      21.471403   \n",
       "...                               ...         ...        ...            ...   \n",
       "2017-07-03 05:35:00+02:00   21.016667    3.911200 -22.266667            NaN   \n",
       "2017-07-03 05:40:00+02:00   20.850000    4.535500 -21.310345            NaN   \n",
       "2017-07-03 05:45:00+02:00   20.850000    5.259500 -22.000000            NaN   \n",
       "2017-07-03 05:50:00+02:00   20.866667    6.644067 -23.034483            NaN   \n",
       "2017-07-03 05:55:00+02:00   20.850000    9.509900 -20.666667            NaN   \n",
       "\n",
       "                             time  \n",
       "timestamp                          \n",
       "2017-06-30 20:00:00+02:00       0  \n",
       "2017-06-30 20:05:00+02:00     300  \n",
       "2017-06-30 20:10:00+02:00     600  \n",
       "2017-06-30 20:15:00+02:00     900  \n",
       "2017-06-30 20:20:00+02:00    1200  \n",
       "...                           ...  \n",
       "2017-07-03 05:35:00+02:00  207300  \n",
       "2017-07-03 05:40:00+02:00  207600  \n",
       "2017-07-03 05:45:00+02:00  207900  \n",
       "2017-07-03 05:50:00+02:00  208200  \n",
       "2017-07-03 05:55:00+02:00  208500  \n",
       "\n",
       "[696 rows x 9 columns]"
      ]
     },
     "execution_count": 75,
     "metadata": {},
     "output_type": "execute_result"
    }
   ],
   "source": [
    "df"
   ]
  },
  {
   "cell_type": "markdown",
   "metadata": {},
   "source": [
    "Keep track of the all the prediction horizon, to add to the graph:"
   ]
  },
  {
   "cell_type": "code",
   "execution_count": 76,
   "metadata": {},
   "outputs": [],
   "source": [
    "gpr_horizon = np.array(gpr(res['x'].reshape((N_horizon, -1)).T)).flatten()"
   ]
  },
  {
   "cell_type": "code",
   "execution_count": 77,
   "metadata": {},
   "outputs": [
    {
     "data": {
      "text/plain": [
       "array([22.25542067, 22.2722139 , 22.23139534, 22.34675811, 25.0869712 ,\n",
       "       27.19437496])"
      ]
     },
     "execution_count": 77,
     "metadata": {},
     "output_type": "execute_result"
    }
   ],
   "source": [
    "T_sim_horizon = np.hstack([np.array(y_0), gpr_horizon])\n",
    "T_sim_horizon"
   ]
  },
  {
   "cell_type": "code",
   "execution_count": 78,
   "metadata": {},
   "outputs": [],
   "source": [
    "simul_idx = (df_simulation['time'] >= current_timestamp) & (df_simulation['time'] <= (current_timestamp + N_horizon * 300))"
   ]
  },
  {
   "cell_type": "code",
   "execution_count": 79,
   "metadata": {},
   "outputs": [
    {
     "data": {
      "text/html": [
       "<div>\n",
       "<style scoped>\n",
       "    .dataframe tbody tr th:only-of-type {\n",
       "        vertical-align: middle;\n",
       "    }\n",
       "\n",
       "    .dataframe tbody tr th {\n",
       "        vertical-align: top;\n",
       "    }\n",
       "\n",
       "    .dataframe thead th {\n",
       "        text-align: right;\n",
       "    }\n",
       "</style>\n",
       "<table border=\"1\" class=\"dataframe\">\n",
       "  <thead>\n",
       "    <tr style=\"text-align: right;\">\n",
       "      <th></th>\n",
       "      <th>time</th>\n",
       "      <th>values</th>\n",
       "    </tr>\n",
       "    <tr>\n",
       "      <th>timestamp</th>\n",
       "      <th></th>\n",
       "      <th></th>\n",
       "    </tr>\n",
       "  </thead>\n",
       "  <tbody>\n",
       "    <tr>\n",
       "      <th>2017-06-30 20:25:00+02:00</th>\n",
       "      <td>1500</td>\n",
       "      <td>22.255421</td>\n",
       "    </tr>\n",
       "    <tr>\n",
       "      <th>2017-06-30 20:30:00+02:00</th>\n",
       "      <td>1800</td>\n",
       "      <td>22.272214</td>\n",
       "    </tr>\n",
       "    <tr>\n",
       "      <th>2017-06-30 20:35:00+02:00</th>\n",
       "      <td>2100</td>\n",
       "      <td>22.231395</td>\n",
       "    </tr>\n",
       "    <tr>\n",
       "      <th>2017-06-30 20:40:00+02:00</th>\n",
       "      <td>2400</td>\n",
       "      <td>22.346758</td>\n",
       "    </tr>\n",
       "    <tr>\n",
       "      <th>2017-06-30 20:45:00+02:00</th>\n",
       "      <td>2700</td>\n",
       "      <td>25.086971</td>\n",
       "    </tr>\n",
       "    <tr>\n",
       "      <th>2017-06-30 20:50:00+02:00</th>\n",
       "      <td>3000</td>\n",
       "      <td>27.194375</td>\n",
       "    </tr>\n",
       "  </tbody>\n",
       "</table>\n",
       "</div>"
      ],
      "text/plain": [
       "                           time     values\n",
       "timestamp                                 \n",
       "2017-06-30 20:25:00+02:00  1500  22.255421\n",
       "2017-06-30 20:30:00+02:00  1800  22.272214\n",
       "2017-06-30 20:35:00+02:00  2100  22.231395\n",
       "2017-06-30 20:40:00+02:00  2400  22.346758\n",
       "2017-06-30 20:45:00+02:00  2700  25.086971\n",
       "2017-06-30 20:50:00+02:00  3000  27.194375"
      ]
     },
     "execution_count": 79,
     "metadata": {},
     "output_type": "execute_result"
    }
   ],
   "source": [
    "df_T_sim_horizon = df_simulation[simul_idx].copy()\n",
    "df_T_sim_horizon.loc[:, 'values'] = T_sim_horizon.reshape((-1, ))\n",
    "df_T_sim_horizon"
   ]
  },
  {
   "cell_type": "code",
   "execution_count": 80,
   "metadata": {},
   "outputs": [
    {
     "data": {
      "image/png": "[encoded data removed]",
      "text/plain": [
       "<Figure size 1080x360 with 1 Axes>"
      ]
     },
     "metadata": {
      "needs_background": "light"
     },
     "output_type": "display_data"
    }
   ],
   "source": [
    "plt.figure(figsize = (15, 5))\n",
    "plt.plot(df_simulation.index, df_simulation['values'], label = 'Simulated Temperature')\n",
    "plt.plot(df_T_sim_horizon.index, df_T_sim_horizon['values'], label = 'Prediction Horizon', color = 'red', marker = 'x')\n",
    "#plt.plot(df.index, df['InsideTemp'], label = 'Inside Temperature')\n",
    "#plt.plot(df.index, df['OutsideTemp'], label = 'Outside Temperature')\n",
    "plt.title(f'Temperatures step {current_timestamp}')\n",
    "plt.legend()\n",
    "plt.ylim((15, 30))\n",
    "plt.savefig(f\"sim_{current_timestamp}.png\")\n",
    "plt.show()\n"
   ]
  },
  {
   "cell_type": "code",
   "execution_count": 81,
   "metadata": {
    "scrolled": true,
    "tags": []
   },
   "outputs": [
    {
     "name": "stdout",
     "output_type": "stream",
     "text": [
      "Timestamp 1500\n"
     ]
    },
    {
     "ename": "RuntimeError",
     "evalue": ".../casadi/core/function_internal.hpp:1257: Input 1 (p) has mismatching shape. Got 15-by-1. Allowed dimensions, in general, are:\n - The input dimension N-by-M (here 14-by-1)\n - A scalar, i.e. 1-by-1\n - M-by-N if N=1 or M=1 (i.e. a transposed vector)\n - N-by-M1 if K*M1=M for some K (argument repeated horizontally)\n - N-by-P*M, indicating evaluation with multiple arguments (P must be a multiple of 1 for consistency with previous inputs)",
     "output_type": "error",
     "traceback": [
      "\u001b[0;31m---------------------------------------------------------------------------\u001b[0m",
      "\u001b[0;31mRuntimeError\u001b[0m                              Traceback (most recent call last)",
      "\u001b[0;32m<ipython-input-81-92d0385ddb27>\u001b[0m in \u001b[0;36m<module>\u001b[0;34m\u001b[0m\n\u001b[1;32m     19\u001b[0m     )\n\u001b[1;32m     20\u001b[0m \u001b[0;34m\u001b[0m\u001b[0m\n\u001b[0;32m---> 21\u001b[0;31m     \u001b[0mres\u001b[0m \u001b[0;34m=\u001b[0m \u001b[0msolver\u001b[0m\u001b[0;34m(\u001b[0m\u001b[0mp\u001b[0m \u001b[0;34m=\u001b[0m \u001b[0mreal_p\u001b[0m\u001b[0;34m,\u001b[0m \u001b[0mlbg\u001b[0m \u001b[0;34m=\u001b[0m \u001b[0mreal_lbg\u001b[0m\u001b[0;34m,\u001b[0m \u001b[0mubg\u001b[0m \u001b[0;34m=\u001b[0m \u001b[0mreal_ubg\u001b[0m\u001b[0;34m)\u001b[0m\u001b[0;34m\u001b[0m\u001b[0;34m\u001b[0m\u001b[0m\n\u001b[0m\u001b[1;32m     22\u001b[0m \u001b[0;34m\u001b[0m\u001b[0m\n\u001b[1;32m     23\u001b[0m     \u001b[0mdf_power\u001b[0m\u001b[0;34m.\u001b[0m\u001b[0mloc\u001b[0m\u001b[0;34m[\u001b[0m\u001b[0mdf_power\u001b[0m\u001b[0;34m[\u001b[0m\u001b[0;34m'time'\u001b[0m\u001b[0;34m]\u001b[0m \u001b[0;34m==\u001b[0m \u001b[0mcurrent_timestamp\u001b[0m\u001b[0;34m,\u001b[0m \u001b[0;34m'Heat'\u001b[0m\u001b[0;34m]\u001b[0m \u001b[0;34m=\u001b[0m \u001b[0mres\u001b[0m\u001b[0;34m[\u001b[0m\u001b[0;34m'x'\u001b[0m\u001b[0;34m]\u001b[0m\u001b[0;34m.\u001b[0m\u001b[0mreshape\u001b[0m\u001b[0;34m(\u001b[0m\u001b[0;34m(\u001b[0m\u001b[0mN_horizon\u001b[0m\u001b[0;34m,\u001b[0m \u001b[0;34m-\u001b[0m\u001b[0;36m1\u001b[0m\u001b[0;34m)\u001b[0m\u001b[0;34m)\u001b[0m\u001b[0;34m[\u001b[0m\u001b[0;36m1\u001b[0m\u001b[0;34m,\u001b[0m \u001b[0;36m2\u001b[0m\u001b[0;34m]\u001b[0m\u001b[0;34m\u001b[0m\u001b[0;34m\u001b[0m\u001b[0m\n",
      "\u001b[0;32m/usr/lib/python3.9/site-packages/casadi/casadi.py\u001b[0m in \u001b[0;36m__call__\u001b[0;34m(self, *args, **kwargs)\u001b[0m\n\u001b[1;32m   8504\u001b[0m       \u001b[0;32melse\u001b[0m\u001b[0;34m:\u001b[0m\u001b[0;34m\u001b[0m\u001b[0;34m\u001b[0m\u001b[0m\n\u001b[1;32m   8505\u001b[0m     \u001b[0;31m# Named inputs -> return dictionary\u001b[0m\u001b[0;34m\u001b[0m\u001b[0;34m\u001b[0m\u001b[0;34m\u001b[0m\u001b[0m\n\u001b[0;32m-> 8506\u001b[0;31m         \u001b[0;32mreturn\u001b[0m \u001b[0mself\u001b[0m\u001b[0;34m.\u001b[0m\u001b[0mcall\u001b[0m\u001b[0;34m(\u001b[0m\u001b[0mkwargs\u001b[0m\u001b[0;34m)\u001b[0m\u001b[0;34m\u001b[0m\u001b[0;34m\u001b[0m\u001b[0m\n\u001b[0m\u001b[1;32m   8507\u001b[0m \u001b[0;34m\u001b[0m\u001b[0m\n\u001b[1;32m   8508\u001b[0m     \u001b[0;32mdef\u001b[0m \u001b[0mbuffer\u001b[0m\u001b[0;34m(\u001b[0m\u001b[0mself\u001b[0m\u001b[0;34m)\u001b[0m\u001b[0;34m:\u001b[0m\u001b[0;34m\u001b[0m\u001b[0;34m\u001b[0m\u001b[0m\n",
      "\u001b[0;32m/usr/lib/python3.9/site-packages/casadi/casadi.py\u001b[0m in \u001b[0;36mcall\u001b[0;34m(self, *args)\u001b[0m\n\u001b[1;32m   7677\u001b[0m \u001b[0;34m\u001b[0m\u001b[0m\n\u001b[1;32m   7678\u001b[0m         \"\"\"\n\u001b[0;32m-> 7679\u001b[0;31m         \u001b[0;32mreturn\u001b[0m \u001b[0m_casadi\u001b[0m\u001b[0;34m.\u001b[0m\u001b[0mFunction_call\u001b[0m\u001b[0;34m(\u001b[0m\u001b[0mself\u001b[0m\u001b[0;34m,\u001b[0m \u001b[0;34m*\u001b[0m\u001b[0margs\u001b[0m\u001b[0;34m)\u001b[0m\u001b[0;34m\u001b[0m\u001b[0;34m\u001b[0m\u001b[0m\n\u001b[0m\u001b[1;32m   7680\u001b[0m \u001b[0;34m\u001b[0m\u001b[0m\n\u001b[1;32m   7681\u001b[0m     \u001b[0;32mdef\u001b[0m \u001b[0mmapsum\u001b[0m\u001b[0;34m(\u001b[0m\u001b[0mself\u001b[0m\u001b[0;34m,\u001b[0m \u001b[0;34m*\u001b[0m\u001b[0margs\u001b[0m\u001b[0;34m)\u001b[0m \u001b[0;34m->\u001b[0m \u001b[0;34m\"std::vector< casadi::MX,std::allocator< casadi::MX > >\"\u001b[0m\u001b[0;34m:\u001b[0m\u001b[0;34m\u001b[0m\u001b[0;34m\u001b[0m\u001b[0m\n",
      "\u001b[0;31mRuntimeError\u001b[0m: .../casadi/core/function_internal.hpp:1257: Input 1 (p) has mismatching shape. Got 15-by-1. Allowed dimensions, in general, are:\n - The input dimension N-by-M (here 14-by-1)\n - A scalar, i.e. 1-by-1\n - M-by-N if N=1 or M=1 (i.e. a transposed vector)\n - N-by-M1 if K*M1=M for some K (argument repeated horizontally)\n - N-by-P*M, indicating evaluation with multiple arguments (P must be a multiple of 1 for consistency with previous inputs)"
     ]
    }
   ],
   "source": [
    "for loop_idx in range(100):\n",
    "    current_timestamp = 1500 + 300*loop_idx\n",
    "    print(f\"Timestamp {current_timestamp}\")\n",
    "    \n",
    "    u_1 = float(df_power.loc[df['time'] == (current_timestamp - 300 * 1), 'Heat'])\n",
    "    u_2 = float(df_power.loc[df['time'] == (current_timestamp - 300 * 2), 'Heat'])\n",
    "\n",
    "    y_1 = float(df.loc[df['time'] == (current_timestamp - 300 * 1), 'SimulatedTemp'])\n",
    "    y_2 = float(df.loc[df['time'] == (current_timestamp - 300 * 2), 'SimulatedTemp'])\n",
    "    y_3 = float(df.loc[df['time'] == (current_timestamp - 300 * 3), 'SimulatedTemp'])\n",
    "    \n",
    "    real_x0 = np.array([u_1, u_2, y_1, y_2, y_3])\n",
    "    iter_idx = (df['time'] >= current_timestamp)\n",
    "    real_W = df[iter_idx].iloc[:N_horizon, [5, 2]].to_numpy()\n",
    "\n",
    "    real_p = casadi.vertcat(\n",
    "        casadi.vec(real_W),\n",
    "        casadi.vec(real_x0)\n",
    "    )\n",
    "\n",
    "    res = solver(p = real_p, lbg = real_lbg, ubg = real_ubg)\n",
    "    \n",
    "    df_power.loc[df_power['time'] == current_timestamp, 'Heat'] = res['x'].reshape((N_horizon, -1))[1, 2]\n",
    "    \n",
    "    power = np.array(df_power[['time', 'Heat']].dropna())\n",
    "    eng.workspace['power'] = matlab.double(power.tolist())\n",
    "    eng.set_param('polydome', 'StopTime', str(current_timestamp + 300), nargout = 0)\n",
    "    eng.workspace['result'] = eng.sim('polydome')\n",
    "    \n",
    "    \n",
    "    dict_simulation = {}\n",
    "    dict_simulation['values'] = np.asarray(eng.eval('result.SimulatedTemp.Data')).reshape(-1)\n",
    "    dict_simulation['time'] = np.asarray(eng.eval('result.SimulatedTemp.Time')).reshape(-1)\n",
    "    \n",
    "    df_simulation = pd.DataFrame(dict_simulation)\n",
    "    #df_simulation['time'] = df_simulation['time'].astype(int)\n",
    "    df_simulation.set_index('time', inplace = True, drop = True)\n",
    "    \n",
    "    df_simulation['timestamp'] = df.index[0] + df_simulation.index.map(lambda x: pd.Timedelta(seconds = x))\n",
    "    df_simulation = df_simulation.reset_index().set_index('timestamp')\n",
    "    df_resampled_5 = df_simulation['values'].resample('5min').mean().pad()\n",
    "    df_simulation = pd.concat([df['time'], df_resampled_5], axis = 1)\n",
    "    \n",
    "    df.loc[:, 'SimulatedTemp'] = df_simulation['values']\n",
    "    T_sim_horizon = np.array(gpr(res['x'].reshape((N_horizon, -1)).T))\n",
    "    simul_idx = (df_simulation['time'] >= current_timestamp) & (df_simulation['time'] < (current_timestamp + N_horizon * 300))\n",
    "    \n",
    "    \n",
    "    df_T_sim_horizon = df_simulation[simul_idx].copy()\n",
    "    df_T_sim_horizon.loc[:, 'values'] = T_sim_horizon.reshape((-1, ))\n",
    "    \n",
    "    plt.figure(figsize = (15, 5))\n",
    "    plt.plot(df_simulation.index, df_simulation['values'], label = 'Simulated Temperature')\n",
    "    plt.plot(df_T_sim_horizon.index, df_T_sim_horizon['values'], label = 'Prediction Horizon', color = 'red', marker = 'x')\n",
    "    #plt.plot(df.index, df['InsideTemp'], label = 'Inside Temperature')\n",
    "    #plt.plot(df.index, df['OutsideTemp'], label = 'Outside Temperature')\n",
    "    plt.title(f'Temperatures step {current_timestamp}')\n",
    "    plt.ylim((15, 30))\n",
    "    plt.legend()\n",
    "    plt.savefig(f\"sim_{current_timestamp}.png\")"
   ]
  }
 ],
 "metadata": {
  "kernelspec": {
   "display_name": "Python 3",
   "language": "python",
   "name": "python3"
  },
  "language_info": {
   "codemirror_mode": {
    "name": "ipython",
    "version": 3
   },
   "file_extension": ".py",
   "mimetype": "text/x-python",
   "name": "python",
   "nbconvert_exporter": "python",
   "pygments_lexer": "ipython3",
   "version": "3.9.6"
  }
 },
 "nbformat": 4,
 "nbformat_minor": 4
}
