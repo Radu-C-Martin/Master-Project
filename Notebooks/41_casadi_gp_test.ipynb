{
 "cells": [
  {
   "cell_type": "code",
   "execution_count": 1,
   "metadata": {},
   "outputs": [],
   "source": [
    "from pathlib import Path\n",
    "import pickle"
   ]
  },
  {
   "cell_type": "code",
   "execution_count": 2,
   "metadata": {},
   "outputs": [],
   "source": [
    "import numpy as np\n",
    "import pandas as pd"
   ]
  },
  {
   "cell_type": "code",
   "execution_count": 3,
   "metadata": {},
   "outputs": [],
   "source": [
    "import gpflow\n",
    "import tensorflow as tf"
   ]
  },
  {
   "cell_type": "code",
   "execution_count": 4,
   "metadata": {},
   "outputs": [],
   "source": [
    "from gpflow.utilities import print_summary\n",
    "gpflow.config.set_default_summary_fmt(\"notebook\")"
   ]
  },
  {
   "cell_type": "code",
   "execution_count": 5,
   "metadata": {},
   "outputs": [],
   "source": [
    "import casadi as cs"
   ]
  },
  {
   "cell_type": "code",
   "execution_count": 6,
   "metadata": {},
   "outputs": [],
   "source": [
    "import matplotlib.pyplot as plt"
   ]
  },
  {
   "cell_type": "code",
   "execution_count": 7,
   "metadata": {},
   "outputs": [],
   "source": [
    "%matplotlib inline\n",
    "plt.rcParams[\"figure.figsize\"] = (20, 6)"
   ]
  },
  {
   "cell_type": "markdown",
   "metadata": {},
   "source": [
    "## GP model"
   ]
  },
  {
   "cell_type": "code",
   "execution_count": 8,
   "metadata": {},
   "outputs": [],
   "source": [
    "size = 500"
   ]
  },
  {
   "cell_type": "code",
   "execution_count": 9,
   "metadata": {},
   "outputs": [],
   "source": [
    "X = np.linspace(-2, 2, num = size)\n",
    "# x^4 + 3*sin(x)\n",
    "Y =3 * X ** 2"
   ]
  },
  {
   "cell_type": "code",
   "execution_count": 10,
   "metadata": {},
   "outputs": [],
   "source": [
    "df_func = pd.DataFrame({\n",
    "    'X': X,\n",
    "    'Y': Y\n",
    "})"
   ]
  },
  {
   "cell_type": "code",
   "execution_count": 11,
   "metadata": {},
   "outputs": [],
   "source": [
    "n_sampl = 15"
   ]
  },
  {
   "cell_type": "code",
   "execution_count": 12,
   "metadata": {},
   "outputs": [],
   "source": [
    "df_sampled = df_func.sample(n_sampl)\n",
    "X_sampled = df_sampled['X'].to_numpy().reshape(-1, 1)"
   ]
  },
  {
   "cell_type": "code",
   "execution_count": 13,
   "metadata": {},
   "outputs": [],
   "source": [
    "Y_sampled = df_sampled['Y'].to_numpy().reshape(-1, 1)\n",
    "\n",
    "# Add noise to the output\n",
    "mean, var = 0, 0.5\n",
    "noise = np.random.normal(mean, var, size = Y_sampled.shape)\n",
    "\n",
    "Y_sampled = Y_sampled + noise"
   ]
  },
  {
   "cell_type": "code",
   "execution_count": 14,
   "metadata": {},
   "outputs": [
    {
     "data": {
      "image/png": "[encoded data removed]",
      "text/plain": [
       "<Figure size 1440x432 with 1 Axes>"
      ]
     },
     "metadata": {
      "needs_background": "light"
     },
     "output_type": "display_data"
    }
   ],
   "source": [
    "plt.figure()\n",
    "plt.plot(X, Y)\n",
    "plt.plot(X_sampled, Y_sampled, '.')\n",
    "plt.show()"
   ]
  },
  {
   "cell_type": "code",
   "execution_count": 15,
   "metadata": {},
   "outputs": [],
   "source": [
    "k = gpflow.kernels.SquaredExponential() + gpflow.kernels.Linear()"
   ]
  },
  {
   "cell_type": "code",
   "execution_count": 16,
   "metadata": {},
   "outputs": [
    {
     "data": {
      "text/html": [
       "<table>\n",
       "<thead>\n",
       "<tr><th>name                       </th><th>class    </th><th>transform  </th><th>prior  </th><th>trainable  </th><th>shape  </th><th>dtype  </th><th style=\"text-align: right;\">  value</th></tr>\n",
       "</thead>\n",
       "<tbody>\n",
       "<tr><td>Sum.kernels[0].variance    </td><td>Parameter</td><td>Softplus   </td><td>       </td><td>True       </td><td>()     </td><td>float64</td><td style=\"text-align: right;\">      1</td></tr>\n",
       "<tr><td>Sum.kernels[0].lengthscales</td><td>Parameter</td><td>Softplus   </td><td>       </td><td>True       </td><td>()     </td><td>float64</td><td style=\"text-align: right;\">      1</td></tr>\n",
       "<tr><td>Sum.kernels[1].variance    </td><td>Parameter</td><td>Softplus   </td><td>       </td><td>True       </td><td>()     </td><td>float64</td><td style=\"text-align: right;\">      1</td></tr>\n",
       "</tbody>\n",
       "</table>"
      ],
      "text/plain": [
       "<IPython.core.display.HTML object>"
      ]
     },
     "metadata": {},
     "output_type": "display_data"
    }
   ],
   "source": [
    "print_summary(k)"
   ]
  },
  {
   "cell_type": "code",
   "execution_count": 17,
   "metadata": {},
   "outputs": [
    {
     "data": {
      "text/html": [
       "<table>\n",
       "<thead>\n",
       "<tr><th>name                              </th><th>class    </th><th>transform       </th><th>prior  </th><th>trainable  </th><th>shape  </th><th>dtype  </th><th style=\"text-align: right;\">  value</th></tr>\n",
       "</thead>\n",
       "<tbody>\n",
       "<tr><td>GPR.kernel.kernels[0].variance    </td><td>Parameter</td><td>Softplus        </td><td>       </td><td>True       </td><td>()     </td><td>float64</td><td style=\"text-align: right;\">      1</td></tr>\n",
       "<tr><td>GPR.kernel.kernels[0].lengthscales</td><td>Parameter</td><td>Softplus        </td><td>       </td><td>True       </td><td>()     </td><td>float64</td><td style=\"text-align: right;\">      1</td></tr>\n",
       "<tr><td>GPR.kernel.kernels[1].variance    </td><td>Parameter</td><td>Softplus        </td><td>       </td><td>True       </td><td>()     </td><td>float64</td><td style=\"text-align: right;\">      1</td></tr>\n",
       "<tr><td>GPR.likelihood.variance           </td><td>Parameter</td><td>Softplus + Shift</td><td>       </td><td>True       </td><td>()     </td><td>float64</td><td style=\"text-align: right;\">      1</td></tr>\n",
       "</tbody>\n",
       "</table>"
      ],
      "text/plain": [
       "<IPython.core.display.HTML object>"
      ]
     },
     "metadata": {},
     "output_type": "display_data"
    }
   ],
   "source": [
    "model = gpflow.models.GPR(\n",
    "    data = (X_sampled, Y_sampled), \n",
    "    kernel = k, \n",
    "    mean_function = None\n",
    "    )\n",
    "print_summary(model)"
   ]
  },
  {
   "cell_type": "code",
   "execution_count": 18,
   "metadata": {},
   "outputs": [],
   "source": [
    "from datetime import datetime"
   ]
  },
  {
   "cell_type": "code",
   "execution_count": 19,
   "metadata": {},
   "outputs": [],
   "source": [
    "opt = gpflow.optimizers.Scipy()"
   ]
  },
  {
   "cell_type": "code",
   "execution_count": 20,
   "metadata": {},
   "outputs": [
    {
     "name": "stdout",
     "output_type": "stream",
     "text": [
      "Finished fitting in 0:00:00.980794\n"
     ]
    },
    {
     "data": {
      "text/html": [
       "<table>\n",
       "<thead>\n",
       "<tr><th>name                              </th><th>class    </th><th>transform       </th><th>prior  </th><th>trainable  </th><th>shape  </th><th>dtype  </th><th style=\"text-align: right;\">        value</th></tr>\n",
       "</thead>\n",
       "<tbody>\n",
       "<tr><td>GPR.kernel.kernels[0].variance    </td><td>Parameter</td><td>Softplus        </td><td>       </td><td>True       </td><td>()     </td><td>float64</td><td style=\"text-align: right;\">1031.13      </td></tr>\n",
       "<tr><td>GPR.kernel.kernels[0].lengthscales</td><td>Parameter</td><td>Softplus        </td><td>       </td><td>True       </td><td>()     </td><td>float64</td><td style=\"text-align: right;\">   3.57915   </td></tr>\n",
       "<tr><td>GPR.kernel.kernels[1].variance    </td><td>Parameter</td><td>Softplus        </td><td>       </td><td>True       </td><td>()     </td><td>float64</td><td style=\"text-align: right;\">   5.2804e-48</td></tr>\n",
       "<tr><td>GPR.likelihood.variance           </td><td>Parameter</td><td>Softplus + Shift</td><td>       </td><td>True       </td><td>()     </td><td>float64</td><td style=\"text-align: right;\">   0.336471  </td></tr>\n",
       "</tbody>\n",
       "</table>"
      ],
      "text/plain": [
       "<IPython.core.display.HTML object>"
      ]
     },
     "metadata": {},
     "output_type": "display_data"
    }
   ],
   "source": [
    "start_time = datetime.now()\n",
    "opt.minimize(model.training_loss, model.trainable_variables)\n",
    "print(f\"Finished fitting in {datetime.now() - start_time}\")\n",
    "print_summary(model)"
   ]
  },
  {
   "cell_type": "code",
   "execution_count": 21,
   "metadata": {},
   "outputs": [
    {
     "data": {
      "image/png": "[encoded data removed]",
      "text/plain": [
       "<Figure size 1440x432 with 1 Axes>"
      ]
     },
     "metadata": {
      "needs_background": "light"
     },
     "output_type": "display_data"
    }
   ],
   "source": [
    "## generate test points for prediction\n",
    "xx = np.linspace(-2.1, 2.1, 100).reshape(100, 1)  # test points must be of shape (N, D)\n",
    "\n",
    "## predict mean and variance of latent GP at test points\n",
    "mean, var = model.predict_f(xx)\n",
    "\n",
    "## generate 10 samples from posterior\n",
    "tf.random.set_seed(1)  # for reproducibility\n",
    "samples = model.predict_f_samples(xx, 10)  # shape (10, 100, 1)\n",
    "\n",
    "## plot\n",
    "plt.figure()\n",
    "plt.plot(X_sampled, Y_sampled, \"kx\", mew=2)\n",
    "plt.plot(xx, mean, \"C0\", lw=2)\n",
    "plt.fill_between(\n",
    "    xx[:, 0],\n",
    "    mean[:, 0] - 1.96 * np.sqrt(var[:, 0]),\n",
    "    mean[:, 0] + 1.96 * np.sqrt(var[:, 0]),\n",
    "    color=\"C0\",\n",
    "    alpha=0.2,\n",
    ")\n",
    "plt.plot(xx, samples[:, :, 0].numpy().T, \"C0\", linewidth=0.5)\n",
    "#plt.plot(X, Y, color = 'darkorange', lw = 2)\n",
    "_ = plt.xlim(-2.1, 2.1)"
   ]
  },
  {
   "cell_type": "markdown",
   "metadata": {},
   "source": [
    "## CasADi part"
   ]
  },
  {
   "cell_type": "code",
   "execution_count": 22,
   "metadata": {},
   "outputs": [],
   "source": [
    "# Package the resulting regression model in a CasADi callback\n",
    "class GPR(cs.Callback):\n",
    "  def __init__(self, name,  opts={}):\n",
    "    cs.Callback.__init__(self)\n",
    "    self.construct(name, opts)\n",
    "\n",
    "  def eval(self, arg):\n",
    "    [mean, _] = model.predict_y(np.array(arg[0]))\n",
    "    return [mean.numpy()]"
   ]
  },
  {
   "cell_type": "code",
   "execution_count": 23,
   "metadata": {},
   "outputs": [
    {
     "name": "stdout",
     "output_type": "stream",
     "text": [
      "GPR:(i0)->(o0) CallbackInternal\n"
     ]
    }
   ],
   "source": [
    "# Instantiate the Callback (make sure to keep a reference to it!)\n",
    "gpr = GPR('GPR', {\"enable_fd\":True})\n",
    "print(gpr)"
   ]
  },
  {
   "cell_type": "code",
   "execution_count": 37,
   "metadata": {},
   "outputs": [],
   "source": [
    "# Find the minimum of the regression model\n",
    "x = cs.MX.sym(\"x\")\n",
    "y = 2 * gpr(x) + 5\n",
    "f = cs.Function('f', [x], [y])"
   ]
  },
  {
   "cell_type": "code",
   "execution_count": 43,
   "metadata": {},
   "outputs": [],
   "source": [
    "prob = {\"x\":x,\"f\":f(x)}\n",
    "options = {\"ipopt\": {\"hessian_approximation\": \"limited-memory\", \"max_iter\": 500,\n",
    "                     \"acceptable_tol\": 1e-5,\n",
    "                     #\"linear_solver\": \"SPRAL\",\n",
    "                     \"acceptable_obj_change_tol\": 1e-3, \n",
    "                     #\"mu_strategy\": \"adaptive\",\n",
    "                     #\"expect_infeasible_problem\": \"yes\"\n",
    "                    }}"
   ]
  },
  {
   "cell_type": "code",
   "execution_count": 44,
   "metadata": {},
   "outputs": [
    {
     "name": "stdout",
     "output_type": "stream",
     "text": [
      "This is Ipopt version 3.13.4, running with linear solver mumps.\n",
      "NOTE: Other linear solvers might be more efficient (see Ipopt documentation).\n",
      "\n",
      "Number of nonzeros in equality constraint Jacobian...:        0\n",
      "Number of nonzeros in inequality constraint Jacobian.:        0\n",
      "Number of nonzeros in Lagrangian Hessian.............:        0\n",
      "\n",
      "Total number of variables............................:        1\n",
      "                     variables with only lower bounds:        0\n",
      "                variables with lower and upper bounds:        1\n",
      "                     variables with only upper bounds:        0\n",
      "Total number of equality constraints.................:        0\n",
      "Total number of inequality constraints...............:        0\n",
      "        inequality constraints with only lower bounds:        0\n",
      "   inequality constraints with lower and upper bounds:        0\n",
      "        inequality constraints with only upper bounds:        0\n",
      "\n",
      "iter    objective    inf_pr   inf_du lg(mu)  ||d||  lg(rg) alpha_du alpha_pr  ls\n",
      "   0  4.3566376e+00 0.00e+00 1.51e-01   0.0 0.00e+00    -  0.00e+00 0.00e+00   0\n",
      "   1  4.3561821e+00 0.00e+00 1.75e-01  -5.7 7.55e-02    -  9.54e-01 2.50e-01f  3\n",
      "   2  4.3557888e+00 0.00e+00 1.19e-04  -2.7 7.62e-03    -  9.98e-01 1.00e+00f  1\n",
      "   3  4.3557888e+00 0.00e+00 2.47e-05  -8.7 2.29e-05    -  9.98e-01 1.00e+00f  1\n",
      "   4  4.3557888e+00 0.00e+00 6.55e-06 -11.0 1.68e-06    -  1.00e+00 1.00e+00f  1\n",
      "   5  4.3557888e+00 0.00e+00 4.68e-06 -10.1 6.18e-07    -  1.00e+00 5.00e-01f  2\n",
      "   6  4.3557888e+00 0.00e+00 4.68e-06 -10.1 1.29e-07    -  1.00e+00 3.64e-12f 39\n",
      "   7  4.3557888e+00 0.00e+00 4.68e-06 -10.1 1.29e-07    -  1.00e+00 3.64e-12f 39\n",
      "   8  4.3557888e+00 0.00e+00 4.68e-06 -10.1 1.29e-07    -  1.00e+00 3.64e-12f 39\n",
      "   9  4.3557888e+00 0.00e+00 1.54e-05 -10.1 4.68e-06    -  1.00e+00 1.25e-01f  4\n",
      "iter    objective    inf_pr   inf_du lg(mu)  ||d||  lg(rg) alpha_du alpha_pr  ls\n",
      "  10  4.3557888e+00 0.00e+00 1.44e-05 -10.1 1.54e-05    -  1.00e+00 2.44e-04f 13\n",
      "  11  4.3557888e+00 0.00e+00 1.11e-05 -10.1 5.23e-08    -  1.00e+00 5.00e-01f  2\n",
      "  12  4.3557888e+00 0.00e+00 2.19e-06 -10.1 1.14e-08    -  1.00e+00 1.22e-04f 14\n",
      "  13  4.3557888e+00 0.00e+00 1.60e-05 -10.1 3.42e-13    -  1.00e+00 2.50e-01f  3\n",
      "  14  4.3557888e+00 0.00e+00 6.64e-06 -10.1 7.51e-14    -  1.00e+00 7.81e-03f  8\n",
      "  15  4.3557888e+00 0.00e+00 9.34e-06 -10.1 3.11e-14    -  1.00e+00 1.00e+00w  1\n",
      "  16  4.3557888e+00 0.00e+00 4.30e-07 -10.1 1.82e-14    -  1.00e+00 1.00e+00w  1\n",
      "  17  4.3557888e+00 0.00e+00 1.05e-06 -11.0 8.38e-16    -  1.00e+00 1.00e+00   0\n",
      "  18  4.3557888e+00 0.00e+00 3.52e-06 -11.0 2.04e-15    -  1.00e+00 1.00e+00T  0\n",
      "  19  4.3557888e+00 0.00e+00 1.54e-05  -9.0 3.52e-06    -  1.00e+00 7.81e-03f  8\n",
      "iter    objective    inf_pr   inf_du lg(mu)  ||d||  lg(rg) alpha_du alpha_pr  ls\n",
      "  20  4.3557888e+00 0.00e+00 8.17e-06  -9.0 1.54e-05    -  1.00e+00 9.77e-04f 11\n",
      "  21  4.3557888e+00 0.00e+00 1.26e-05  -9.0 5.22e-09    -  1.00e+00 9.54e-07f 21\n",
      "  22  4.3557888e+00 0.00e+00 7.43e-06  -9.0 8.06e-09    -  1.00e+00 1.95e-03f 10\n",
      "  23  4.3557888e+00 0.00e+00 8.75e-06  -9.0 5.83e-12    -  1.00e+00 6.10e-05f 15\n",
      "  24  4.3557888e+00 0.00e+00 4.37e-06  -9.0 6.87e-12    -  1.00e+00 1.22e-04f 14\n",
      "  25  4.3557888e+00 0.00e+00 2.59e-05  -9.0 3.43e-12    -  1.00e+00 4.88e-04f 12\n",
      "  26  4.3557888e+00 0.00e+00 1.05e-05  -9.0 2.59e-05    -  1.00e+00 5.82e-11f 35\n",
      "  27  4.3557888e+00 0.00e+00 1.39e-05  -9.0 1.05e-05    -  1.00e+00 1.82e-12f 40\n",
      "  28  4.3557888e+00 0.00e+00 1.05e-05  -9.0 1.39e-05    -  1.00e+00 3.64e-12f 39\n",
      "  29  4.3557888e+00 0.00e+00 1.36e-04  -9.0 1.05e-05    -  1.00e+00 1.00e+00w  1\n",
      "iter    objective    inf_pr   inf_du lg(mu)  ||d||  lg(rg) alpha_du alpha_pr  ls\n",
      "  30  4.3557888e+00 0.00e+00 3.05e-06  -9.0 9.75e-06    -  1.00e+00 1.00e+00w  1\n",
      "  31  4.3557888e+00 0.00e+00 2.19e-05  -9.0 2.24e-07    -  1.00e+00 1.00e+00w  1\n",
      "  32  4.3557888e+00 0.00e+00 1.36e-04  -9.0 1.60e-06    -  1.00e+00 1.00e+00S 21\n",
      "  33  4.3557888e+00 0.00e+00 5.27e-06  -9.0 1.19e-05    -  1.00e+00 1.00e+00f  1\n",
      "  34  4.3557888e+00 0.00e+00 1.81e-05  -9.0 4.79e-07    -  1.00e+00 1.56e-02f  7\n",
      "  35  4.3557888e+00 0.00e+00 1.13e-05  -9.0 5.79e-09    -  1.00e+00 1.00e+00f  1\n",
      "  36  4.3557888e+00 0.00e+00 5.75e-06  -9.0 9.70e-09    -  1.00e+00 1.22e-04f 14\n",
      "  37  4.3557888e+00 0.00e+00 1.67e-05  -9.0 3.99e-13    -  1.00e+00 1.00e+00f  1\n",
      "  38  4.3557888e+00 0.00e+00 4.57e-06  -9.0 2.97e-13    -  1.00e+00 4.88e-04f 12\n",
      "  39  4.3557888e+00 0.00e+00 3.80e-05  -9.0 8.13e-14    -  1.00e+00 4.88e-04f 12\n",
      "iter    objective    inf_pr   inf_du lg(mu)  ||d||  lg(rg) alpha_du alpha_pr  ls\n",
      "  40  4.3557888e+00 0.00e+00 5.16e-06  -9.0 6.76e-13    -  1.00e+00 6.25e-02f  5\n",
      "  41  4.3557888e+00 0.00e+00 2.95e-05  -9.0 5.16e-06    -  1.00e+00 2.50e-01f  3\n",
      "  42  4.3557888e+00 0.00e+00 4.46e-06  -9.0 1.10e-06    -  1.00e+00 6.25e-02f  5\n",
      "  43  4.3557888e+00 0.00e+00 3.53e-06  -9.0 1.22e-08    -  1.00e+00 3.12e-02f  6\n",
      "  44  4.3557888e+00 0.00e+00 1.70e-06  -9.0 1.68e-10    -  1.00e+00 2.38e-07f 23\n",
      "  45  4.3557888e+00 0.00e+00 5.92e-06  -9.0 8.10e-11    -  1.00e+00 2.50e-01f  3\n",
      "  46  4.3557888e+00 0.00e+00 1.12e-05  -9.0 1.57e-11    -  1.00e+00 4.88e-04f 12\n",
      "  47  4.3557888e+00 0.00e+00 1.12e-05  -9.0 2.97e-11    -  1.00e+00 1.49e-08f 27\n",
      "  48  4.3557888e+00 0.00e+00 8.63e-06  -9.0 2.97e-11    -  1.00e+00 1.00e+00w  1\n",
      "  49  4.3557888e+00 0.00e+00 1.37e-04  -9.0 8.63e-06    -  1.00e+00 1.00e+00w  1\n",
      "iter    objective    inf_pr   inf_du lg(mu)  ||d||  lg(rg) alpha_du alpha_pr  ls\n",
      "  50  4.3557888e+00 0.00e+00 2.66e-05  -9.0 8.12e-06    -  1.00e+00 1.00e+00w  1\n",
      "  51  4.3557888e+00 0.00e+00 1.12e-05  -9.0 1.96e-06    -  1.00e+00 1.49e-08f 26\n",
      "  52  4.3557888e+00 0.00e+00 1.12e-05  -9.0 3.70e-07    -  1.00e+00 1.82e-12f 40\n",
      "  53  4.3557888e+00 0.00e+00 1.12e-05  -9.0 3.70e-07    -  1.00e+00 1.82e-12f 40\n",
      "  54  4.3557888e+00 0.00e+00 1.12e-05  -9.0 3.70e-07    -  1.00e+00 1.82e-12f 40\n",
      "  55  4.3557888e+00 0.00e+00 2.03e-05  -9.0 1.12e-05    -  1.00e+00 3.05e-05f 16\n",
      "  56  4.3557888e+00 0.00e+00 4.20e-06  -9.0 2.03e-05    -  1.00e+00 5.82e-11f 35\n",
      "  57  4.3557888e+00 0.00e+00 4.20e-06  -9.0 4.20e-06    -  1.00e+00 3.64e-12f 39\n",
      "  58  4.3557888e+00 0.00e+00 4.20e-06  -9.0 4.20e-06    -  1.00e+00 1.14e-13f 44\n",
      "  59  4.3557888e+00 0.00e+00 4.20e-06  -9.0 4.20e-06    -  1.00e+00 1.14e-13f 44\n",
      "iter    objective    inf_pr   inf_du lg(mu)  ||d||  lg(rg) alpha_du alpha_pr  ls\n",
      "  60  4.3557888e+00 0.00e+00 4.20e-06  -9.0 4.20e-06    -  1.00e+00 1.14e-13f 44\n",
      "  61  4.3557888e+00 0.00e+00 6.64e-05  -9.0 4.20e-06    -  1.00e+00 1.00e+00w  1\n",
      "  62  4.3557888e+00 0.00e+00 2.68e-06  -9.0 3.95e-06    -  1.00e+00 1.00e+00w  1\n",
      "  63  4.3557888e+00 0.00e+00 1.22e-05  -9.0 1.53e-07    -  1.00e+00 1.00e+00w  1\n",
      "  64  4.3557888e+00 0.00e+00 6.64e-05  -9.0 1.26e-07    -  1.00e+00 1.00e+00S 21\n",
      "  65  4.3557888e+00 0.00e+00 1.83e-05  -9.0 4.65e-06    -  1.00e+00 1.00e+00f  1\n",
      "  66  4.3557888e+00 0.00e+00 1.82e-05  -9.0 1.00e-06    -  1.00e+00 1.00e+00f  1\n",
      "  67  4.3557888e+00 0.00e+00 1.38e-05  -9.0 5.00e-07    -  1.00e+00 4.66e-10f 32\n",
      "  68  4.3557888e+00 0.00e+00 3.48e-06  -9.0 3.80e-07    -  1.00e+00 4.88e-04f 12\n",
      "  69  4.3557888e+00 0.00e+00 5.28e-06  -9.0 3.74e-11    -  1.00e+00 1.53e-05f 17\n",
      "iter    objective    inf_pr   inf_du lg(mu)  ||d||  lg(rg) alpha_du alpha_pr  ls\n",
      "  70  4.3557888e+00 0.00e+00 1.92e-05  -9.0 5.67e-11    -  1.00e+00 9.54e-07f 21\n",
      "  71  4.3557888e+00 0.00e+00 1.92e-05  -9.0 2.06e-10    -  1.00e+00 1.49e-08f 27\n",
      "  72  4.3557888e+00 0.00e+00 1.92e-05  -9.0 1.92e-05    -  1.00e+00 2.84e-14f 46\n",
      "  73  4.3557888e+00 0.00e+00 1.92e-05  -9.0 1.92e-05    -  1.00e+00 2.84e-14f 46\n",
      "  74  4.3557888e+00 0.00e+00 1.92e-05  -9.0 1.92e-05    -  1.00e+00 2.84e-14f 46\n",
      "  75  4.3557888e+00 0.00e+00 1.92e-05  -9.0 1.92e-05    -  1.00e+00 2.84e-14f 46\n",
      "  76  4.3557888e+00 0.00e+00 1.92e-05  -9.0 1.92e-05    -  1.00e+00 2.84e-14f 46\n",
      "  77  4.3557888e+00 0.00e+00 2.35e-04  -9.0 1.92e-05    -  1.00e+00 1.00e+00w  1\n",
      "  78  4.3557891e+00 0.00e+00 2.92e-03  -9.0 2.35e-04    -  1.00e+00 1.00e+00w  1\n",
      "  79  4.3557888e+00 0.00e+00 5.45e-06  -9.0 2.17e-04    -  1.00e+00 1.00e+00w  1\n",
      "iter    objective    inf_pr   inf_du lg(mu)  ||d||  lg(rg) alpha_du alpha_pr  ls\n",
      "  80  4.3557888e+00 0.00e+00 2.35e-04  -9.0 4.05e-07    -  1.00e+00 1.00e+00S 21\n",
      "  81  4.3557888e+00 0.00e+00 5.30e-06  -9.0 1.79e-05    -  1.00e+00 1.00e+00f  1\n",
      "  82  4.3557888e+00 0.00e+00 3.86e-06  -9.0 4.14e-07    -  1.00e+00 1.00e+00f  1\n",
      "  83  4.3557888e+00 0.00e+00 9.12e-06  -9.0 1.10e-06    -  1.00e+00 5.00e-01f  2\n",
      "  84  4.3557888e+00 0.00e+00 1.81e-05  -9.0 2.61e-06    -  1.00e+00 3.12e-02f  6\n",
      "  85  4.3557888e+00 0.00e+00 9.04e-06  -9.0 5.43e-08    -  1.00e+00 1.00e+00f  1\n",
      "  86  4.3557888e+00 0.00e+00 6.84e-06  -9.0 5.40e-08    -  1.00e+00 5.00e-01f  2\n",
      "  87  4.3557888e+00 0.00e+00 9.35e-06  -9.0 1.16e-08    -  1.00e+00 5.00e-01f  2\n",
      "  88  4.3557888e+00 0.00e+00 1.01e-05  -9.0 1.59e-08    -  1.00e+00 2.44e-04f 13\n",
      "  89  4.3557888e+00 0.00e+00 1.26e-05  -9.0 2.02e-12    -  1.00e+00 3.05e-05f 16\n",
      "iter    objective    inf_pr   inf_du lg(mu)  ||d||  lg(rg) alpha_du alpha_pr  ls\n",
      "  90  4.3557888e+00 0.00e+00 1.24e-05  -9.0 2.50e-12    -  1.00e+00 7.63e-06f 18\n",
      "  91  4.3557888e+00 0.00e+00 6.62e-06  -9.0 2.46e-12    -  1.00e+00 1.53e-05f 17\n",
      "  92  4.3557888e+00 0.00e+00 1.10e-05  -9.0 6.62e-06    -  1.00e+00 3.64e-12f 39\n",
      "  93  4.3557888e+00 0.00e+00 8.95e-06  -9.0 1.10e-05    -  1.00e+00 2.27e-13f 43\n",
      "  94  4.3557888e+00 0.00e+00 8.95e-06  -9.0 8.95e-06    -  1.00e+00 2.27e-13f 43\n",
      "  95  4.3557888e+00 0.00e+00 8.95e-06  -9.0 8.95e-06    -  1.00e+00 5.68e-14f 45\n",
      "  96  4.3557888e+00 0.00e+00 1.32e-04  -9.0 8.95e-06    -  1.00e+00 1.00e+00w  1\n",
      "  97  4.3557888e+00 0.00e+00 2.44e-05  -9.0 8.38e-06    -  1.00e+00 1.00e+00w  1\n",
      "  98  4.3557888e+00 0.00e+00 1.66e-05  -9.0 1.31e-06    -  1.00e+00 1.00e+00w  1\n",
      "  99  4.3557888e+00 0.00e+00 1.32e-04  -9.0 5.30e-07    -  1.00e+00 1.00e+00S 21\n",
      "iter    objective    inf_pr   inf_du lg(mu)  ||d||  lg(rg) alpha_du alpha_pr  ls\n",
      " 100  4.3557888e+00 0.00e+00 3.32e-06  -9.0 8.09e-06    -  1.00e+00 1.00e+00f  1\n",
      " 101  4.3557888e+00 0.00e+00 1.89e-05  -9.0 1.99e-07    -  1.00e+00 2.50e-01f  3\n",
      " 102  4.3557888e+00 0.00e+00 2.90e-05  -9.0 4.23e-08    -  1.00e+00 1.00e+00f  1\n",
      " 103  4.3557888e+00 0.00e+00 9.38e-06  -9.0 6.48e-08    -  1.00e+00 1.00e+00f  1\n",
      " 104  4.3557888e+00 0.00e+00 3.74e-05  -9.0 3.10e-08    -  1.00e+00 1.25e-01f  4\n",
      " 105  4.3557888e+00 0.00e+00 2.03e-05  -9.0 1.24e-07    -  1.00e+00 2.98e-08f 26\n",
      " 106  4.3557888e+00 0.00e+00 4.42e-06  -9.0 6.70e-08    -  1.00e+00 1.00e+00f  1\n",
      " 107  4.3557888e+00 0.00e+00 8.32e-07  -9.0 4.42e-06    -  1.00e+00 4.77e-07f 22\n",
      " 108  4.3557888e+00 0.00e+00 1.13e-05  -9.0 3.34e-13    -  1.00e+00 1.22e-04f 14\n",
      " 109  4.3557888e+00 0.00e+00 1.58e-05  -9.0 4.54e-12    -  1.00e+00 3.91e-03f  9\n",
      "iter    objective    inf_pr   inf_du lg(mu)  ||d||  lg(rg) alpha_du alpha_pr  ls\n",
      " 110  4.3557888e+00 0.00e+00 2.52e-05  -9.0 6.32e-12    -  1.00e+00 1.53e-05f 17\n",
      " 111  4.3557888e+00 0.00e+00 1.13e-05  -9.0 2.52e-05    -  1.00e+00 3.12e-02f  6\n",
      " 112  4.3557888e+00 0.00e+00 7.51e-06  -9.0 2.44e-07    -  1.00e+00 5.00e-01f  2\n",
      " 113  4.3557888e+00 0.00e+00 3.87e-08  -9.0 4.87e-08    -  1.00e+00 1.00e+00f  1\n",
      " 114  4.3557888e+00 0.00e+00 6.03e-06  -9.0 2.52e-10    -  1.00e+00 1.00e+00f  1\n",
      " 115  4.3557888e+00 0.00e+00 1.86e-05  -9.0 3.93e-08    -  1.00e+00 1.95e-03f 10\n",
      " 116  4.3557888e+00 0.00e+00 1.72e-05  -9.0 5.79e-11    -  1.00e+00 9.54e-07f 21\n",
      " 117  4.3557888e+00 0.00e+00 1.89e-06  -9.0 5.38e-11    -  1.00e+00 4.88e-04f 12\n",
      " 118  4.3557888e+00 0.00e+00 2.14e-05  -9.0 2.60e-15    -  1.00e+00 7.81e-03f  8\n",
      " 119  4.3557888e+00 0.00e+00 1.35e-06  -9.0 2.94e-14    -  1.00e+00 5.00e-01f  2\n",
      "iter    objective    inf_pr   inf_du lg(mu)  ||d||  lg(rg) alpha_du alpha_pr  ls\n",
      " 120  4.3557888e+00 0.00e+00 9.35e-06  -9.0 1.86e-15    -  1.00e+00 1.00e+00   0\n",
      " 121  4.3557888e+00 0.00e+00 1.13e-05  -9.0 9.35e-06    -  1.00e+00 1.46e-11f 37\n",
      " 122  4.3557888e+00 0.00e+00 1.13e-05  -9.0 1.13e-05    -  1.00e+00 3.64e-12f 39\n",
      " 123  4.3557888e+00 0.00e+00 1.13e-05  -9.0 1.13e-05    -  1.00e+00 5.68e-14f 45\n",
      " 124  4.3557888e+00 0.00e+00 1.13e-05  -9.0 1.13e-05    -  1.00e+00 5.68e-14f 45\n",
      " 125  4.3557888e+00 0.00e+00 1.13e-05  -9.0 1.13e-05    -  1.00e+00 5.68e-14f 45\n",
      " 126  4.3557888e+00 0.00e+00 1.13e-05  -9.0 1.13e-05    -  1.00e+00 5.68e-14f 45\n",
      " 127  4.3557888e+00 0.00e+00 1.13e-05  -9.0 1.13e-05    -  1.00e+00 5.68e-14f 45\n",
      " 128  4.3557888e+00 0.00e+00 1.13e-05  -9.0 1.13e-05    -  1.00e+00 5.68e-14f 45\n",
      " 129  4.3557888e+00 0.00e+00 1.13e-05  -9.0 1.13e-05    -  1.00e+00 5.68e-14f 45\n",
      "iter    objective    inf_pr   inf_du lg(mu)  ||d||  lg(rg) alpha_du alpha_pr  ls\n",
      " 130  4.3557888e+00 0.00e+00 1.13e-05  -9.0 1.13e-05    -  1.00e+00 5.68e-14f 45\n",
      " 131  4.3557888e+00 0.00e+00 1.31e-04  -9.0 1.13e-05    -  1.00e+00 1.00e+00w  1\n",
      " 132  4.3557888e+00 0.00e+00 6.04e-06  -9.0 1.04e-05    -  1.00e+00 1.00e+00w  1\n",
      " 133  4.3557888e+00 0.00e+00 2.20e-05  -9.0 4.61e-07    -  1.00e+00 1.00e+00w  1\n",
      " 134  4.3557888e+00 0.00e+00 1.31e-04  -9.0 3.62e-07    -  1.00e+00 1.00e+00S 21\n",
      " 135  4.3557888e+00 0.00e+00 1.21e-05  -9.0 1.20e-05    -  1.00e+00 1.00e+00f  1\n",
      " 136  4.3557888e+00 0.00e+00 1.55e-05  -9.0 1.02e-06    -  1.00e+00 1.00e+00f  1\n",
      " 137  4.3557888e+00 0.00e+00 1.04e-05  -9.0 5.71e-07    -  1.00e+00 3.81e-06f 19\n",
      " 138  4.3557888e+00 0.00e+00 2.13e-05  -9.0 4.54e-12    -  1.00e+00 5.00e-01f  2\n",
      " 139  4.3557888e+00 0.00e+00 1.38e-05  -9.0 9.27e-12    -  1.00e+00 1.56e-02f  7\n",
      "iter    objective    inf_pr   inf_du lg(mu)  ||d||  lg(rg) alpha_du alpha_pr  ls\n",
      " 140  4.3557888e+00 0.00e+00 7.70e-07  -9.0 2.64e-13    -  1.00e+00 4.88e-04f 12\n",
      " 141  4.3557888e+00 0.00e+00 7.70e-07  -9.0 1.47e-14    -  1.00e+00 1.95e-03f 10\n",
      " 142  4.3557888e+00 0.00e+00 7.70e-07  -9.0 1.47e-14    -  1.00e+00 9.77e-04f 11\n",
      " 143  4.3557888e+00 0.00e+00 7.70e-07  -9.0 7.70e-07    -  1.00e+00 3.64e-12f 39\n",
      " 144  4.3557888e+00 0.00e+00 7.70e-07  -9.0 7.70e-07    -  1.00e+00 9.09e-13f 41\n",
      " 145  4.3557888e+00 0.00e+00 7.70e-07  -9.0 7.70e-07    -  1.00e+00 9.09e-13f 41\n",
      " 146  4.3557888e+00 0.00e+00 7.70e-07  -9.0 7.70e-07    -  1.00e+00 9.09e-13f 41\n",
      " 147  4.3557888e+00 0.00e+00 7.78e-06  -9.0 7.70e-07    -  1.00e+00 1.00e+00w  1\n",
      " 148  4.3557888e+00 0.00e+00 5.43e-06  -9.0 7.01e-07    -  1.00e+00 1.00e+00w  1\n",
      " 149  4.3557888e+00 0.00e+00 2.41e-05  -9.0 2.88e-07    -  1.00e+00 1.00e+00w  1\n",
      "iter    objective    inf_pr   inf_du lg(mu)  ||d||  lg(rg) alpha_du alpha_pr  ls\n",
      " 150  4.3557888e+00 0.00e+00 7.78e-06  -9.0 2.35e-07    -  1.00e+00 1.00e+00S 21\n",
      " 151  4.3557888e+00 0.00e+00 5.15e-06  -9.0 7.58e-08    -  1.00e+00 1.00e+00f  1\n",
      " 152  4.3557888e+00 0.00e+00 1.34e-05  -9.0 1.48e-07    -  1.00e+00 1.00e+00f  1\n",
      " 153  4.3557888e+00 0.00e+00 1.08e-06  -9.0 3.86e-07    -  1.00e+00 1.25e-01f  4\n",
      " 154  4.3557888e+00 0.00e+00 1.12e-05  -9.0 3.60e-09    -  1.00e+00 5.00e-01f  2\n",
      " 155  4.3557888e+00 0.00e+00 1.67e-05  -9.0 1.64e-09    -  1.00e+00 9.77e-04f 11\n",
      " 156  4.3557888e+00 0.00e+00 1.22e-05  -9.0 9.62e-13    -  1.00e+00 3.05e-05f 16\n",
      " 157  4.3557888e+00 0.00e+00 2.06e-05  -9.0 6.99e-13    -  1.00e+00 9.77e-04f 11\n",
      " 158  4.3557888e+00 0.00e+00 2.61e-05  -9.0 1.18e-12    -  1.00e+00 4.88e-04f 12\n",
      " 159  4.3557888e+00 0.00e+00 1.64e-05  -9.0 2.61e-05    -  1.00e+00 1.46e-11f 37\n",
      "iter    objective    inf_pr   inf_du lg(mu)  ||d||  lg(rg) alpha_du alpha_pr  ls\n",
      " 160  4.3557888e+00 0.00e+00 1.04e-05  -9.0 1.64e-05    -  1.00e+00 3.64e-12f 39\n",
      " 161  4.3557888e+00 0.00e+00 1.04e-05  -9.0 1.04e-05    -  1.00e+00 4.55e-13f 42\n",
      " 162  4.3557888e+00 0.00e+00 1.04e-05  -9.0 1.04e-05    -  1.00e+00 5.68e-14f 45\n",
      " 163  4.3557888e+00 0.00e+00 1.36e-04  -9.0 1.04e-05    -  1.00e+00 1.00e+00w  1\n",
      " 164  4.3557888e+00 0.00e+00 5.77e-06  -9.0 9.62e-06    -  1.00e+00 1.00e+00w  1\n",
      " 165  4.3557888e+00 0.00e+00 2.37e-05  -9.0 4.25e-07    -  1.00e+00 1.00e+00w  1\n",
      " 166  4.3557888e+00 0.00e+00 1.04e-05  -9.0 3.41e-07    -  1.00e+00 5.68e-14f 44\n",
      " 167  4.3557888e+00 0.00e+00 1.04e-05  -9.0 1.49e-07    -  1.00e+00 3.64e-12f 39\n",
      " 168  4.3557888e+00 0.00e+00 1.04e-05  -9.0 1.49e-07    -  1.00e+00 3.64e-12f 39\n",
      " 169  4.3557888e+00 0.00e+00 1.04e-05  -9.0 1.04e-05    -  1.00e+00 5.68e-14f 45\n",
      "iter    objective    inf_pr   inf_du lg(mu)  ||d||  lg(rg) alpha_du alpha_pr  ls\n",
      " 170  4.3557888e+00 0.00e+00 1.04e-05  -9.0 1.04e-05    -  1.00e+00 5.68e-14f 45\n",
      " 171  4.3557888e+00 0.00e+00 1.04e-05  -9.0 1.04e-05    -  1.00e+00 5.68e-14f 45\n",
      " 172  4.3557888e+00 0.00e+00 1.04e-05  -9.0 1.04e-05    -  1.00e+00 5.68e-14f 45\n",
      " 173  4.3557888e+00 0.00e+00 1.04e-05  -9.0 1.04e-05    -  1.00e+00 5.68e-14f 45\n",
      " 174  4.3557888e+00 0.00e+00 1.04e-05  -9.0 1.04e-05    -  1.00e+00 5.68e-14f 45\n",
      " 175  4.3557888e+00 0.00e+00 1.04e-05  -9.0 1.04e-05    -  1.00e+00 5.68e-14f 45\n",
      " 176  4.3557888e+00 0.00e+00 1.36e-04  -9.0 1.04e-05    -  1.00e+00 1.00e+00w  1\n",
      " 177  4.3557888e+00 0.00e+00 5.77e-06  -9.0 9.62e-06    -  1.00e+00 1.00e+00w  1\n",
      " 178  4.3557888e+00 0.00e+00 2.37e-05  -9.0 4.25e-07    -  1.00e+00 1.00e+00w  1\n",
      " 179  4.3557888e+00 0.00e+00 1.04e-05  -9.0 3.41e-07    -  1.00e+00 5.68e-14f 44\n",
      "iter    objective    inf_pr   inf_du lg(mu)  ||d||  lg(rg) alpha_du alpha_pr  ls\n",
      " 180  4.3557888e+00 0.00e+00 1.04e-05  -9.0 1.49e-07    -  1.00e+00 3.64e-12f 39\n",
      " 181  4.3557888e+00 0.00e+00 1.04e-05  -9.0 1.49e-07    -  1.00e+00 3.64e-12f 39\n",
      " 182  4.3557888e+00 0.00e+00 1.04e-05  -9.0 1.04e-05    -  1.00e+00 5.68e-14f 45\n",
      " 183  4.3557888e+00 0.00e+00 1.04e-05  -9.0 1.04e-05    -  1.00e+00 5.68e-14f 45\n",
      " 184  4.3557888e+00 0.00e+00 1.04e-05  -9.0 1.04e-05    -  1.00e+00 5.68e-14f 45\n",
      " 185  4.3557888e+00 0.00e+00 1.04e-05  -9.0 1.04e-05    -  1.00e+00 5.68e-14f 45\n",
      " 186  4.3557888e+00 0.00e+00 1.04e-05  -9.0 1.04e-05    -  1.00e+00 5.68e-14f 45\n",
      " 187  4.3557888e+00 0.00e+00 1.04e-05  -9.0 1.04e-05    -  1.00e+00 5.68e-14f 45\n",
      " 188  4.3557888e+00 0.00e+00 1.04e-05  -9.0 1.04e-05    -  1.00e+00 5.68e-14f 45\n",
      " 189  4.3557888e+00 0.00e+00 1.36e-04  -9.0 1.04e-05    -  1.00e+00 1.00e+00w  1\n",
      "iter    objective    inf_pr   inf_du lg(mu)  ||d||  lg(rg) alpha_du alpha_pr  ls\n",
      " 190  4.3557888e+00 0.00e+00 5.77e-06  -9.0 9.62e-06    -  1.00e+00 1.00e+00w  1\n",
      " 191  4.3557888e+00 0.00e+00 2.37e-05  -9.0 4.25e-07    -  1.00e+00 1.00e+00w  1\n",
      " 192  4.3557888e+00 0.00e+00 1.04e-05  -9.0 3.41e-07    -  1.00e+00 5.68e-14f 44\n",
      " 193  4.3557888e+00 0.00e+00 1.04e-05  -9.0 1.49e-07    -  1.00e+00 3.64e-12f 39\n",
      " 194  4.3557888e+00 0.00e+00 1.04e-05  -9.0 1.49e-07    -  1.00e+00 3.64e-12f 39\n",
      " 195  4.3557888e+00 0.00e+00 1.04e-05  -9.0 1.04e-05    -  1.00e+00 5.68e-14f 45\n",
      " 196  4.3557888e+00 0.00e+00 1.04e-05  -9.0 1.04e-05    -  1.00e+00 5.68e-14f 45\n",
      " 197  4.3557888e+00 0.00e+00 1.04e-05  -9.0 1.04e-05    -  1.00e+00 5.68e-14f 45\n",
      " 198  4.3557888e+00 0.00e+00 1.04e-05  -9.0 1.04e-05    -  1.00e+00 5.68e-14f 45\n",
      " 199  4.3557888e+00 0.00e+00 1.04e-05  -9.0 1.04e-05    -  1.00e+00 5.68e-14f 45\n",
      "iter    objective    inf_pr   inf_du lg(mu)  ||d||  lg(rg) alpha_du alpha_pr  ls\n",
      " 200  4.3557888e+00 0.00e+00 1.04e-05  -9.0 1.04e-05    -  1.00e+00 5.68e-14f 45\n",
      " 201  4.3557888e+00 0.00e+00 1.04e-05  -9.0 1.04e-05    -  1.00e+00 5.68e-14f 45\n",
      " 202  4.3557888e+00 0.00e+00 1.36e-04  -9.0 1.04e-05    -  1.00e+00 1.00e+00w  1\n",
      " 203  4.3557888e+00 0.00e+00 5.77e-06  -9.0 9.62e-06    -  1.00e+00 1.00e+00w  1\n",
      " 204  4.3557888e+00 0.00e+00 2.37e-05  -9.0 4.25e-07    -  1.00e+00 1.00e+00w  1\n",
      " 205  4.3557888e+00 0.00e+00 1.04e-05  -9.0 3.41e-07    -  1.00e+00 5.68e-14f 44\n",
      " 206  4.3557888e+00 0.00e+00 1.04e-05  -9.0 1.49e-07    -  1.00e+00 3.64e-12f 39\n",
      " 207  4.3557888e+00 0.00e+00 1.04e-05  -9.0 1.49e-07    -  1.00e+00 3.64e-12f 39\n",
      " 208  4.3557888e+00 0.00e+00 1.04e-05  -9.0 1.04e-05    -  1.00e+00 5.68e-14f 45\n",
      " 209  4.3557888e+00 0.00e+00 1.04e-05  -9.0 1.04e-05    -  1.00e+00 5.68e-14f 45\n",
      "iter    objective    inf_pr   inf_du lg(mu)  ||d||  lg(rg) alpha_du alpha_pr  ls\n",
      " 210  4.3557888e+00 0.00e+00 1.04e-05  -9.0 1.04e-05    -  1.00e+00 5.68e-14f 45\n",
      " 211  4.3557888e+00 0.00e+00 1.04e-05  -9.0 1.04e-05    -  1.00e+00 5.68e-14f 45\n",
      " 212  4.3557888e+00 0.00e+00 1.04e-05  -9.0 1.04e-05    -  1.00e+00 5.68e-14f 45\n",
      " 213  4.3557888e+00 0.00e+00 1.04e-05  -9.0 1.04e-05    -  1.00e+00 5.68e-14f 45\n",
      " 214  4.3557888e+00 0.00e+00 1.04e-05  -9.0 1.04e-05    -  1.00e+00 5.68e-14f 45\n",
      " 215  4.3557888e+00 0.00e+00 1.36e-04  -9.0 1.04e-05    -  1.00e+00 1.00e+00w  1\n",
      " 216  4.3557888e+00 0.00e+00 5.77e-06  -9.0 9.62e-06    -  1.00e+00 1.00e+00w  1\n",
      " 217  4.3557888e+00 0.00e+00 2.37e-05  -9.0 4.25e-07    -  1.00e+00 1.00e+00w  1\n",
      " 218  4.3557888e+00 0.00e+00 1.04e-05  -9.0 3.41e-07    -  1.00e+00 5.68e-14f 44\n",
      " 219  4.3557888e+00 0.00e+00 1.04e-05  -9.0 1.49e-07    -  1.00e+00 3.64e-12f 39\n",
      "iter    objective    inf_pr   inf_du lg(mu)  ||d||  lg(rg) alpha_du alpha_pr  ls\n",
      " 220  4.3557888e+00 0.00e+00 1.04e-05  -9.0 1.49e-07    -  1.00e+00 3.64e-12f 39\n",
      " 221  4.3557888e+00 0.00e+00 1.04e-05  -9.0 1.04e-05    -  1.00e+00 5.68e-14f 45\n",
      " 222  4.3557888e+00 0.00e+00 1.04e-05  -9.0 1.04e-05    -  1.00e+00 5.68e-14f 45\n",
      " 223  4.3557888e+00 0.00e+00 1.04e-05  -9.0 1.04e-05    -  1.00e+00 5.68e-14f 45\n",
      " 224  4.3557888e+00 0.00e+00 1.04e-05  -9.0 1.04e-05    -  1.00e+00 5.68e-14f 45\n",
      " 225  4.3557888e+00 0.00e+00 1.04e-05  -9.0 1.04e-05    -  1.00e+00 5.68e-14f 45\n",
      " 226  4.3557888e+00 0.00e+00 1.04e-05  -9.0 1.04e-05    -  1.00e+00 5.68e-14f 45\n",
      " 227  4.3557888e+00 0.00e+00 1.04e-05  -9.0 1.04e-05    -  1.00e+00 5.68e-14f 45\n",
      " 228  4.3557888e+00 0.00e+00 1.36e-04  -9.0 1.04e-05    -  1.00e+00 1.00e+00w  1\n",
      " 229  4.3557888e+00 0.00e+00 5.77e-06  -9.0 9.62e-06    -  1.00e+00 1.00e+00w  1\n",
      "iter    objective    inf_pr   inf_du lg(mu)  ||d||  lg(rg) alpha_du alpha_pr  ls\n",
      " 230  4.3557888e+00 0.00e+00 2.37e-05  -9.0 4.25e-07    -  1.00e+00 1.00e+00w  1\n",
      " 231  4.3557888e+00 0.00e+00 1.04e-05  -9.0 3.41e-07    -  1.00e+00 5.68e-14f 44\n",
      " 232  4.3557888e+00 0.00e+00 1.04e-05  -9.0 1.49e-07    -  1.00e+00 3.64e-12f 39\n",
      " 233  4.3557888e+00 0.00e+00 1.04e-05  -9.0 1.49e-07    -  1.00e+00 3.64e-12f 39\n",
      " 234  4.3557888e+00 0.00e+00 1.04e-05  -9.0 1.04e-05    -  1.00e+00 5.68e-14f 45\n",
      " 235  4.3557888e+00 0.00e+00 1.04e-05  -9.0 1.04e-05    -  1.00e+00 5.68e-14f 45\n",
      " 236  4.3557888e+00 0.00e+00 1.04e-05  -9.0 1.04e-05    -  1.00e+00 5.68e-14f 45\n",
      " 237  4.3557888e+00 0.00e+00 1.04e-05  -9.0 1.04e-05    -  1.00e+00 5.68e-14f 45\n",
      " 238  4.3557888e+00 0.00e+00 1.04e-05  -9.0 1.04e-05    -  1.00e+00 5.68e-14f 45\n",
      " 239  4.3557888e+00 0.00e+00 1.04e-05  -9.0 1.04e-05    -  1.00e+00 5.68e-14f 45\n",
      "iter    objective    inf_pr   inf_du lg(mu)  ||d||  lg(rg) alpha_du alpha_pr  ls\n",
      " 240  4.3557888e+00 0.00e+00 1.04e-05  -9.0 1.04e-05    -  1.00e+00 5.68e-14f 45\n",
      " 241  4.3557888e+00 0.00e+00 1.36e-04  -9.0 1.04e-05    -  1.00e+00 1.00e+00w  1\n",
      " 242  4.3557888e+00 0.00e+00 5.77e-06  -9.0 9.62e-06    -  1.00e+00 1.00e+00w  1\n",
      " 243  4.3557888e+00 0.00e+00 2.37e-05  -9.0 4.25e-07    -  1.00e+00 1.00e+00w  1\n",
      " 244  4.3557888e+00 0.00e+00 1.04e-05  -9.0 3.41e-07    -  1.00e+00 5.68e-14f 44\n",
      " 245  4.3557888e+00 0.00e+00 1.04e-05  -9.0 1.49e-07    -  1.00e+00 3.64e-12f 39\n",
      " 246  4.3557888e+00 0.00e+00 1.04e-05  -9.0 1.49e-07    -  1.00e+00 3.64e-12f 39\n",
      " 247  4.3557888e+00 0.00e+00 1.04e-05  -9.0 1.04e-05    -  1.00e+00 5.68e-14f 45\n",
      " 248  4.3557888e+00 0.00e+00 1.04e-05  -9.0 1.04e-05    -  1.00e+00 5.68e-14f 45\n",
      " 249  4.3557888e+00 0.00e+00 1.04e-05  -9.0 1.04e-05    -  1.00e+00 5.68e-14f 45\n",
      "iter    objective    inf_pr   inf_du lg(mu)  ||d||  lg(rg) alpha_du alpha_pr  ls\n",
      " 250  4.3557888e+00 0.00e+00 1.04e-05  -9.0 1.04e-05    -  1.00e+00 5.68e-14f 45\n",
      " 251  4.3557888e+00 0.00e+00 1.04e-05  -9.0 1.04e-05    -  1.00e+00 5.68e-14f 45\n",
      " 252  4.3557888e+00 0.00e+00 1.04e-05  -9.0 1.04e-05    -  1.00e+00 5.68e-14f 45\n",
      " 253  4.3557888e+00 0.00e+00 1.04e-05  -9.0 1.04e-05    -  1.00e+00 5.68e-14f 45\n",
      " 254  4.3557888e+00 0.00e+00 1.36e-04  -9.0 1.04e-05    -  1.00e+00 1.00e+00w  1\n",
      " 255  4.3557888e+00 0.00e+00 5.77e-06  -9.0 9.62e-06    -  1.00e+00 1.00e+00w  1\n",
      " 256  4.3557888e+00 0.00e+00 2.37e-05  -9.0 4.25e-07    -  1.00e+00 1.00e+00w  1\n",
      " 257  4.3557888e+00 0.00e+00 1.04e-05  -9.0 3.41e-07    -  1.00e+00 5.68e-14f 44\n",
      " 258  4.3557888e+00 0.00e+00 1.04e-05  -9.0 1.49e-07    -  1.00e+00 3.64e-12f 39\n",
      " 259  4.3557888e+00 0.00e+00 1.04e-05  -9.0 1.49e-07    -  1.00e+00 3.64e-12f 39\n",
      "iter    objective    inf_pr   inf_du lg(mu)  ||d||  lg(rg) alpha_du alpha_pr  ls\n",
      " 260  4.3557888e+00 0.00e+00 1.04e-05  -9.0 1.04e-05    -  1.00e+00 5.68e-14f 45\n",
      " 261  4.3557888e+00 0.00e+00 1.04e-05  -9.0 1.04e-05    -  1.00e+00 5.68e-14f 45\n",
      " 262  4.3557888e+00 0.00e+00 1.04e-05  -9.0 1.04e-05    -  1.00e+00 5.68e-14f 45\n",
      " 263  4.3557888e+00 0.00e+00 1.04e-05  -9.0 1.04e-05    -  1.00e+00 5.68e-14f 45\n",
      " 264  4.3557888e+00 0.00e+00 1.04e-05  -9.0 1.04e-05    -  1.00e+00 5.68e-14f 45\n",
      " 265  4.3557888e+00 0.00e+00 1.04e-05  -9.0 1.04e-05    -  1.00e+00 5.68e-14f 45\n",
      " 266  4.3557888e+00 0.00e+00 1.04e-05  -9.0 1.04e-05    -  1.00e+00 5.68e-14f 45\n",
      " 267  4.3557888e+00 0.00e+00 1.36e-04  -9.0 1.04e-05    -  1.00e+00 1.00e+00w  1\n",
      " 268  4.3557888e+00 0.00e+00 5.77e-06  -9.0 9.62e-06    -  1.00e+00 1.00e+00w  1\n",
      " 269  4.3557888e+00 0.00e+00 2.37e-05  -9.0 4.25e-07    -  1.00e+00 1.00e+00w  1\n",
      "iter    objective    inf_pr   inf_du lg(mu)  ||d||  lg(rg) alpha_du alpha_pr  ls\n",
      " 270  4.3557888e+00 0.00e+00 1.04e-05  -9.0 3.41e-07    -  1.00e+00 5.68e-14f 44\n",
      " 271  4.3557888e+00 0.00e+00 1.04e-05  -9.0 1.49e-07    -  1.00e+00 3.64e-12f 39\n",
      " 272  4.3557888e+00 0.00e+00 1.04e-05  -9.0 1.49e-07    -  1.00e+00 3.64e-12f 39\n",
      " 273  4.3557888e+00 0.00e+00 1.04e-05  -9.0 1.04e-05    -  1.00e+00 5.68e-14f 45\n",
      " 274  4.3557888e+00 0.00e+00 1.04e-05  -9.0 1.04e-05    -  1.00e+00 5.68e-14f 45\n",
      " 275  4.3557888e+00 0.00e+00 1.04e-05  -9.0 1.04e-05    -  1.00e+00 5.68e-14f 45\n",
      " 276  4.3557888e+00 0.00e+00 1.04e-05  -9.0 1.04e-05    -  1.00e+00 5.68e-14f 45\n",
      " 277  4.3557888e+00 0.00e+00 1.04e-05  -9.0 1.04e-05    -  1.00e+00 5.68e-14f 45\n",
      " 278  4.3557888e+00 0.00e+00 1.04e-05  -9.0 1.04e-05    -  1.00e+00 5.68e-14f 45\n",
      " 279  4.3557888e+00 0.00e+00 1.04e-05  -9.0 1.04e-05    -  1.00e+00 5.68e-14f 45\n",
      "iter    objective    inf_pr   inf_du lg(mu)  ||d||  lg(rg) alpha_du alpha_pr  ls\n",
      " 280  4.3557888e+00 0.00e+00 1.36e-04  -9.0 1.04e-05    -  1.00e+00 1.00e+00w  1\n",
      " 281  4.3557888e+00 0.00e+00 5.77e-06  -9.0 9.62e-06    -  1.00e+00 1.00e+00w  1\n",
      " 282  4.3557888e+00 0.00e+00 2.37e-05  -9.0 4.25e-07    -  1.00e+00 1.00e+00w  1\n",
      " 283  4.3557888e+00 0.00e+00 1.04e-05  -9.0 3.41e-07    -  1.00e+00 5.68e-14f 44\n",
      " 284  4.3557888e+00 0.00e+00 1.04e-05  -9.0 1.49e-07    -  1.00e+00 3.64e-12f 39\n",
      " 285  4.3557888e+00 0.00e+00 1.04e-05  -9.0 1.49e-07    -  1.00e+00 3.64e-12f 39\n",
      " 286  4.3557888e+00 0.00e+00 1.04e-05  -9.0 1.04e-05    -  1.00e+00 5.68e-14f 45\n",
      " 287  4.3557888e+00 0.00e+00 1.04e-05  -9.0 1.04e-05    -  1.00e+00 5.68e-14f 45\n",
      " 288  4.3557888e+00 0.00e+00 1.04e-05  -9.0 1.04e-05    -  1.00e+00 5.68e-14f 45\n",
      " 289  4.3557888e+00 0.00e+00 1.04e-05  -9.0 1.04e-05    -  1.00e+00 5.68e-14f 45\n",
      "iter    objective    inf_pr   inf_du lg(mu)  ||d||  lg(rg) alpha_du alpha_pr  ls\n",
      " 290  4.3557888e+00 0.00e+00 1.04e-05  -9.0 1.04e-05    -  1.00e+00 5.68e-14f 45\n",
      " 291  4.3557888e+00 0.00e+00 1.04e-05  -9.0 1.04e-05    -  1.00e+00 5.68e-14f 45\n",
      " 292  4.3557888e+00 0.00e+00 1.04e-05  -9.0 1.04e-05    -  1.00e+00 5.68e-14f 45\n",
      " 293  4.3557888e+00 0.00e+00 1.36e-04  -9.0 1.04e-05    -  1.00e+00 1.00e+00w  1\n",
      " 294  4.3557888e+00 0.00e+00 5.77e-06  -9.0 9.62e-06    -  1.00e+00 1.00e+00w  1\n",
      " 295  4.3557888e+00 0.00e+00 2.37e-05  -9.0 4.25e-07    -  1.00e+00 1.00e+00w  1\n",
      " 296  4.3557888e+00 0.00e+00 1.04e-05  -9.0 3.41e-07    -  1.00e+00 5.68e-14f 44\n",
      " 297  4.3557888e+00 0.00e+00 1.04e-05  -9.0 1.49e-07    -  1.00e+00 3.64e-12f 39\n",
      " 298  4.3557888e+00 0.00e+00 1.04e-05  -9.0 1.49e-07    -  1.00e+00 3.64e-12f 39\n",
      " 299  4.3557888e+00 0.00e+00 1.04e-05  -9.0 1.04e-05    -  1.00e+00 5.68e-14f 45\n",
      "iter    objective    inf_pr   inf_du lg(mu)  ||d||  lg(rg) alpha_du alpha_pr  ls\n",
      " 300  4.3557888e+00 0.00e+00 1.04e-05  -9.0 1.04e-05    -  1.00e+00 5.68e-14f 45\n",
      " 301  4.3557888e+00 0.00e+00 1.04e-05  -9.0 1.04e-05    -  1.00e+00 5.68e-14f 45\n",
      " 302  4.3557888e+00 0.00e+00 1.04e-05  -9.0 1.04e-05    -  1.00e+00 5.68e-14f 45\n",
      " 303  4.3557888e+00 0.00e+00 1.04e-05  -9.0 1.04e-05    -  1.00e+00 5.68e-14f 45\n",
      " 304  4.3557888e+00 0.00e+00 1.04e-05  -9.0 1.04e-05    -  1.00e+00 5.68e-14f 45\n",
      " 305  4.3557888e+00 0.00e+00 1.04e-05  -9.0 1.04e-05    -  1.00e+00 5.68e-14f 45\n",
      " 306  4.3557888e+00 0.00e+00 1.36e-04  -9.0 1.04e-05    -  1.00e+00 1.00e+00w  1\n",
      " 307  4.3557888e+00 0.00e+00 5.77e-06  -9.0 9.62e-06    -  1.00e+00 1.00e+00w  1\n",
      " 308  4.3557888e+00 0.00e+00 2.37e-05  -9.0 4.25e-07    -  1.00e+00 1.00e+00w  1\n",
      " 309  4.3557888e+00 0.00e+00 1.04e-05  -9.0 3.41e-07    -  1.00e+00 5.68e-14f 44\n",
      "iter    objective    inf_pr   inf_du lg(mu)  ||d||  lg(rg) alpha_du alpha_pr  ls\n",
      " 310  4.3557888e+00 0.00e+00 1.04e-05  -9.0 1.49e-07    -  1.00e+00 3.64e-12f 39\n",
      " 311  4.3557888e+00 0.00e+00 1.04e-05  -9.0 1.49e-07    -  1.00e+00 3.64e-12f 39\n",
      " 312  4.3557888e+00 0.00e+00 1.04e-05  -9.0 1.04e-05    -  1.00e+00 5.68e-14f 45\n",
      " 313  4.3557888e+00 0.00e+00 1.04e-05  -9.0 1.04e-05    -  1.00e+00 5.68e-14f 45\n",
      " 314  4.3557888e+00 0.00e+00 1.04e-05  -9.0 1.04e-05    -  1.00e+00 5.68e-14f 45\n",
      " 315  4.3557888e+00 0.00e+00 1.04e-05  -9.0 1.04e-05    -  1.00e+00 5.68e-14f 45\n",
      " 316  4.3557888e+00 0.00e+00 1.04e-05  -9.0 1.04e-05    -  1.00e+00 5.68e-14f 45\n",
      " 317  4.3557888e+00 0.00e+00 1.04e-05  -9.0 1.04e-05    -  1.00e+00 5.68e-14f 45\n",
      " 318  4.3557888e+00 0.00e+00 1.04e-05  -9.0 1.04e-05    -  1.00e+00 5.68e-14f 45\n",
      " 319  4.3557888e+00 0.00e+00 1.36e-04  -9.0 1.04e-05    -  1.00e+00 1.00e+00w  1\n",
      "iter    objective    inf_pr   inf_du lg(mu)  ||d||  lg(rg) alpha_du alpha_pr  ls\n",
      " 320  4.3557888e+00 0.00e+00 5.77e-06  -9.0 9.62e-06    -  1.00e+00 1.00e+00w  1\n"
     ]
    },
    {
     "name": "stderr",
     "output_type": "stream",
     "text": [
      "Exception ignored in: <bound method WeakStructRef._cleanup of WeakStructRef(HashableWeakRef(<weakref at 0x7f9723f66090; dead>))>\n",
      "Traceback (most recent call last):\n",
      "  File \"/usr/lib/python3.9/site-packages/tensorflow_probability/python/internal/cache_util.py\", line 153, in _cleanup\n",
      "    if self._alive:\n",
      "AttributeError: _alive\n"
     ]
    },
    {
     "name": "stdout",
     "output_type": "stream",
     "text": [
      " 321  4.3557888e+00 0.00e+00 2.37e-05  -9.0 4.25e-07    -  1.00e+00 1.00e+00w  1\n",
      "Warning: Cutting back alpha due to evaluation error\n"
     ]
    },
    {
     "name": "stderr",
     "output_type": "stream",
     "text": [
      "CasADi - 2021-04-15 15:16:54 WARNING(\"solver:nlp_f failed:Error in Function::operator() for 'nlp_f' [MXFunction] at .../casadi/core/function.cpp:1368:\n",
      "Error in Function::operator() for 'GPR' [CallbackInternal] at .../casadi/core/function.cpp:1368:\n",
      ".../casadi/core/function_internal.cpp:3366: Failed to evaluate 'eval_dm' for GPR:\n",
      ".../casadi/core/callback_internal.cpp:122: Error calling \"eval\" for object GPR:\n",
      "KeyboardInterrupt\") [.../casadi/core/oracle_function.cpp:223]\n"
     ]
    },
    {
     "name": "stdout",
     "output_type": "stream",
     "text": [
      " 322  4.3557888e+00 0.00e+00 1.04e-05  -9.0 3.41e-07    -  1.00e+00 5.68e-14f 44\n",
      " 323  4.3557888e+00 0.00e+00 1.04e-05  -9.0 1.49e-07    -  1.00e+00 3.64e-12f 39\n",
      " 324  4.3557888e+00 0.00e+00 1.04e-05  -9.0 1.49e-07    -  1.00e+00 3.64e-12f 39\n",
      " 325  4.3557888e+00 0.00e+00 1.04e-05  -9.0 1.04e-05    -  1.00e+00 5.68e-14f 45\n",
      " 326  4.3557888e+00 0.00e+00 1.04e-05  -9.0 1.04e-05    -  1.00e+00 5.68e-14f 45\n",
      " 327  4.3557888e+00 0.00e+00 1.04e-05  -9.0 1.04e-05    -  1.00e+00 5.68e-14f 45\n",
      " 328  4.3557888e+00 0.00e+00 1.04e-05  -9.0 1.04e-05    -  1.00e+00 5.68e-14f 45\n",
      " 329  4.3557888e+00 0.00e+00 1.04e-05  -9.0 1.04e-05    -  1.00e+00 5.68e-14f 45\n",
      "iter    objective    inf_pr   inf_du lg(mu)  ||d||  lg(rg) alpha_du alpha_pr  ls\n",
      " 330  4.3557888e+00 0.00e+00 1.04e-05  -9.0 1.04e-05    -  1.00e+00 5.68e-14f 45\n",
      " 331  4.3557888e+00 0.00e+00 1.04e-05  -9.0 1.04e-05    -  1.00e+00 5.68e-14f 45\n",
      " 332  4.3557888e+00 0.00e+00 1.36e-04  -9.0 1.04e-05    -  1.00e+00 1.00e+00w  1\n",
      " 333  4.3557888e+00 0.00e+00 5.77e-06  -9.0 9.62e-06    -  1.00e+00 1.00e+00w  1\n",
      " 334  4.3557888e+00 0.00e+00 2.37e-05  -9.0 4.25e-07    -  1.00e+00 1.00e+00w  1\n",
      " 335  4.3557888e+00 0.00e+00 1.04e-05  -9.0 3.41e-07    -  1.00e+00 5.68e-14f 44\n",
      " 336  4.3557888e+00 0.00e+00 1.04e-05  -9.0 1.49e-07    -  1.00e+00 3.64e-12f 39\n",
      " 337  4.3557888e+00 0.00e+00 1.04e-05  -9.0 1.49e-07    -  1.00e+00 3.64e-12f 39\n",
      " 338  4.3557888e+00 0.00e+00 1.04e-05  -9.0 1.04e-05    -  1.00e+00 5.68e-14f 45\n",
      " 339  4.3557888e+00 0.00e+00 1.04e-05  -9.0 1.04e-05    -  1.00e+00 5.68e-14f 45\n",
      "iter    objective    inf_pr   inf_du lg(mu)  ||d||  lg(rg) alpha_du alpha_pr  ls\n",
      " 340  4.3557888e+00 0.00e+00 1.04e-05  -9.0 1.04e-05    -  1.00e+00 5.68e-14f 45\n",
      " 341  4.3557888e+00 0.00e+00 1.04e-05  -9.0 1.04e-05    -  1.00e+00 5.68e-14f 45\n",
      " 342  4.3557888e+00 0.00e+00 1.04e-05  -9.0 1.04e-05    -  1.00e+00 5.68e-14f 45\n",
      " 343  4.3557888e+00 0.00e+00 1.04e-05  -9.0 1.04e-05    -  1.00e+00 5.68e-14f 45\n",
      " 344  4.3557888e+00 0.00e+00 1.04e-05  -9.0 1.04e-05    -  1.00e+00 5.68e-14f 45\n",
      " 345  4.3557888e+00 0.00e+00 1.36e-04  -9.0 1.04e-05    -  1.00e+00 1.00e+00w  1\n",
      " 346  4.3557888e+00 0.00e+00 5.77e-06  -9.0 9.62e-06    -  1.00e+00 1.00e+00w  1\n",
      " 347  4.3557888e+00 0.00e+00 2.37e-05  -9.0 4.25e-07    -  1.00e+00 1.00e+00w  1\n",
      " 348  4.3557888e+00 0.00e+00 1.04e-05  -9.0 3.41e-07    -  1.00e+00 5.68e-14f 44\n",
      " 349  4.3557888e+00 0.00e+00 1.04e-05  -9.0 1.49e-07    -  1.00e+00 3.64e-12f 39\n",
      "iter    objective    inf_pr   inf_du lg(mu)  ||d||  lg(rg) alpha_du alpha_pr  ls\n",
      " 350  4.3557888e+00 0.00e+00 1.04e-05  -9.0 1.49e-07    -  1.00e+00 3.64e-12f 39\n",
      " 351  4.3557888e+00 0.00e+00 1.04e-05  -9.0 1.04e-05    -  1.00e+00 5.68e-14f 45\n",
      " 352  4.3557888e+00 0.00e+00 1.04e-05  -9.0 1.04e-05    -  1.00e+00 5.68e-14f 45\n",
      " 353  4.3557888e+00 0.00e+00 1.04e-05  -9.0 1.04e-05    -  1.00e+00 5.68e-14f 45\n",
      " 354  4.3557888e+00 0.00e+00 1.04e-05  -9.0 1.04e-05    -  1.00e+00 5.68e-14f 45\n",
      " 355  4.3557888e+00 0.00e+00 1.04e-05  -9.0 1.04e-05    -  1.00e+00 5.68e-14f 45\n",
      " 356  4.3557888e+00 0.00e+00 1.04e-05  -9.0 1.04e-05    -  1.00e+00 5.68e-14f 45\n",
      " 357  4.3557888e+00 0.00e+00 1.04e-05  -9.0 1.04e-05    -  1.00e+00 5.68e-14f 45\n",
      " 358  4.3557888e+00 0.00e+00 1.36e-04  -9.0 1.04e-05    -  1.00e+00 1.00e+00w  1\n",
      " 359  4.3557888e+00 0.00e+00 5.77e-06  -9.0 9.62e-06    -  1.00e+00 1.00e+00w  1\n",
      "iter    objective    inf_pr   inf_du lg(mu)  ||d||  lg(rg) alpha_du alpha_pr  ls\n",
      " 360  4.3557888e+00 0.00e+00 2.37e-05  -9.0 4.25e-07    -  1.00e+00 1.00e+00w  1\n",
      " 361  4.3557888e+00 0.00e+00 1.04e-05  -9.0 3.41e-07    -  1.00e+00 5.68e-14f 44\n",
      " 362  4.3557888e+00 0.00e+00 1.04e-05  -9.0 1.49e-07    -  1.00e+00 3.64e-12f 39\n",
      " 363  4.3557888e+00 0.00e+00 1.04e-05  -9.0 1.49e-07    -  1.00e+00 3.64e-12f 39\n",
      " 364  4.3557888e+00 0.00e+00 1.04e-05  -9.0 1.04e-05    -  1.00e+00 5.68e-14f 45\n",
      " 365  4.3557888e+00 0.00e+00 1.04e-05  -9.0 1.04e-05    -  1.00e+00 5.68e-14f 45\n",
      " 366  4.3557888e+00 0.00e+00 1.04e-05  -9.0 1.04e-05    -  1.00e+00 5.68e-14f 45\n",
      " 367  4.3557888e+00 0.00e+00 1.04e-05  -9.0 1.04e-05    -  1.00e+00 5.68e-14f 45\n",
      " 368  4.3557888e+00 0.00e+00 1.04e-05  -9.0 1.04e-05    -  1.00e+00 5.68e-14f 45\n",
      " 369  4.3557888e+00 0.00e+00 1.04e-05  -9.0 1.04e-05    -  1.00e+00 5.68e-14f 45\n",
      "iter    objective    inf_pr   inf_du lg(mu)  ||d||  lg(rg) alpha_du alpha_pr  ls\n",
      " 370  4.3557888e+00 0.00e+00 1.04e-05  -9.0 1.04e-05    -  1.00e+00 5.68e-14f 45\n",
      " 371  4.3557888e+00 0.00e+00 1.36e-04  -9.0 1.04e-05    -  1.00e+00 1.00e+00w  1\n",
      " 372  4.3557888e+00 0.00e+00 5.77e-06  -9.0 9.62e-06    -  1.00e+00 1.00e+00w  1\n",
      " 373  4.3557888e+00 0.00e+00 2.37e-05  -9.0 4.25e-07    -  1.00e+00 1.00e+00w  1\n",
      " 374  4.3557888e+00 0.00e+00 1.04e-05  -9.0 3.41e-07    -  1.00e+00 5.68e-14f 44\n",
      " 375  4.3557888e+00 0.00e+00 1.04e-05  -9.0 1.49e-07    -  1.00e+00 3.64e-12f 39\n",
      " 376  4.3557888e+00 0.00e+00 1.04e-05  -9.0 1.49e-07    -  1.00e+00 3.64e-12f 39\n",
      " 377  4.3557888e+00 0.00e+00 1.04e-05  -9.0 1.04e-05    -  1.00e+00 5.68e-14f 45\n",
      " 378  4.3557888e+00 0.00e+00 1.04e-05  -9.0 1.04e-05    -  1.00e+00 5.68e-14f 45\n",
      " 379  4.3557888e+00 0.00e+00 1.04e-05  -9.0 1.04e-05    -  1.00e+00 5.68e-14f 45\n",
      "iter    objective    inf_pr   inf_du lg(mu)  ||d||  lg(rg) alpha_du alpha_pr  ls\n",
      " 380  4.3557888e+00 0.00e+00 1.04e-05  -9.0 1.04e-05    -  1.00e+00 5.68e-14f 45\n",
      " 381  4.3557888e+00 0.00e+00 1.04e-05  -9.0 1.04e-05    -  1.00e+00 5.68e-14f 45\n",
      " 382  4.3557888e+00 0.00e+00 1.04e-05  -9.0 1.04e-05    -  1.00e+00 5.68e-14f 45\n",
      " 383  4.3557888e+00 0.00e+00 1.04e-05  -9.0 1.04e-05    -  1.00e+00 5.68e-14f 45\n",
      " 384  4.3557888e+00 0.00e+00 1.36e-04  -9.0 1.04e-05    -  1.00e+00 1.00e+00w  1\n",
      " 385  4.3557888e+00 0.00e+00 5.77e-06  -9.0 9.62e-06    -  1.00e+00 1.00e+00w  1\n",
      " 386  4.3557888e+00 0.00e+00 2.37e-05  -9.0 4.25e-07    -  1.00e+00 1.00e+00w  1\n",
      " 387  4.3557888e+00 0.00e+00 1.04e-05  -9.0 3.41e-07    -  1.00e+00 5.68e-14f 44\n",
      " 388  4.3557888e+00 0.00e+00 1.04e-05  -9.0 1.49e-07    -  1.00e+00 3.64e-12f 39\n",
      " 389  4.3557888e+00 0.00e+00 1.04e-05  -9.0 1.49e-07    -  1.00e+00 3.64e-12f 39\n",
      "iter    objective    inf_pr   inf_du lg(mu)  ||d||  lg(rg) alpha_du alpha_pr  ls\n",
      " 390  4.3557888e+00 0.00e+00 1.04e-05  -9.0 1.04e-05    -  1.00e+00 5.68e-14f 45\n",
      " 391  4.3557888e+00 0.00e+00 1.04e-05  -9.0 1.04e-05    -  1.00e+00 5.68e-14f 45\n",
      " 392  4.3557888e+00 0.00e+00 1.04e-05  -9.0 1.04e-05    -  1.00e+00 5.68e-14f 45\n",
      " 393  4.3557888e+00 0.00e+00 1.04e-05  -9.0 1.04e-05    -  1.00e+00 5.68e-14f 45\n",
      " 394  4.3557888e+00 0.00e+00 1.04e-05  -9.0 1.04e-05    -  1.00e+00 5.68e-14f 45\n",
      " 395  4.3557888e+00 0.00e+00 1.04e-05  -9.0 1.04e-05    -  1.00e+00 5.68e-14f 45\n",
      " 396  4.3557888e+00 0.00e+00 1.04e-05  -9.0 1.04e-05    -  1.00e+00 5.68e-14f 45\n",
      " 397  4.3557888e+00 0.00e+00 1.36e-04  -9.0 1.04e-05    -  1.00e+00 1.00e+00w  1\n",
      " 398  4.3557888e+00 0.00e+00 5.77e-06  -9.0 9.62e-06    -  1.00e+00 1.00e+00w  1\n",
      " 399  4.3557888e+00 0.00e+00 2.37e-05  -9.0 4.25e-07    -  1.00e+00 1.00e+00w  1\n",
      "iter    objective    inf_pr   inf_du lg(mu)  ||d||  lg(rg) alpha_du alpha_pr  ls\n",
      " 400  4.3557888e+00 0.00e+00 1.04e-05  -9.0 3.41e-07    -  1.00e+00 5.68e-14f 44\n",
      "Warning: Cutting back alpha due to evaluation error\n"
     ]
    },
    {
     "name": "stderr",
     "output_type": "stream",
     "text": [
      "CasADi - 2021-04-15 15:17:28 WARNING(\"solver:nlp_f failed:Error in Function::operator() for 'nlp_f' [MXFunction] at .../casadi/core/function.cpp:1368:\n",
      "Error in Function::operator() for 'GPR' [CallbackInternal] at .../casadi/core/function.cpp:1368:\n",
      ".../casadi/core/function_internal.cpp:3366: Failed to evaluate 'eval_dm' for GPR:\n",
      ".../casadi/core/callback_internal.cpp:122: Error calling \"eval\" for object GPR:\n",
      "KeyboardInterrupt\") [.../casadi/core/oracle_function.cpp:223]\n",
      "Exception ignored in: <bound method WeakStructRef._cleanup of WeakStructRef(HashableWeakRef(<weakref at 0x7f97236725e0; dead>))>\n",
      "Traceback (most recent call last):\n",
      "  File \"/usr/lib/python3.9/site-packages/tensorflow_probability/python/internal/cache_util.py\", line 153, in _cleanup\n",
      "    if self._alive:\n",
      "AttributeError: _alive\n",
      "CasADi - 2021-04-15 15:17:28 WARNING(\"solver:nlp_f failed:Error in Function::operator() for 'nlp_f' [MXFunction] at .../casadi/core/function.cpp:1368:\n",
      "Error in Function::operator() for 'GPR' [CallbackInternal] at .../casadi/core/function.cpp:1368:\n",
      ".../casadi/core/function_internal.cpp:3366: Failed to evaluate 'eval_dm' for GPR:\n",
      ".../casadi/core/callback_internal.cpp:122: Error calling \"eval\" for object GPR:\n",
      "KeyboardInterrupt\") [.../casadi/core/oracle_function.cpp:223]\n",
      "CasADi - 2021-04-15 15:17:28 WARNING(\"solver:nlp_f failed:Error in Function::operator() for 'nlp_f' [MXFunction] at .../casadi/core/function.cpp:1368:\n",
      "Error in Function::operator() for 'GPR' [CallbackInternal] at .../casadi/core/function.cpp:1368:\n",
      ".../casadi/core/function_internal.cpp:3366: Failed to evaluate 'eval_dm' for GPR:\n",
      ".../casadi/core/callback_internal.cpp:122: Error calling \"eval\" for object GPR:\n",
      "KeyboardInterrupt\") [.../casadi/core/oracle_function.cpp:223]\n"
     ]
    },
    {
     "name": "stdout",
     "output_type": "stream",
     "text": [
      "Warning: Cutting back alpha due to evaluation error\n",
      "Warning: Cutting back alpha due to evaluation error\n",
      " 401  4.3557888e+00 0.00e+00 1.04e-05  -9.0 1.49e-07    -  1.00e+00 3.64e-12f 39\n",
      " 402  4.3557888e+00 0.00e+00 1.04e-05  -9.0 1.49e-07    -  1.00e+00 3.64e-12f 39\n",
      " 403  4.3557888e+00 0.00e+00 1.04e-05  -9.0 1.04e-05    -  1.00e+00 5.68e-14f 45\n",
      " 404  4.3557888e+00 0.00e+00 1.04e-05  -9.0 1.04e-05    -  1.00e+00 5.68e-14f 45\n",
      " 405  4.3557888e+00 0.00e+00 1.04e-05  -9.0 1.04e-05    -  1.00e+00 5.68e-14f 45\n",
      " 406  4.3557888e+00 0.00e+00 1.04e-05  -9.0 1.04e-05    -  1.00e+00 5.68e-14f 45\n",
      "Warning: Cutting back alpha due to evaluation error\n"
     ]
    },
    {
     "name": "stderr",
     "output_type": "stream",
     "text": [
      "CasADi - 2021-04-15 15:17:31 WARNING(\"solver:nlp_f failed:Error in Function::operator() for 'nlp_f' [MXFunction] at .../casadi/core/function.cpp:1368:\n",
      "Error in Function::operator() for 'GPR' [CallbackInternal] at .../casadi/core/function.cpp:1368:\n",
      ".../casadi/core/function_internal.cpp:3366: Failed to evaluate 'eval_dm' for GPR:\n",
      ".../casadi/core/callback_internal.cpp:122: Error calling \"eval\" for object GPR:\n",
      "KeyboardInterrupt\") [.../casadi/core/oracle_function.cpp:223]\n",
      "Exception ignored in: <bound method WeakStructRef._cleanup of WeakStructRef(HashableWeakRef(<weakref at 0x7f9723545770; dead>))>\n",
      "Traceback (most recent call last):\n",
      "  File \"/usr/lib/python3.9/site-packages/tensorflow_probability/python/internal/cache_util.py\", line 153, in _cleanup\n",
      "    if self._alive:\n",
      "AttributeError: _alive\n",
      "CasADi - 2021-04-15 15:17:31 WARNING(\"solver:nlp_f failed:Error in Function::operator() for 'nlp_f' [MXFunction] at .../casadi/core/function.cpp:1368:\n",
      "Error in Function::operator() for 'GPR' [CallbackInternal] at .../casadi/core/function.cpp:1368:\n",
      ".../casadi/core/function_internal.cpp:3366: Failed to evaluate 'eval_dm' for GPR:\n",
      ".../casadi/core/callback_internal.cpp:122: Error calling \"eval\" for object GPR:\n",
      "KeyboardInterrupt\") [.../casadi/core/oracle_function.cpp:223]\n"
     ]
    },
    {
     "name": "stdout",
     "output_type": "stream",
     "text": [
      "Warning: Cutting back alpha due to evaluation error\n"
     ]
    },
    {
     "name": "stderr",
     "output_type": "stream",
     "text": [
      "Exception ignored in: <bound method WeakStructRef._cleanup of WeakStructRef(HashableWeakRef(<weakref at 0x7f9723559720; dead>))>\n",
      "Traceback (most recent call last):\n",
      "  File \"/usr/lib/python3.9/site-packages/tensorflow_probability/python/internal/cache_util.py\", line 153, in _cleanup\n",
      "    if self._alive:\n",
      "AttributeError: _alive\n"
     ]
    },
    {
     "name": "stdout",
     "output_type": "stream",
     "text": [
      " 407  4.3557888e+00 0.00e+00 1.04e-05  -9.0 1.04e-05    -  1.00e+00 5.68e-14f 45\n",
      "Warning: SOC step rejected due to evaluation error\n"
     ]
    },
    {
     "name": "stderr",
     "output_type": "stream",
     "text": [
      "CasADi - 2021-04-15 15:17:31 WARNING(\"solver:nlp_f failed:Error in Function::operator() for 'nlp_f' [MXFunction] at .../casadi/core/function.cpp:1368:\n",
      "Error in Function::operator() for 'GPR' [CallbackInternal] at .../casadi/core/function.cpp:1368:\n",
      ".../casadi/core/function_internal.cpp:3366: Failed to evaluate 'eval_dm' for GPR:\n",
      ".../casadi/core/callback_internal.cpp:122: Error calling \"eval\" for object GPR:\n",
      "KeyboardInterrupt\") [.../casadi/core/oracle_function.cpp:223]\n",
      "CasADi - 2021-04-15 15:17:32 WARNING(\"solver:nlp_f failed:Error in Function::operator() for 'nlp_f' [MXFunction] at .../casadi/core/function.cpp:1368:\n",
      "Error in Function::operator() for 'GPR' [CallbackInternal] at .../casadi/core/function.cpp:1368:\n",
      ".../casadi/core/function_internal.cpp:3366: Failed to evaluate 'eval_dm' for GPR:\n",
      ".../casadi/core/callback_internal.cpp:122: Error calling \"eval\" for object GPR:\n",
      "KeyboardInterrupt\") [.../casadi/core/oracle_function.cpp:223]\n"
     ]
    },
    {
     "name": "stdout",
     "output_type": "stream",
     "text": [
      "Warning: Cutting back alpha due to evaluation error\n",
      " 408  4.3557888e+00 0.00e+00 1.04e-05  -9.0 1.04e-05    -  1.00e+00 5.68e-14f 45\n",
      "Warning: Cutting back alpha due to evaluation error\n"
     ]
    },
    {
     "name": "stderr",
     "output_type": "stream",
     "text": [
      "CasADi - 2021-04-15 15:17:32 WARNING(\"solver:nlp_f failed:Error in Function::operator() for 'nlp_f' [MXFunction] at .../casadi/core/function.cpp:1368:\n",
      "Error in Function::operator() for 'GPR' [CallbackInternal] at .../casadi/core/function.cpp:1368:\n",
      ".../casadi/core/function_internal.cpp:3366: Failed to evaluate 'eval_dm' for GPR:\n",
      ".../casadi/core/callback_internal.cpp:122: Error calling \"eval\" for object GPR:\n",
      "KeyboardInterrupt\") [.../casadi/core/oracle_function.cpp:223]\n"
     ]
    },
    {
     "name": "stdout",
     "output_type": "stream",
     "text": [
      " 409  4.3557888e+00 0.00e+00 1.04e-05  -9.0 1.04e-05    -  1.00e+00 5.68e-14f 45\n",
      "iter    objective    inf_pr   inf_du lg(mu)  ||d||  lg(rg) alpha_du alpha_pr  ls\n",
      " 410  4.3557888e+00 0.00e+00 1.36e-04  -9.0 1.04e-05    -  1.00e+00 1.00e+00w  1\n",
      " 411  4.3557888e+00 0.00e+00 5.77e-06  -9.0 9.62e-06    -  1.00e+00 1.00e+00w  1\n",
      " 412  4.3557888e+00 0.00e+00 2.37e-05  -9.0 4.25e-07    -  1.00e+00 1.00e+00w  1\n",
      " 413  4.3557888e+00 0.00e+00 1.04e-05  -9.0 3.41e-07    -  1.00e+00 5.68e-14f 44\n",
      " 414  4.3557888e+00 0.00e+00 1.04e-05  -9.0 1.49e-07    -  1.00e+00 3.64e-12f 39\n",
      " 415  4.3557888e+00 0.00e+00 1.04e-05  -9.0 1.49e-07    -  1.00e+00 3.64e-12f 39\n",
      " 416  4.3557888e+00 0.00e+00 1.04e-05  -9.0 1.04e-05    -  1.00e+00 5.68e-14f 45\n",
      " 417  4.3557888e+00 0.00e+00 1.04e-05  -9.0 1.04e-05    -  1.00e+00 5.68e-14f 45\n",
      "Exception of type: IpoptException in file \"Unknown File\" at line -1:\n",
      " Exception message: Unknown Exception caught in Ipopt\n",
      "      solver  :   t_proc      (avg)   t_wall      (avg)    n_eval\n",
      "       nlp_f  | 123.95 s (  9.99ms) 124.14 s ( 10.00ms)     12411\n",
      "  nlp_grad_f  |  25.20 s ( 60.15ms)  25.25 s ( 60.25ms)       419\n",
      "       total  | 150.03 s (150.03 s) 150.29 s (150.29 s)         1\n"
     ]
    }
   ],
   "source": [
    "\n",
    "\n",
    "solver = cs.nlpsol(\"solver\",\"ipopt\",prob, options)\n",
    "res = solver(lbx = -2, ubx = 2)"
   ]
  },
  {
   "cell_type": "code",
   "execution_count": 40,
   "metadata": {},
   "outputs": [
    {
     "data": {
      "text/plain": [
       "DM(0.0112358)"
      ]
     },
     "execution_count": 40,
     "metadata": {},
     "output_type": "execute_result"
    }
   ],
   "source": [
    "res['x']"
   ]
  },
  {
   "cell_type": "code",
   "execution_count": 41,
   "metadata": {},
   "outputs": [
    {
     "data": {
      "text/plain": [
       "DM(4.35579)"
      ]
     },
     "execution_count": 41,
     "metadata": {},
     "output_type": "execute_result"
    }
   ],
   "source": [
    "res['f']"
   ]
  },
  {
   "cell_type": "code",
   "execution_count": null,
   "metadata": {},
   "outputs": [],
   "source": []
  }
 ],
 "metadata": {
  "kernelspec": {
   "display_name": "Python 3",
   "language": "python",
   "name": "python3"
  },
  "language_info": {
   "codemirror_mode": {
    "name": "ipython",
    "version": 3
   },
   "file_extension": ".py",
   "mimetype": "text/x-python",
   "name": "python",
   "nbconvert_exporter": "python",
   "pygments_lexer": "ipython3",
   "version": "3.9.3"
  }
 },
 "nbformat": 4,
 "nbformat_minor": 4
}
